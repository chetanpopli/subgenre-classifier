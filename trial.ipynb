{
 "metadata": {
  "language_info": {
   "codemirror_mode": {
    "name": "ipython",
    "version": 3
   },
   "file_extension": ".py",
   "mimetype": "text/x-python",
   "name": "python",
   "nbconvert_exporter": "python",
   "pygments_lexer": "ipython3",
   "version": "3.8.5-final"
  },
  "orig_nbformat": 2,
  "kernelspec": {
   "name": "python3",
   "display_name": "Python 3.8.5 64-bit",
   "metadata": {
    "interpreter": {
     "hash": "1520c6ce690310d808624767d2bb633cb737d4b22d0ee2534a4b62dd287c3201"
    }
   }
  }
 },
 "nbformat": 4,
 "nbformat_minor": 2,
 "cells": [
  {
   "cell_type": "code",
   "execution_count": 89,
   "metadata": {},
   "outputs": [],
   "source": [
    "# Imports\n",
    "import os\n",
    "import sys\n",
    "import pandas as pd\n",
    "import numpy as np\n",
    "import spotipy\n",
    "from spotipy.oauth2 import SpotifyClientCredentials\n",
    "import spotipy.util as util\n",
    "\n",
    "from matplotlib import pyplot as plt\n",
    "import seaborn as sns\n",
    "\n",
    "sns.set_style('dark')"
   ]
  },
  {
   "cell_type": "code",
   "execution_count": 100,
   "metadata": {},
   "outputs": [],
   "source": [
    "# Get the username from terminal\n",
    "username = sys.argv[1]\n",
    "\n",
    "os.environ['SPOTIPY_CLIENT_ID'] = '509f1c0827f94cd7af9c842beb26e7ef'\n",
    "os.environ['SPOTIPY_CLIENT_SECRET'] = '83fe375561354e6485bde0e952dc5d70'\n",
    "os.environ['SPOTIPY_REDIRECT_URI'] = 'http://localhost:8888/callback/'\n",
    "\n",
    "cid = '509f1c0827f94cd7af9c842beb26e7ef' # Client ID\n",
    "secret = '83fe375561354e6485bde0e952dc5d70'   # Client Secret ID\n",
    "username = '21ugtw76ynask7ohvvz626ndq' # Spotify Username\n",
    "\n",
    "scope = 'user-library-read playlist-modify-public playlist-read-private'\n",
    "redirect_uri = 'http://localhost:8888/'\n",
    "#http://localhost:8888/callback/\n",
    "\n",
    "client_credentials_manager = SpotifyClientCredentials(client_id=cid, client_secret=secret) \n",
    "sp = spotipy.Spotify(client_credentials_manager=client_credentials_manager)\n",
    "token = util.prompt_for_user_token(username, scope, cid, secret, redirect_uri)\n",
    "\n",
    "if token:\n",
    "    sp = spotipy.Spotify(auth=token)\n",
    "else:\n",
    "    print(\"Can't get token for\", username)"
   ]
  },
  {
   "cell_type": "code",
   "execution_count": 91,
   "metadata": {},
   "outputs": [
    {
     "output_type": "execute_result",
     "data": {
      "text/plain": [
       "       username              playlistid  genre                         title  \\\n",
       "0         Élite  5sPzNVd9MbUwmWd2mA90qB  house    Boiler Room | Techno House   \n",
       "1      Beatport  6Pbk82RPOKWD7k6dNcqq9f  house  Beatport Best New Tech House   \n",
       "2  Mac Peterson  7AUqarp6W3pf0tVFrRvzZw  house             Dirtybird Players   \n",
       "3    Alex Meyer  1NQK1mGamaJmmwNE4iv9PT  house               House/Dirtybird   \n",
       "4    Dave Lloyd  31QIVbCj6M2KkVxMepKS7b  house  Dirtybird//Techhouse by Mack   \n",
       "\n",
       "                                                 url  \n",
       "0  https://open.spotify.com/playlist/5sPzNVd9MbUw...  \n",
       "1  https://open.spotify.com/playlist/6Pbk82RPOKWD...  \n",
       "2  https://open.spotify.com/playlist/7AUqarp6W3pf...  \n",
       "3  https://open.spotify.com/playlist/1NQK1mGamaJm...  \n",
       "4  https://open.spotify.com/playlist/31QIVbCj6M2K...  "
      ],
      "text/html": "<div>\n<style scoped>\n    .dataframe tbody tr th:only-of-type {\n        vertical-align: middle;\n    }\n\n    .dataframe tbody tr th {\n        vertical-align: top;\n    }\n\n    .dataframe thead th {\n        text-align: right;\n    }\n</style>\n<table border=\"1\" class=\"dataframe\">\n  <thead>\n    <tr style=\"text-align: right;\">\n      <th></th>\n      <th>username</th>\n      <th>playlistid</th>\n      <th>genre</th>\n      <th>title</th>\n      <th>url</th>\n    </tr>\n  </thead>\n  <tbody>\n    <tr>\n      <th>0</th>\n      <td>Élite</td>\n      <td>5sPzNVd9MbUwmWd2mA90qB</td>\n      <td>house</td>\n      <td>Boiler Room | Techno House</td>\n      <td>https://open.spotify.com/playlist/5sPzNVd9MbUw...</td>\n    </tr>\n    <tr>\n      <th>1</th>\n      <td>Beatport</td>\n      <td>6Pbk82RPOKWD7k6dNcqq9f</td>\n      <td>house</td>\n      <td>Beatport Best New Tech House</td>\n      <td>https://open.spotify.com/playlist/6Pbk82RPOKWD...</td>\n    </tr>\n    <tr>\n      <th>2</th>\n      <td>Mac Peterson</td>\n      <td>7AUqarp6W3pf0tVFrRvzZw</td>\n      <td>house</td>\n      <td>Dirtybird Players</td>\n      <td>https://open.spotify.com/playlist/7AUqarp6W3pf...</td>\n    </tr>\n    <tr>\n      <th>3</th>\n      <td>Alex Meyer</td>\n      <td>1NQK1mGamaJmmwNE4iv9PT</td>\n      <td>house</td>\n      <td>House/Dirtybird</td>\n      <td>https://open.spotify.com/playlist/1NQK1mGamaJm...</td>\n    </tr>\n    <tr>\n      <th>4</th>\n      <td>Dave Lloyd</td>\n      <td>31QIVbCj6M2KkVxMepKS7b</td>\n      <td>house</td>\n      <td>Dirtybird//Techhouse by Mack</td>\n      <td>https://open.spotify.com/playlist/31QIVbCj6M2K...</td>\n    </tr>\n  </tbody>\n</table>\n</div>"
     },
     "metadata": {},
     "execution_count": 91
    }
   ],
   "source": [
    "genres = ['house', 'techno', 'dnb', 'hardstyle', 'trap']\n",
    "\n",
    "df = pd.read_csv(r'C:\\Users\\Chetan\\Desktop\\College\\Python\\EDM Sub-genre classifier\\playlists.csv')\n",
    "df.head()"
   ]
  },
  {
   "cell_type": "code",
   "execution_count": 92,
   "metadata": {},
   "outputs": [],
   "source": [
    "# These Functions can read more than 100 songs a playlist\n",
    "\n",
    "def show_tracks(results, uriArray):\n",
    "    for i, item in enumerate(results['items']):\n",
    "        track = item['track']\n",
    "        uriArray.append(track['id'])\n",
    "\n",
    "def get_playlist_track_id(username, playlist_id):\n",
    "    trackID = []\n",
    "    results = sp.user_playlist(username, playlist_id)\n",
    "    tracks = results['tracks']\n",
    "    show_tracks(tracks, trackID)\n",
    "    while tracks['next']:\n",
    "            tracks = sp.next(tracks)\n",
    "            show_tracks(tracks, trackID)\n",
    "    return trackID"
   ]
  },
  {
   "cell_type": "code",
   "execution_count": 93,
   "metadata": {},
   "outputs": [
    {
     "output_type": "stream",
     "name": "stdout",
     "text": [
      "0     5sPzNVd9MbUwmWd2mA90qB\n1     6Pbk82RPOKWD7k6dNcqq9f\n2     7AUqarp6W3pf0tVFrRvzZw\n3     1NQK1mGamaJmmwNE4iv9PT\n4     31QIVbCj6M2KkVxMepKS7b\n5     4KpG3uP5U6qZTVjudIaEXD\n6     0FkqYx4Svq7ocZcWB8EoQO\n7     17AUDBv2FGvhzfR8iTVJGN\n8     30ivbx7Xo2ZaQzMY6o6kAE\n9     6o0ylRyAXLzEgHdgEwMvcV\n10    3ZdOIDL0U50U1mUEWKX89S\n11    1C0NBmbbWdOdzC9ffyEDO8\n12    1qAk66HhkzBQfZ5Dfm1Rz1\n13    2A7D9e4xEAU41LZqkytV0g\n14    53VpSxguKCE6Mlju8gutH9\n15    1LXuV5g9D7aazxhPJHgzBW\n16    2K5O9pIjoH71RS83yRBhYj\n17    2t8TjYDBElfre2HYn4hBcG\n18    4DJ0kyC1hd2ARLGQGB7xbW\n19    6J1r02xyO2qkMA9dDNZytJ\n20    0cZwp1JMLPE3Ka0ldwwLnq\nName: playlistid, dtype: object\n21\n"
     ]
    }
   ],
   "source": [
    "list_id_house = df.loc[df['genre'] == 'house', 'playlistid']\n",
    "print(list_id_house)\n",
    "print(len(list_id_house))"
   ]
  },
  {
   "cell_type": "code",
   "execution_count": 94,
   "metadata": {},
   "outputs": [
    {
     "output_type": "stream",
     "name": "stderr",
     "text": [
      "HTTP Error for GET to https://api.spotify.com/v1/playlists/1NQK1mGamaJmmwNE4iv9PT/tracks?offset=200&limit=100&additional_types=track returned 404 due to error\n"
     ]
    },
    {
     "output_type": "error",
     "ename": "SpotifyException",
     "evalue": "http status: 404, code:-1 - https://api.spotify.com/v1/playlists/1NQK1mGamaJmmwNE4iv9PT/tracks?offset=200&limit=100&additional_types=track:\n error, reason: None",
     "traceback": [
      "\u001b[1;31m---------------------------------------------------------------------------\u001b[0m",
      "\u001b[1;31mHTTPError\u001b[0m                                 Traceback (most recent call last)",
      "\u001b[1;32m~\\AppData\\Local\\Programs\\Python\\Python38\\lib\\site-packages\\spotipy\\client.py\u001b[0m in \u001b[0;36m_internal_call\u001b[1;34m(self, method, url, payload, params)\u001b[0m\n\u001b[0;32m    244\u001b[0m \u001b[1;33m\u001b[0m\u001b[0m\n\u001b[1;32m--> 245\u001b[1;33m             \u001b[0mresponse\u001b[0m\u001b[1;33m.\u001b[0m\u001b[0mraise_for_status\u001b[0m\u001b[1;33m(\u001b[0m\u001b[1;33m)\u001b[0m\u001b[1;33m\u001b[0m\u001b[1;33m\u001b[0m\u001b[0m\n\u001b[0m\u001b[0;32m    246\u001b[0m             \u001b[0mresults\u001b[0m \u001b[1;33m=\u001b[0m \u001b[0mresponse\u001b[0m\u001b[1;33m.\u001b[0m\u001b[0mjson\u001b[0m\u001b[1;33m(\u001b[0m\u001b[1;33m)\u001b[0m\u001b[1;33m\u001b[0m\u001b[1;33m\u001b[0m\u001b[0m\n",
      "\u001b[1;32m~\\AppData\\Local\\Programs\\Python\\Python38\\lib\\site-packages\\requests\\models.py\u001b[0m in \u001b[0;36mraise_for_status\u001b[1;34m(self)\u001b[0m\n\u001b[0;32m    940\u001b[0m         \u001b[1;32mif\u001b[0m \u001b[0mhttp_error_msg\u001b[0m\u001b[1;33m:\u001b[0m\u001b[1;33m\u001b[0m\u001b[1;33m\u001b[0m\u001b[0m\n\u001b[1;32m--> 941\u001b[1;33m             \u001b[1;32mraise\u001b[0m \u001b[0mHTTPError\u001b[0m\u001b[1;33m(\u001b[0m\u001b[0mhttp_error_msg\u001b[0m\u001b[1;33m,\u001b[0m \u001b[0mresponse\u001b[0m\u001b[1;33m=\u001b[0m\u001b[0mself\u001b[0m\u001b[1;33m)\u001b[0m\u001b[1;33m\u001b[0m\u001b[1;33m\u001b[0m\u001b[0m\n\u001b[0m\u001b[0;32m    942\u001b[0m \u001b[1;33m\u001b[0m\u001b[0m\n",
      "\u001b[1;31mHTTPError\u001b[0m: 404 Client Error: Not Found for url: https://api.spotify.com/v1/playlists/1NQK1mGamaJmmwNE4iv9PT/tracks?offset=200&limit=100&additional_types=track",
      "\nDuring handling of the above exception, another exception occurred:\n",
      "\u001b[1;31mSpotifyException\u001b[0m                          Traceback (most recent call last)",
      "\u001b[1;32m<ipython-input-94-41f9621a8c85>\u001b[0m in \u001b[0;36m<module>\u001b[1;34m\u001b[0m\n\u001b[0;32m      1\u001b[0m \u001b[0msongs_all\u001b[0m \u001b[1;33m=\u001b[0m \u001b[1;33m[\u001b[0m\u001b[1;33m]\u001b[0m\u001b[1;33m\u001b[0m\u001b[1;33m\u001b[0m\u001b[0m\n\u001b[0;32m      2\u001b[0m \u001b[1;32mfor\u001b[0m \u001b[0mi\u001b[0m \u001b[1;32min\u001b[0m \u001b[0mrange\u001b[0m \u001b[1;33m(\u001b[0m\u001b[1;36m0\u001b[0m\u001b[1;33m,\u001b[0m\u001b[1;36m21\u001b[0m\u001b[1;33m)\u001b[0m\u001b[1;33m:\u001b[0m \u001b[1;31m#Put Length of the playlist wala list here\u001b[0m\u001b[1;33m\u001b[0m\u001b[1;33m\u001b[0m\u001b[0m\n\u001b[1;32m----> 3\u001b[1;33m     \u001b[0msongs\u001b[0m \u001b[1;33m=\u001b[0m \u001b[0mget_playlist_track_id\u001b[0m\u001b[1;33m(\u001b[0m\u001b[0mdf\u001b[0m\u001b[1;33m[\u001b[0m\u001b[1;34m'username'\u001b[0m\u001b[1;33m]\u001b[0m\u001b[1;33m[\u001b[0m\u001b[0mi\u001b[0m\u001b[1;33m]\u001b[0m\u001b[1;33m,\u001b[0m \u001b[0mdf\u001b[0m\u001b[1;33m[\u001b[0m\u001b[1;34m'playlistid'\u001b[0m\u001b[1;33m]\u001b[0m\u001b[1;33m[\u001b[0m\u001b[0mi\u001b[0m\u001b[1;33m]\u001b[0m\u001b[1;33m)\u001b[0m\u001b[1;33m\u001b[0m\u001b[1;33m\u001b[0m\u001b[0m\n\u001b[0m\u001b[0;32m      4\u001b[0m     \u001b[0msongs_all\u001b[0m\u001b[1;33m.\u001b[0m\u001b[0mextend\u001b[0m\u001b[1;33m(\u001b[0m\u001b[0msongs\u001b[0m\u001b[1;33m)\u001b[0m\u001b[1;33m\u001b[0m\u001b[1;33m\u001b[0m\u001b[0m\n",
      "\u001b[1;32m<ipython-input-92-15d0d13620ba>\u001b[0m in \u001b[0;36mget_playlist_track_id\u001b[1;34m(username, playlist_id)\u001b[0m\n\u001b[0;32m     12\u001b[0m     \u001b[0mshow_tracks\u001b[0m\u001b[1;33m(\u001b[0m\u001b[0mtracks\u001b[0m\u001b[1;33m,\u001b[0m \u001b[0mtrackID\u001b[0m\u001b[1;33m)\u001b[0m\u001b[1;33m\u001b[0m\u001b[1;33m\u001b[0m\u001b[0m\n\u001b[0;32m     13\u001b[0m     \u001b[1;32mwhile\u001b[0m \u001b[0mtracks\u001b[0m\u001b[1;33m[\u001b[0m\u001b[1;34m'next'\u001b[0m\u001b[1;33m]\u001b[0m\u001b[1;33m:\u001b[0m\u001b[1;33m\u001b[0m\u001b[1;33m\u001b[0m\u001b[0m\n\u001b[1;32m---> 14\u001b[1;33m             \u001b[0mtracks\u001b[0m \u001b[1;33m=\u001b[0m \u001b[0msp\u001b[0m\u001b[1;33m.\u001b[0m\u001b[0mnext\u001b[0m\u001b[1;33m(\u001b[0m\u001b[0mtracks\u001b[0m\u001b[1;33m)\u001b[0m\u001b[1;33m\u001b[0m\u001b[1;33m\u001b[0m\u001b[0m\n\u001b[0m\u001b[0;32m     15\u001b[0m             \u001b[0mshow_tracks\u001b[0m\u001b[1;33m(\u001b[0m\u001b[0mtracks\u001b[0m\u001b[1;33m,\u001b[0m \u001b[0mtrackID\u001b[0m\u001b[1;33m)\u001b[0m\u001b[1;33m\u001b[0m\u001b[1;33m\u001b[0m\u001b[0m\n\u001b[0;32m     16\u001b[0m     \u001b[1;32mreturn\u001b[0m \u001b[0mtrackID\u001b[0m\u001b[1;33m\u001b[0m\u001b[1;33m\u001b[0m\u001b[0m\n",
      "\u001b[1;32m~\\AppData\\Local\\Programs\\Python\\Python38\\lib\\site-packages\\spotipy\\client.py\u001b[0m in \u001b[0;36mnext\u001b[1;34m(self, result)\u001b[0m\n\u001b[0;32m    313\u001b[0m         \"\"\"\n\u001b[0;32m    314\u001b[0m         \u001b[1;32mif\u001b[0m \u001b[0mresult\u001b[0m\u001b[1;33m[\u001b[0m\u001b[1;34m\"next\"\u001b[0m\u001b[1;33m]\u001b[0m\u001b[1;33m:\u001b[0m\u001b[1;33m\u001b[0m\u001b[1;33m\u001b[0m\u001b[0m\n\u001b[1;32m--> 315\u001b[1;33m             \u001b[1;32mreturn\u001b[0m \u001b[0mself\u001b[0m\u001b[1;33m.\u001b[0m\u001b[0m_get\u001b[0m\u001b[1;33m(\u001b[0m\u001b[0mresult\u001b[0m\u001b[1;33m[\u001b[0m\u001b[1;34m\"next\"\u001b[0m\u001b[1;33m]\u001b[0m\u001b[1;33m)\u001b[0m\u001b[1;33m\u001b[0m\u001b[1;33m\u001b[0m\u001b[0m\n\u001b[0m\u001b[0;32m    316\u001b[0m         \u001b[1;32melse\u001b[0m\u001b[1;33m:\u001b[0m\u001b[1;33m\u001b[0m\u001b[1;33m\u001b[0m\u001b[0m\n\u001b[0;32m    317\u001b[0m             \u001b[1;32mreturn\u001b[0m \u001b[1;32mNone\u001b[0m\u001b[1;33m\u001b[0m\u001b[1;33m\u001b[0m\u001b[0m\n",
      "\u001b[1;32m~\\AppData\\Local\\Programs\\Python\\Python38\\lib\\site-packages\\spotipy\\client.py\u001b[0m in \u001b[0;36m_get\u001b[1;34m(self, url, args, payload, **kwargs)\u001b[0m\n\u001b[0;32m    289\u001b[0m             \u001b[0mkwargs\u001b[0m\u001b[1;33m.\u001b[0m\u001b[0mupdate\u001b[0m\u001b[1;33m(\u001b[0m\u001b[0margs\u001b[0m\u001b[1;33m)\u001b[0m\u001b[1;33m\u001b[0m\u001b[1;33m\u001b[0m\u001b[0m\n\u001b[0;32m    290\u001b[0m \u001b[1;33m\u001b[0m\u001b[0m\n\u001b[1;32m--> 291\u001b[1;33m         \u001b[1;32mreturn\u001b[0m \u001b[0mself\u001b[0m\u001b[1;33m.\u001b[0m\u001b[0m_internal_call\u001b[0m\u001b[1;33m(\u001b[0m\u001b[1;34m\"GET\"\u001b[0m\u001b[1;33m,\u001b[0m \u001b[0murl\u001b[0m\u001b[1;33m,\u001b[0m \u001b[0mpayload\u001b[0m\u001b[1;33m,\u001b[0m \u001b[0mkwargs\u001b[0m\u001b[1;33m)\u001b[0m\u001b[1;33m\u001b[0m\u001b[1;33m\u001b[0m\u001b[0m\n\u001b[0m\u001b[0;32m    292\u001b[0m \u001b[1;33m\u001b[0m\u001b[0m\n\u001b[0;32m    293\u001b[0m     \u001b[1;32mdef\u001b[0m \u001b[0m_post\u001b[0m\u001b[1;33m(\u001b[0m\u001b[0mself\u001b[0m\u001b[1;33m,\u001b[0m \u001b[0murl\u001b[0m\u001b[1;33m,\u001b[0m \u001b[0margs\u001b[0m\u001b[1;33m=\u001b[0m\u001b[1;32mNone\u001b[0m\u001b[1;33m,\u001b[0m \u001b[0mpayload\u001b[0m\u001b[1;33m=\u001b[0m\u001b[1;32mNone\u001b[0m\u001b[1;33m,\u001b[0m \u001b[1;33m**\u001b[0m\u001b[0mkwargs\u001b[0m\u001b[1;33m)\u001b[0m\u001b[1;33m:\u001b[0m\u001b[1;33m\u001b[0m\u001b[1;33m\u001b[0m\u001b[0m\n",
      "\u001b[1;32m~\\AppData\\Local\\Programs\\Python\\Python38\\lib\\site-packages\\spotipy\\client.py\u001b[0m in \u001b[0;36m_internal_call\u001b[1;34m(self, method, url, payload, params)\u001b[0m\n\u001b[0;32m    259\u001b[0m                          method, url, response.status_code, msg)\n\u001b[0;32m    260\u001b[0m \u001b[1;33m\u001b[0m\u001b[0m\n\u001b[1;32m--> 261\u001b[1;33m             raise SpotifyException(\n\u001b[0m\u001b[0;32m    262\u001b[0m                 \u001b[0mresponse\u001b[0m\u001b[1;33m.\u001b[0m\u001b[0mstatus_code\u001b[0m\u001b[1;33m,\u001b[0m\u001b[1;33m\u001b[0m\u001b[1;33m\u001b[0m\u001b[0m\n\u001b[0;32m    263\u001b[0m                 \u001b[1;33m-\u001b[0m\u001b[1;36m1\u001b[0m\u001b[1;33m,\u001b[0m\u001b[1;33m\u001b[0m\u001b[1;33m\u001b[0m\u001b[0m\n",
      "\u001b[1;31mSpotifyException\u001b[0m: http status: 404, code:-1 - https://api.spotify.com/v1/playlists/1NQK1mGamaJmmwNE4iv9PT/tracks?offset=200&limit=100&additional_types=track:\n error, reason: None"
     ]
    }
   ],
   "source": [
    "songs_all = []\n",
    "for i in range (0,21): #Put Length of the playlist wala list here\n",
    "    songs = get_playlist_track_id(df['username'][i], df['playlistid'][i])\n",
    "    songs_all.extend(songs)"
   ]
  },
  {
   "cell_type": "code",
   "execution_count": 82,
   "metadata": {},
   "outputs": [
    {
     "output_type": "execute_result",
     "data": {
      "text/plain": [
       "'52GRfo1fNyym5u2GXbOLtg'"
      ]
     },
     "metadata": {},
     "execution_count": 82
    }
   ],
   "source": [
    "songs_all[0]"
   ]
  },
  {
   "cell_type": "code",
   "execution_count": 122,
   "metadata": {},
   "outputs": [],
   "source": [
    "first_track = []\n",
    "first_track = get_playlist_track_id('STMPD RCRDS', '2Zr0pVM3Cj3WHqUSCfvVaC')"
   ]
  },
  {
   "cell_type": "code",
   "execution_count": 123,
   "metadata": {},
   "outputs": [
    {
     "output_type": "execute_result",
     "data": {
      "text/plain": [
       "'1us5ay3tNCEnOsPUcsLseU'"
      ]
     },
     "metadata": {},
     "execution_count": 123
    }
   ],
   "source": [
    "first_track[-1]"
   ]
  },
  {
   "cell_type": "code",
   "execution_count": 103,
   "metadata": {
    "tags": []
   },
   "outputs": [
    {
     "output_type": "stream",
     "name": "stdout",
     "text": [
      "6uABa7vKOgFqXnwvk8NBr5\n"
     ]
    }
   ],
   "source": [
    "print(songs_all[-1])"
   ]
  },
  {
   "cell_type": "code",
   "execution_count": 77,
   "metadata": {},
   "outputs": [
    {
     "output_type": "execute_result",
     "data": {
      "text/plain": [
       "[{'danceability': 0.526,\n",
       "  'energy': 0.953,\n",
       "  'key': 8,\n",
       "  'loudness': -4.238,\n",
       "  'mode': 0,\n",
       "  'speechiness': 0.337,\n",
       "  'acousticness': 0.0736,\n",
       "  'instrumentalness': 0,\n",
       "  'liveness': 0.219,\n",
       "  'valence': 0.298,\n",
       "  'tempo': 149.411,\n",
       "  'type': 'audio_features',\n",
       "  'id': '7cNoiMuXzWyW6V3MKy562i',\n",
       "  'uri': 'spotify:track:7cNoiMuXzWyW6V3MKy562i',\n",
       "  'track_href': 'https://api.spotify.com/v1/tracks/7cNoiMuXzWyW6V3MKy562i',\n",
       "  'analysis_url': 'https://api.spotify.com/v1/audio-analysis/7cNoiMuXzWyW6V3MKy562i',\n",
       "  'duration_ms': 168271,\n",
       "  'time_signature': 4}]"
      ]
     },
     "metadata": {},
     "execution_count": 77
    }
   ],
   "source": [
    "sp.audio_features(tracks= '7cNoiMuXzWyW6V3MKy562i')"
   ]
  },
  {
   "cell_type": "code",
   "execution_count": null,
   "metadata": {},
   "outputs": [],
   "source": [
    "3888    # -3 for all\n",
    "4895    # 8783 - 100 = 8683, total for genre = 4895-100 = 4795\n",
    "5172    # 13855 - nothing = 13855\n",
    "10080   # 23935 - 800 = 23135, total for genre = 10080-800 = 9280\n",
    "11963   # 35098 - 600 = 34498, total for genre = 11963-600 = 11363"
   ]
  }
 ]
}