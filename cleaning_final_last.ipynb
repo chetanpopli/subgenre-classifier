{
 "metadata": {
  "language_info": {
   "codemirror_mode": {
    "name": "ipython",
    "version": 3
   },
   "file_extension": ".py",
   "mimetype": "text/x-python",
   "name": "python",
   "nbconvert_exporter": "python",
   "pygments_lexer": "ipython3",
   "version": "3.8.5"
  },
  "orig_nbformat": 2,
  "kernelspec": {
   "name": "python3",
   "display_name": "Python 3.8.5 64-bit",
   "metadata": {
    "interpreter": {
     "hash": "294367ade70ecd715d1d6f3ef25a8e59532c524e70508e2df84dcc655735bba1"
    }
   }
  }
 },
 "nbformat": 4,
 "nbformat_minor": 2,
 "cells": [
  {
   "cell_type": "code",
   "execution_count": 1,
   "metadata": {},
   "outputs": [],
   "source": [
    "# Importing libraries required to manipulate DataFrame and carry out EDA\n",
    "import pandas as pd\n",
    "import numpy as np\n",
    "import matplotlib.pyplot as plt\n",
    "import seaborn as sns"
   ]
  },
  {
   "cell_type": "code",
   "execution_count": 2,
   "metadata": {},
   "outputs": [],
   "source": [
    "# Loading the .csv file containing the raw data as a Pandas DataFrame\n",
    "# Defining a list with the genres used in the .csv file\n",
    "songs_raw = pd.read_csv(r'C:\\Users\\Chetan\\Desktop\\College\\Python\\EDM Sub-genre classifier\\songs.csv')\n",
    "genres = ['house','techno','dnb','hardstyle','trap']"
   ]
  },
  {
   "cell_type": "code",
   "execution_count": 3,
   "metadata": {},
   "outputs": [
    {
     "output_type": "execute_result",
     "data": {
      "text/plain": [
       "   danceability  energy   key  loudness  mode  speechiness  acousticness  \\\n",
       "0         0.786   0.870   2.0    -5.839   1.0       0.0507       0.04930   \n",
       "1         0.740   0.934   7.0    -3.255   1.0       0.3160       0.00822   \n",
       "2         0.889   0.859  11.0    -5.110   1.0       0.2050       0.02160   \n",
       "3         0.840   0.868  11.0    -6.173   0.0       0.0721       0.02590   \n",
       "4         0.740   0.989  10.0    -4.193   1.0       0.0469       0.00276   \n",
       "\n",
       "   instrumentalness  liveness  valence    tempo            type  \\\n",
       "0          0.215000    0.0863    0.676  126.011  audio_features   \n",
       "1          0.000377    0.1160    0.685  124.936  audio_features   \n",
       "2          0.106000    0.7370    0.828  124.958  audio_features   \n",
       "3          0.573000    0.0891    0.851  126.001  audio_features   \n",
       "4          0.956000    0.3060    0.934  125.001  audio_features   \n",
       "\n",
       "                       id                                   uri  \\\n",
       "0  7LVEBvmKB5uDTg0CGqDo3p  spotify:track:7LVEBvmKB5uDTg0CGqDo3p   \n",
       "1  0m69QNuZVZDXhGHBGK1mQA  spotify:track:0m69QNuZVZDXhGHBGK1mQA   \n",
       "2  4PfzZIFxK10aHXupOm4qEu  spotify:track:4PfzZIFxK10aHXupOm4qEu   \n",
       "3  6uABa7vKOgFqXnwvk8NBr5  spotify:track:6uABa7vKOgFqXnwvk8NBr5   \n",
       "4  6fcHhf9bix2uLbKHApSkNy  spotify:track:6fcHhf9bix2uLbKHApSkNy   \n",
       "\n",
       "                                          track_href  \\\n",
       "0  https://api.spotify.com/v1/tracks/7LVEBvmKB5uD...   \n",
       "1  https://api.spotify.com/v1/tracks/0m69QNuZVZDX...   \n",
       "2  https://api.spotify.com/v1/tracks/4PfzZIFxK10a...   \n",
       "3  https://api.spotify.com/v1/tracks/6uABa7vKOgFq...   \n",
       "4  https://api.spotify.com/v1/tracks/6fcHhf9bix2u...   \n",
       "\n",
       "                                        analysis_url  duration_ms  \\\n",
       "0  https://api.spotify.com/v1/audio-analysis/7LVE...     192482.0   \n",
       "1  https://api.spotify.com/v1/audio-analysis/0m69...     154680.0   \n",
       "2  https://api.spotify.com/v1/audio-analysis/4Pfz...     142560.0   \n",
       "3  https://api.spotify.com/v1/audio-analysis/6uAB...     203810.0   \n",
       "4  https://api.spotify.com/v1/audio-analysis/6fcH...     142080.0   \n",
       "\n",
       "   time_signature  genre  \n",
       "0             4.0  house  \n",
       "1             4.0  house  \n",
       "2             4.0  house  \n",
       "3             4.0  house  \n",
       "4             4.0  house  "
      ],
      "text/html": "<div>\n<style scoped>\n    .dataframe tbody tr th:only-of-type {\n        vertical-align: middle;\n    }\n\n    .dataframe tbody tr th {\n        vertical-align: top;\n    }\n\n    .dataframe thead th {\n        text-align: right;\n    }\n</style>\n<table border=\"1\" class=\"dataframe\">\n  <thead>\n    <tr style=\"text-align: right;\">\n      <th></th>\n      <th>danceability</th>\n      <th>energy</th>\n      <th>key</th>\n      <th>loudness</th>\n      <th>mode</th>\n      <th>speechiness</th>\n      <th>acousticness</th>\n      <th>instrumentalness</th>\n      <th>liveness</th>\n      <th>valence</th>\n      <th>tempo</th>\n      <th>type</th>\n      <th>id</th>\n      <th>uri</th>\n      <th>track_href</th>\n      <th>analysis_url</th>\n      <th>duration_ms</th>\n      <th>time_signature</th>\n      <th>genre</th>\n    </tr>\n  </thead>\n  <tbody>\n    <tr>\n      <th>0</th>\n      <td>0.786</td>\n      <td>0.870</td>\n      <td>2.0</td>\n      <td>-5.839</td>\n      <td>1.0</td>\n      <td>0.0507</td>\n      <td>0.04930</td>\n      <td>0.215000</td>\n      <td>0.0863</td>\n      <td>0.676</td>\n      <td>126.011</td>\n      <td>audio_features</td>\n      <td>7LVEBvmKB5uDTg0CGqDo3p</td>\n      <td>spotify:track:7LVEBvmKB5uDTg0CGqDo3p</td>\n      <td>https://api.spotify.com/v1/tracks/7LVEBvmKB5uD...</td>\n      <td>https://api.spotify.com/v1/audio-analysis/7LVE...</td>\n      <td>192482.0</td>\n      <td>4.0</td>\n      <td>house</td>\n    </tr>\n    <tr>\n      <th>1</th>\n      <td>0.740</td>\n      <td>0.934</td>\n      <td>7.0</td>\n      <td>-3.255</td>\n      <td>1.0</td>\n      <td>0.3160</td>\n      <td>0.00822</td>\n      <td>0.000377</td>\n      <td>0.1160</td>\n      <td>0.685</td>\n      <td>124.936</td>\n      <td>audio_features</td>\n      <td>0m69QNuZVZDXhGHBGK1mQA</td>\n      <td>spotify:track:0m69QNuZVZDXhGHBGK1mQA</td>\n      <td>https://api.spotify.com/v1/tracks/0m69QNuZVZDX...</td>\n      <td>https://api.spotify.com/v1/audio-analysis/0m69...</td>\n      <td>154680.0</td>\n      <td>4.0</td>\n      <td>house</td>\n    </tr>\n    <tr>\n      <th>2</th>\n      <td>0.889</td>\n      <td>0.859</td>\n      <td>11.0</td>\n      <td>-5.110</td>\n      <td>1.0</td>\n      <td>0.2050</td>\n      <td>0.02160</td>\n      <td>0.106000</td>\n      <td>0.7370</td>\n      <td>0.828</td>\n      <td>124.958</td>\n      <td>audio_features</td>\n      <td>4PfzZIFxK10aHXupOm4qEu</td>\n      <td>spotify:track:4PfzZIFxK10aHXupOm4qEu</td>\n      <td>https://api.spotify.com/v1/tracks/4PfzZIFxK10a...</td>\n      <td>https://api.spotify.com/v1/audio-analysis/4Pfz...</td>\n      <td>142560.0</td>\n      <td>4.0</td>\n      <td>house</td>\n    </tr>\n    <tr>\n      <th>3</th>\n      <td>0.840</td>\n      <td>0.868</td>\n      <td>11.0</td>\n      <td>-6.173</td>\n      <td>0.0</td>\n      <td>0.0721</td>\n      <td>0.02590</td>\n      <td>0.573000</td>\n      <td>0.0891</td>\n      <td>0.851</td>\n      <td>126.001</td>\n      <td>audio_features</td>\n      <td>6uABa7vKOgFqXnwvk8NBr5</td>\n      <td>spotify:track:6uABa7vKOgFqXnwvk8NBr5</td>\n      <td>https://api.spotify.com/v1/tracks/6uABa7vKOgFq...</td>\n      <td>https://api.spotify.com/v1/audio-analysis/6uAB...</td>\n      <td>203810.0</td>\n      <td>4.0</td>\n      <td>house</td>\n    </tr>\n    <tr>\n      <th>4</th>\n      <td>0.740</td>\n      <td>0.989</td>\n      <td>10.0</td>\n      <td>-4.193</td>\n      <td>1.0</td>\n      <td>0.0469</td>\n      <td>0.00276</td>\n      <td>0.956000</td>\n      <td>0.3060</td>\n      <td>0.934</td>\n      <td>125.001</td>\n      <td>audio_features</td>\n      <td>6fcHhf9bix2uLbKHApSkNy</td>\n      <td>spotify:track:6fcHhf9bix2uLbKHApSkNy</td>\n      <td>https://api.spotify.com/v1/tracks/6fcHhf9bix2u...</td>\n      <td>https://api.spotify.com/v1/audio-analysis/6fcH...</td>\n      <td>142080.0</td>\n      <td>4.0</td>\n      <td>house</td>\n    </tr>\n  </tbody>\n</table>\n</div>"
     },
     "metadata": {},
     "execution_count": 3
    }
   ],
   "source": [
    "songs_raw.head()"
   ]
  },
  {
   "cell_type": "code",
   "execution_count": 4,
   "metadata": {},
   "outputs": [
    {
     "output_type": "stream",
     "name": "stdout",
     "text": [
      "Shape of the raw database of extracted songs: 34496\nName of Genre and number of songs for the Genre:\ntrap         11364\nhardstyle     9280\ndnb           5172\ntechno        4794\nhouse         3883\nName: genre, dtype: int64\n"
     ]
    }
   ],
   "source": [
    "# Shape of raw DataFrame\n",
    "raw_db_length, y0 = songs_raw.shape\n",
    "print(\"Shape of the raw database of extracted songs:\", raw_db_length)\n",
    "print(\"Name of Genre and number of songs for the Genre:\")\n",
    "raw_genre_count = songs_raw['genre'].value_counts()\n",
    "print(raw_genre_count)"
   ]
  },
  {
   "source": [
    "CLEANING OF DATABASE"
   ],
   "cell_type": "markdown",
   "metadata": {}
  },
  {
   "cell_type": "code",
   "execution_count": 5,
   "metadata": {},
   "outputs": [],
   "source": [
    "# Dropping all duplicate values from the raw dataframe\n",
    "songs_pref = songs_raw.drop_duplicates(subset = \"uri\", keep = 'first', inplace = False, ignore_index = True)"
   ]
  },
  {
   "cell_type": "code",
   "execution_count": 12,
   "metadata": {},
   "outputs": [
    {
     "output_type": "stream",
     "name": "stdout",
     "text": [
      "Shape of the database of extracted songs after removing duplicates: 24033\nName of Genre and number of songs for the Genre:\ntrap         6805\nhardstyle    5895\ndnb          4139\ntechno       4028\nhouse        3166\nName: genre, dtype: int64\n"
     ]
    }
   ],
   "source": [
    "# Shape of DataFrame after dropping all duplicate values\n",
    "pref_db_length, y0 = songs_pref.shape\n",
    "print(\"Shape of the database of extracted songs after removing duplicates:\", pref_db_length)\n",
    "print(\"Name of Genre and number of songs for the Genre:\")\n",
    "pref_genre_count = songs_pref['genre'].value_counts()\n",
    "print(pref_genre_count)"
   ]
  },
  {
   "cell_type": "code",
   "execution_count": 7,
   "metadata": {},
   "outputs": [
    {
     "output_type": "execute_result",
     "data": {
      "text/plain": [
       "danceability        1\n",
       "energy              1\n",
       "key                 1\n",
       "loudness            1\n",
       "mode                1\n",
       "speechiness         1\n",
       "acousticness        1\n",
       "instrumentalness    1\n",
       "liveness            1\n",
       "valence             1\n",
       "tempo               1\n",
       "type                1\n",
       "id                  1\n",
       "uri                 1\n",
       "track_href          1\n",
       "analysis_url        1\n",
       "duration_ms         1\n",
       "time_signature      1\n",
       "genre               0\n",
       "dtype: int64"
      ]
     },
     "metadata": {},
     "execution_count": 7
    }
   ],
   "source": [
    "# Checking for any NaN values in the dataframe\n",
    "songs_pref.isnull().sum()"
   ]
  },
  {
   "cell_type": "code",
   "execution_count": 8,
   "metadata": {},
   "outputs": [
    {
     "output_type": "stream",
     "name": "stdout",
     "text": [
      "Checking for NaN values again, which should be 0\ndanceability        0\nenergy              0\nkey                 0\nloudness            0\nmode                0\nspeechiness         0\nacousticness        0\ninstrumentalness    0\nliveness            0\nvalence             0\ntempo               0\ntype                0\nid                  0\nuri                 0\ntrack_href          0\nanalysis_url        0\nduration_ms         0\ntime_signature      0\ngenre               0\ndtype: int64\nSince NaN values in the Database is 0\nShape of the database of extracted songs after removing NaN values: 24033\n"
     ]
    }
   ],
   "source": [
    "# Dropping all NaN values from the DataFrame and checking again\n",
    "songs_pref.dropna(axis = 0, inplace = True)\n",
    "pref_drop_length, y0 = songs_pref.shape\n",
    "print(\"Checking for NaN values again, which should be 0\")\n",
    "print(songs_pref.isnull().sum())\n",
    "print(\"Since NaN values in the Database is 0\")\n",
    "print(\"Shape of the database of extracted songs after removing NaN values:\", pref_drop_length)"
   ]
  },
  {
   "cell_type": "code",
   "execution_count": 9,
   "metadata": {},
   "outputs": [],
   "source": [
    "# Cleaning songs on the basis of their duration"
   ]
  },
  {
   "cell_type": "code",
   "execution_count": 10,
   "metadata": {},
   "outputs": [],
   "source": [
    "# Removing songs which are less than 100 seconds in duration\n",
    "songs = songs_pref[songs_pref['duration_ms'] > 100000]"
   ]
  },
  {
   "cell_type": "code",
   "execution_count": 11,
   "metadata": {},
   "outputs": [],
   "source": [
    "# Removing songs which are more than 1000 seconds in duration\n",
    "songs = songs[songs['duration_ms'] < 1000000]"
   ]
  },
  {
   "cell_type": "code",
   "execution_count": 15,
   "metadata": {},
   "outputs": [
    {
     "output_type": "stream",
     "name": "stdout",
     "text": [
      "Shape of the database of extracted songs after removing duplicates: 23978\nName of Genre and number of songs for the Genre:\ntrap         6778\nhardstyle    5879\ndnb          4135\ntechno       4022\nhouse        3164\nName: genre, dtype: int64\n"
     ]
    }
   ],
   "source": [
    "# Shape of DataFrame after dropping all songs on basis of duration\n",
    "time_drop_length, y0 = songs.shape\n",
    "print(\"Shape of the database of extracted songs after removing duplicates:\", time_drop_length)\n",
    "print(\"Name of Genre and number of songs for the Genre:\")\n",
    "time_drop_count = songs['genre'].value_counts()\n",
    "print(time_drop_count)"
   ]
  },
  {
   "cell_type": "code",
   "execution_count": 14,
   "metadata": {},
   "outputs": [],
   "source": [
    "# Remove songs with energy below .3\n",
    "songs = songs[songs['energy'] > .3]"
   ]
  },
  {
   "cell_type": "code",
   "execution_count": 18,
   "metadata": {},
   "outputs": [
    {
     "output_type": "stream",
     "name": "stdout",
     "text": [
      "Shape of the database of songs after removing low energy songs: 23978\n"
     ]
    }
   ],
   "source": [
    "# Shape of DataFrame after dropping all songs on basis of Energy\n",
    "energy_drop_length, y0 = songs.shape\n",
    "print(\"Shape of the database of songs after removing low energy songs:\", energy_drop_length)"
   ]
  },
  {
   "cell_type": "code",
   "execution_count": 19,
   "metadata": {},
   "outputs": [],
   "source": [
    "# Adjusting the Tempo Range of songs to keep it between 100 and 200"
   ]
  },
  {
   "cell_type": "code",
   "execution_count": 24,
   "metadata": {},
   "outputs": [],
   "source": [
    "def adjust_tempo(tempo):\n",
    "    \n",
    "    # Divide any tempo over 200 by 2\n",
    "    if tempo > 200:\n",
    "        tempo /= 2\n",
    "        return tempo\n",
    "    \n",
    "    # Multiply any tempo under 100 by 2\n",
    "    elif tempo < 100:\n",
    "        tempo *= 2\n",
    "        return tempo\n",
    "    \n",
    "    # Leave all other tempos unchanged\n",
    "    else:\n",
    "        return tempo"
   ]
  },
  {
   "cell_type": "code",
   "execution_count": 25,
   "metadata": {},
   "outputs": [],
   "source": [
    "# Adjust the tempos for the modeling data\n",
    "songs['tempo'] = songs['tempo'].map(adjust_tempo)"
   ]
  },
  {
   "cell_type": "code",
   "execution_count": 26,
   "metadata": {},
   "outputs": [
    {
     "output_type": "stream",
     "name": "stdout",
     "text": [
      "songs below 100 beats per minute:  0\nsongs above 200 beats per minute:  0\n"
     ]
    }
   ],
   "source": [
    "# Check that all tempos are now between 100 and 200 beats per minute\n",
    "print(\"songs below 100 beats per minute: \", songs[songs['tempo'] < 100].shape[0])\n",
    "print(\"songs above 200 beats per minute: \", songs[songs['tempo'] > 200].shape[0])"
   ]
  },
  {
   "cell_type": "code",
   "execution_count": 27,
   "metadata": {},
   "outputs": [
    {
     "output_type": "stream",
     "name": "stdout",
     "text": [
      "Shape of the database of extracted songs after removing duplicates: 23978\nName of Genre and number of songs for the Genre:\ntrap         6778\nhardstyle    5879\ndnb          4135\ntechno       4022\nhouse        3164\nName: genre, dtype: int64\n"
     ]
    }
   ],
   "source": [
    "# Shape of DataFrame after all cleaning is done\n",
    "songs_length_final, y0 = songs.shape\n",
    "print(\"Shape of the database of extracted songs after removing duplicates:\", songs_length_final)\n",
    "print(\"Name of Genre and number of songs for the Genre:\")\n",
    "songs_count_final = songs['genre'].value_counts()\n",
    "print(songs_count_final)"
   ]
  },
  {
   "source": [
    "EXPLORATORY DATA ANALYSIS"
   ],
   "cell_type": "markdown",
   "metadata": {}
  },
  {
   "cell_type": "code",
   "execution_count": null,
   "metadata": {},
   "outputs": [],
   "source": []
  }
 ]
}