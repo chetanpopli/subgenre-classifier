{
 "metadata": {
  "language_info": {
   "codemirror_mode": {
    "name": "ipython",
    "version": 3
   },
   "file_extension": ".py",
   "mimetype": "text/x-python",
   "name": "python",
   "nbconvert_exporter": "python",
   "pygments_lexer": "ipython3",
   "version": "3.8.5-final"
  },
  "orig_nbformat": 2,
  "kernelspec": {
   "name": "python3",
   "display_name": "Python 3.8.5 64-bit",
   "metadata": {
    "interpreter": {
     "hash": "1520c6ce690310d808624767d2bb633cb737d4b22d0ee2534a4b62dd287c3201"
    }
   }
  }
 },
 "nbformat": 4,
 "nbformat_minor": 2,
 "cells": [
  {
   "cell_type": "code",
   "execution_count": 1,
   "metadata": {},
   "outputs": [],
   "source": [
    "# Imports\n",
    "\n",
    "import pandas as pd\n",
    "import numpy as np\n",
    "import matplotlib.pyplot as plt\n",
    "import seaborn as sns"
   ]
  },
  {
   "cell_type": "code",
   "execution_count": 2,
   "metadata": {},
   "outputs": [],
   "source": [
    "songs = pd.read_csv(r'C:\\Users\\Chetan\\Desktop\\College\\Python\\EDM Sub-genre classifier\\songs.csv')"
   ]
  },
  {
   "cell_type": "code",
   "execution_count": 3,
   "metadata": {},
   "outputs": [
    {
     "output_type": "execute_result",
     "data": {
      "text/plain": [
       "   danceability  energy   key  loudness  mode  speechiness  acousticness  \\\n",
       "0         0.786   0.870   2.0    -5.839   1.0       0.0507       0.04930   \n",
       "1         0.740   0.934   7.0    -3.255   1.0       0.3160       0.00822   \n",
       "2         0.889   0.859  11.0    -5.110   1.0       0.2050       0.02160   \n",
       "3         0.840   0.868  11.0    -6.173   0.0       0.0721       0.02590   \n",
       "4         0.740   0.989  10.0    -4.193   1.0       0.0469       0.00276   \n",
       "\n",
       "   instrumentalness  liveness  valence    tempo            type  \\\n",
       "0          0.215000    0.0863    0.676  126.011  audio_features   \n",
       "1          0.000377    0.1160    0.685  124.936  audio_features   \n",
       "2          0.106000    0.7370    0.828  124.958  audio_features   \n",
       "3          0.573000    0.0891    0.851  126.001  audio_features   \n",
       "4          0.956000    0.3060    0.934  125.001  audio_features   \n",
       "\n",
       "                       id                                   uri  \\\n",
       "0  7LVEBvmKB5uDTg0CGqDo3p  spotify:track:7LVEBvmKB5uDTg0CGqDo3p   \n",
       "1  0m69QNuZVZDXhGHBGK1mQA  spotify:track:0m69QNuZVZDXhGHBGK1mQA   \n",
       "2  4PfzZIFxK10aHXupOm4qEu  spotify:track:4PfzZIFxK10aHXupOm4qEu   \n",
       "3  6uABa7vKOgFqXnwvk8NBr5  spotify:track:6uABa7vKOgFqXnwvk8NBr5   \n",
       "4  6fcHhf9bix2uLbKHApSkNy  spotify:track:6fcHhf9bix2uLbKHApSkNy   \n",
       "\n",
       "                                          track_href  \\\n",
       "0  https://api.spotify.com/v1/tracks/7LVEBvmKB5uD...   \n",
       "1  https://api.spotify.com/v1/tracks/0m69QNuZVZDX...   \n",
       "2  https://api.spotify.com/v1/tracks/4PfzZIFxK10a...   \n",
       "3  https://api.spotify.com/v1/tracks/6uABa7vKOgFq...   \n",
       "4  https://api.spotify.com/v1/tracks/6fcHhf9bix2u...   \n",
       "\n",
       "                                        analysis_url  duration_ms  \\\n",
       "0  https://api.spotify.com/v1/audio-analysis/7LVE...     192482.0   \n",
       "1  https://api.spotify.com/v1/audio-analysis/0m69...     154680.0   \n",
       "2  https://api.spotify.com/v1/audio-analysis/4Pfz...     142560.0   \n",
       "3  https://api.spotify.com/v1/audio-analysis/6uAB...     203810.0   \n",
       "4  https://api.spotify.com/v1/audio-analysis/6fcH...     142080.0   \n",
       "\n",
       "   time_signature  genre  \n",
       "0             4.0  house  \n",
       "1             4.0  house  \n",
       "2             4.0  house  \n",
       "3             4.0  house  \n",
       "4             4.0  house  "
      ],
      "text/html": "<div>\n<style scoped>\n    .dataframe tbody tr th:only-of-type {\n        vertical-align: middle;\n    }\n\n    .dataframe tbody tr th {\n        vertical-align: top;\n    }\n\n    .dataframe thead th {\n        text-align: right;\n    }\n</style>\n<table border=\"1\" class=\"dataframe\">\n  <thead>\n    <tr style=\"text-align: right;\">\n      <th></th>\n      <th>danceability</th>\n      <th>energy</th>\n      <th>key</th>\n      <th>loudness</th>\n      <th>mode</th>\n      <th>speechiness</th>\n      <th>acousticness</th>\n      <th>instrumentalness</th>\n      <th>liveness</th>\n      <th>valence</th>\n      <th>tempo</th>\n      <th>type</th>\n      <th>id</th>\n      <th>uri</th>\n      <th>track_href</th>\n      <th>analysis_url</th>\n      <th>duration_ms</th>\n      <th>time_signature</th>\n      <th>genre</th>\n    </tr>\n  </thead>\n  <tbody>\n    <tr>\n      <th>0</th>\n      <td>0.786</td>\n      <td>0.870</td>\n      <td>2.0</td>\n      <td>-5.839</td>\n      <td>1.0</td>\n      <td>0.0507</td>\n      <td>0.04930</td>\n      <td>0.215000</td>\n      <td>0.0863</td>\n      <td>0.676</td>\n      <td>126.011</td>\n      <td>audio_features</td>\n      <td>7LVEBvmKB5uDTg0CGqDo3p</td>\n      <td>spotify:track:7LVEBvmKB5uDTg0CGqDo3p</td>\n      <td>https://api.spotify.com/v1/tracks/7LVEBvmKB5uD...</td>\n      <td>https://api.spotify.com/v1/audio-analysis/7LVE...</td>\n      <td>192482.0</td>\n      <td>4.0</td>\n      <td>house</td>\n    </tr>\n    <tr>\n      <th>1</th>\n      <td>0.740</td>\n      <td>0.934</td>\n      <td>7.0</td>\n      <td>-3.255</td>\n      <td>1.0</td>\n      <td>0.3160</td>\n      <td>0.00822</td>\n      <td>0.000377</td>\n      <td>0.1160</td>\n      <td>0.685</td>\n      <td>124.936</td>\n      <td>audio_features</td>\n      <td>0m69QNuZVZDXhGHBGK1mQA</td>\n      <td>spotify:track:0m69QNuZVZDXhGHBGK1mQA</td>\n      <td>https://api.spotify.com/v1/tracks/0m69QNuZVZDX...</td>\n      <td>https://api.spotify.com/v1/audio-analysis/0m69...</td>\n      <td>154680.0</td>\n      <td>4.0</td>\n      <td>house</td>\n    </tr>\n    <tr>\n      <th>2</th>\n      <td>0.889</td>\n      <td>0.859</td>\n      <td>11.0</td>\n      <td>-5.110</td>\n      <td>1.0</td>\n      <td>0.2050</td>\n      <td>0.02160</td>\n      <td>0.106000</td>\n      <td>0.7370</td>\n      <td>0.828</td>\n      <td>124.958</td>\n      <td>audio_features</td>\n      <td>4PfzZIFxK10aHXupOm4qEu</td>\n      <td>spotify:track:4PfzZIFxK10aHXupOm4qEu</td>\n      <td>https://api.spotify.com/v1/tracks/4PfzZIFxK10a...</td>\n      <td>https://api.spotify.com/v1/audio-analysis/4Pfz...</td>\n      <td>142560.0</td>\n      <td>4.0</td>\n      <td>house</td>\n    </tr>\n    <tr>\n      <th>3</th>\n      <td>0.840</td>\n      <td>0.868</td>\n      <td>11.0</td>\n      <td>-6.173</td>\n      <td>0.0</td>\n      <td>0.0721</td>\n      <td>0.02590</td>\n      <td>0.573000</td>\n      <td>0.0891</td>\n      <td>0.851</td>\n      <td>126.001</td>\n      <td>audio_features</td>\n      <td>6uABa7vKOgFqXnwvk8NBr5</td>\n      <td>spotify:track:6uABa7vKOgFqXnwvk8NBr5</td>\n      <td>https://api.spotify.com/v1/tracks/6uABa7vKOgFq...</td>\n      <td>https://api.spotify.com/v1/audio-analysis/6uAB...</td>\n      <td>203810.0</td>\n      <td>4.0</td>\n      <td>house</td>\n    </tr>\n    <tr>\n      <th>4</th>\n      <td>0.740</td>\n      <td>0.989</td>\n      <td>10.0</td>\n      <td>-4.193</td>\n      <td>1.0</td>\n      <td>0.0469</td>\n      <td>0.00276</td>\n      <td>0.956000</td>\n      <td>0.3060</td>\n      <td>0.934</td>\n      <td>125.001</td>\n      <td>audio_features</td>\n      <td>6fcHhf9bix2uLbKHApSkNy</td>\n      <td>spotify:track:6fcHhf9bix2uLbKHApSkNy</td>\n      <td>https://api.spotify.com/v1/tracks/6fcHhf9bix2u...</td>\n      <td>https://api.spotify.com/v1/audio-analysis/6fcH...</td>\n      <td>142080.0</td>\n      <td>4.0</td>\n      <td>house</td>\n    </tr>\n  </tbody>\n</table>\n</div>"
     },
     "metadata": {},
     "execution_count": 3
    }
   ],
   "source": [
    "songs.head()"
   ]
  },
  {
   "cell_type": "code",
   "execution_count": 21,
   "metadata": {},
   "outputs": [],
   "source": [
    "columns = ['danceability','energy','key','loudness','mode','speechiness','acousticness','instrumentalness',\t'liveness','valence','tempo','type','id','uri','track_href','analysis_url','duration_ms','time_signature',\t'genre']"
   ]
  },
  {
   "cell_type": "code",
   "execution_count": 4,
   "metadata": {},
   "outputs": [],
   "source": [
    "house_count_original = songs.loc[songs['genre'] == 'house', 'id']\n",
    "techno_count_original = songs.loc[songs['genre'] == 'techno', 'id']\n",
    "dnb_count_original = songs.loc[songs['genre'] == 'dnb', 'id']\n",
    "hardstyle_count_original = songs.loc[songs['genre'] == 'hardstyle', 'id']\n",
    "trap_count_original = songs.loc[songs['genre'] == 'trap', 'id']\n",
    "total_count_original = house_count_original + techno_count_original + dnb_count_original + hardstyle_count_original + trap_count_original"
   ]
  },
  {
   "cell_type": "code",
   "execution_count": 5,
   "metadata": {},
   "outputs": [
    {
     "output_type": "stream",
     "name": "stdout",
     "text": [
      "Original Count of House Songs:         3883\nOriginal Count of Techno Songs:        4794\nOriginal Count of Drum & Bass Songs:   5172\nOriginal Count of Hardstyle Songs:     9280\nOriginal Count of Trap Songs:          11364\nOriginal Count of All Songs:           34493\n"
     ]
    }
   ],
   "source": [
    "print(\"Original Count of House Songs:        \",len(house_count_original))\n",
    "print(\"Original Count of Techno Songs:       \",len(techno_count_original))\n",
    "print(\"Original Count of Drum & Bass Songs:  \",len(dnb_count_original))\n",
    "print(\"Original Count of Hardstyle Songs:    \",len(hardstyle_count_original))\n",
    "print(\"Original Count of Trap Songs:         \",len(trap_count_original))\n",
    "print(\"Original Count of All Songs:          \",len(total_count_original))"
   ]
  },
  {
   "cell_type": "code",
   "execution_count": 6,
   "metadata": {},
   "outputs": [],
   "source": [
    "songs_unique = songs"
   ]
  },
  {
   "cell_type": "code",
   "execution_count": 7,
   "metadata": {},
   "outputs": [
    {
     "output_type": "execute_result",
     "data": {
      "text/plain": [
       "   danceability  energy   key  loudness  mode  speechiness  acousticness  \\\n",
       "0         0.786   0.870   2.0    -5.839   1.0       0.0507       0.04930   \n",
       "1         0.740   0.934   7.0    -3.255   1.0       0.3160       0.00822   \n",
       "2         0.889   0.859  11.0    -5.110   1.0       0.2050       0.02160   \n",
       "3         0.840   0.868  11.0    -6.173   0.0       0.0721       0.02590   \n",
       "4         0.740   0.989  10.0    -4.193   1.0       0.0469       0.00276   \n",
       "\n",
       "   instrumentalness  liveness  valence    tempo            type  \\\n",
       "0          0.215000    0.0863    0.676  126.011  audio_features   \n",
       "1          0.000377    0.1160    0.685  124.936  audio_features   \n",
       "2          0.106000    0.7370    0.828  124.958  audio_features   \n",
       "3          0.573000    0.0891    0.851  126.001  audio_features   \n",
       "4          0.956000    0.3060    0.934  125.001  audio_features   \n",
       "\n",
       "                       id                                   uri  \\\n",
       "0  7LVEBvmKB5uDTg0CGqDo3p  spotify:track:7LVEBvmKB5uDTg0CGqDo3p   \n",
       "1  0m69QNuZVZDXhGHBGK1mQA  spotify:track:0m69QNuZVZDXhGHBGK1mQA   \n",
       "2  4PfzZIFxK10aHXupOm4qEu  spotify:track:4PfzZIFxK10aHXupOm4qEu   \n",
       "3  6uABa7vKOgFqXnwvk8NBr5  spotify:track:6uABa7vKOgFqXnwvk8NBr5   \n",
       "4  6fcHhf9bix2uLbKHApSkNy  spotify:track:6fcHhf9bix2uLbKHApSkNy   \n",
       "\n",
       "                                          track_href  \\\n",
       "0  https://api.spotify.com/v1/tracks/7LVEBvmKB5uD...   \n",
       "1  https://api.spotify.com/v1/tracks/0m69QNuZVZDX...   \n",
       "2  https://api.spotify.com/v1/tracks/4PfzZIFxK10a...   \n",
       "3  https://api.spotify.com/v1/tracks/6uABa7vKOgFq...   \n",
       "4  https://api.spotify.com/v1/tracks/6fcHhf9bix2u...   \n",
       "\n",
       "                                        analysis_url  duration_ms  \\\n",
       "0  https://api.spotify.com/v1/audio-analysis/7LVE...     192482.0   \n",
       "1  https://api.spotify.com/v1/audio-analysis/0m69...     154680.0   \n",
       "2  https://api.spotify.com/v1/audio-analysis/4Pfz...     142560.0   \n",
       "3  https://api.spotify.com/v1/audio-analysis/6uAB...     203810.0   \n",
       "4  https://api.spotify.com/v1/audio-analysis/6fcH...     142080.0   \n",
       "\n",
       "   time_signature  genre  \n",
       "0             4.0  house  \n",
       "1             4.0  house  \n",
       "2             4.0  house  \n",
       "3             4.0  house  \n",
       "4             4.0  house  "
      ],
      "text/html": "<div>\n<style scoped>\n    .dataframe tbody tr th:only-of-type {\n        vertical-align: middle;\n    }\n\n    .dataframe tbody tr th {\n        vertical-align: top;\n    }\n\n    .dataframe thead th {\n        text-align: right;\n    }\n</style>\n<table border=\"1\" class=\"dataframe\">\n  <thead>\n    <tr style=\"text-align: right;\">\n      <th></th>\n      <th>danceability</th>\n      <th>energy</th>\n      <th>key</th>\n      <th>loudness</th>\n      <th>mode</th>\n      <th>speechiness</th>\n      <th>acousticness</th>\n      <th>instrumentalness</th>\n      <th>liveness</th>\n      <th>valence</th>\n      <th>tempo</th>\n      <th>type</th>\n      <th>id</th>\n      <th>uri</th>\n      <th>track_href</th>\n      <th>analysis_url</th>\n      <th>duration_ms</th>\n      <th>time_signature</th>\n      <th>genre</th>\n    </tr>\n  </thead>\n  <tbody>\n    <tr>\n      <th>0</th>\n      <td>0.786</td>\n      <td>0.870</td>\n      <td>2.0</td>\n      <td>-5.839</td>\n      <td>1.0</td>\n      <td>0.0507</td>\n      <td>0.04930</td>\n      <td>0.215000</td>\n      <td>0.0863</td>\n      <td>0.676</td>\n      <td>126.011</td>\n      <td>audio_features</td>\n      <td>7LVEBvmKB5uDTg0CGqDo3p</td>\n      <td>spotify:track:7LVEBvmKB5uDTg0CGqDo3p</td>\n      <td>https://api.spotify.com/v1/tracks/7LVEBvmKB5uD...</td>\n      <td>https://api.spotify.com/v1/audio-analysis/7LVE...</td>\n      <td>192482.0</td>\n      <td>4.0</td>\n      <td>house</td>\n    </tr>\n    <tr>\n      <th>1</th>\n      <td>0.740</td>\n      <td>0.934</td>\n      <td>7.0</td>\n      <td>-3.255</td>\n      <td>1.0</td>\n      <td>0.3160</td>\n      <td>0.00822</td>\n      <td>0.000377</td>\n      <td>0.1160</td>\n      <td>0.685</td>\n      <td>124.936</td>\n      <td>audio_features</td>\n      <td>0m69QNuZVZDXhGHBGK1mQA</td>\n      <td>spotify:track:0m69QNuZVZDXhGHBGK1mQA</td>\n      <td>https://api.spotify.com/v1/tracks/0m69QNuZVZDX...</td>\n      <td>https://api.spotify.com/v1/audio-analysis/0m69...</td>\n      <td>154680.0</td>\n      <td>4.0</td>\n      <td>house</td>\n    </tr>\n    <tr>\n      <th>2</th>\n      <td>0.889</td>\n      <td>0.859</td>\n      <td>11.0</td>\n      <td>-5.110</td>\n      <td>1.0</td>\n      <td>0.2050</td>\n      <td>0.02160</td>\n      <td>0.106000</td>\n      <td>0.7370</td>\n      <td>0.828</td>\n      <td>124.958</td>\n      <td>audio_features</td>\n      <td>4PfzZIFxK10aHXupOm4qEu</td>\n      <td>spotify:track:4PfzZIFxK10aHXupOm4qEu</td>\n      <td>https://api.spotify.com/v1/tracks/4PfzZIFxK10a...</td>\n      <td>https://api.spotify.com/v1/audio-analysis/4Pfz...</td>\n      <td>142560.0</td>\n      <td>4.0</td>\n      <td>house</td>\n    </tr>\n    <tr>\n      <th>3</th>\n      <td>0.840</td>\n      <td>0.868</td>\n      <td>11.0</td>\n      <td>-6.173</td>\n      <td>0.0</td>\n      <td>0.0721</td>\n      <td>0.02590</td>\n      <td>0.573000</td>\n      <td>0.0891</td>\n      <td>0.851</td>\n      <td>126.001</td>\n      <td>audio_features</td>\n      <td>6uABa7vKOgFqXnwvk8NBr5</td>\n      <td>spotify:track:6uABa7vKOgFqXnwvk8NBr5</td>\n      <td>https://api.spotify.com/v1/tracks/6uABa7vKOgFq...</td>\n      <td>https://api.spotify.com/v1/audio-analysis/6uAB...</td>\n      <td>203810.0</td>\n      <td>4.0</td>\n      <td>house</td>\n    </tr>\n    <tr>\n      <th>4</th>\n      <td>0.740</td>\n      <td>0.989</td>\n      <td>10.0</td>\n      <td>-4.193</td>\n      <td>1.0</td>\n      <td>0.0469</td>\n      <td>0.00276</td>\n      <td>0.956000</td>\n      <td>0.3060</td>\n      <td>0.934</td>\n      <td>125.001</td>\n      <td>audio_features</td>\n      <td>6fcHhf9bix2uLbKHApSkNy</td>\n      <td>spotify:track:6fcHhf9bix2uLbKHApSkNy</td>\n      <td>https://api.spotify.com/v1/tracks/6fcHhf9bix2u...</td>\n      <td>https://api.spotify.com/v1/audio-analysis/6fcH...</td>\n      <td>142080.0</td>\n      <td>4.0</td>\n      <td>house</td>\n    </tr>\n  </tbody>\n</table>\n</div>"
     },
     "metadata": {},
     "execution_count": 7
    }
   ],
   "source": [
    "songs_unique = songs_unique.drop_duplicates(subset = \"uri\", keep = 'first', inplace = False, ignore_index = True)\n",
    "songs_unique.head()"
   ]
  },
  {
   "cell_type": "code",
   "execution_count": 8,
   "metadata": {},
   "outputs": [
    {
     "output_type": "execute_result",
     "data": {
      "text/plain": [
       "(24035, 19)"
      ]
     },
     "metadata": {},
     "execution_count": 8
    }
   ],
   "source": [
    "songs_unique.shape"
   ]
  },
  {
   "cell_type": "code",
   "execution_count": 24,
   "metadata": {},
   "outputs": [],
   "source": [
    "house_count_unique = songs_unique.loc[songs_unique['genre'] == 'house', columns]\n",
    "techno_count_unique = songs_unique.loc[songs_unique['genre'] == 'techno', columns]\n",
    "dnb_count_unique = songs_unique.loc[songs_unique['genre'] == 'dnb', columns]\n",
    "hardstyle_count_unique = songs_unique.loc[songs_unique['genre'] == 'hardstyle', columns]\n",
    "trap_count_unique = songs_unique.loc[songs_unique['genre'] == 'trap', columns]"
   ]
  },
  {
   "cell_type": "code",
   "execution_count": 27,
   "metadata": {},
   "outputs": [
    {
     "output_type": "stream",
     "name": "stdout",
     "text": [
      "3166\n4028\n4139\n5896\n6805\n"
     ]
    }
   ],
   "source": [
    "print(house_count_unique['id'].count())\n",
    "print(techno_count_unique['id'].count())\n",
    "print(dnb_count_unique['id'].count())\n",
    "print(hardstyle_count_unique['id'].count())\n",
    "print(trap_count_unique['id'].count())"
   ]
  },
  {
   "cell_type": "code",
   "execution_count": 28,
   "metadata": {},
   "outputs": [
    {
     "output_type": "execute_result",
     "data": {
      "text/plain": [
       "      danceability  energy   key  loudness  mode  speechiness  acousticness  \\\n",
       "3166         0.800   0.842   6.0    -8.674   1.0       0.0513       0.00136   \n",
       "3167         0.850   0.810   9.0    -7.364   1.0       0.0658       0.11300   \n",
       "3168         0.802   0.818  10.0   -10.184   1.0       0.0397       0.00221   \n",
       "3169         0.680   0.995   8.0    -8.965   0.0       0.0492       0.07350   \n",
       "3170         0.586   0.955   7.0    -8.540   1.0       0.0653       0.00306   \n",
       "...            ...     ...   ...       ...   ...          ...           ...   \n",
       "7189         0.581   0.974   6.0    -6.657   0.0       0.1150       0.10500   \n",
       "7190         0.625   0.994   2.0    -7.794   1.0       0.0786       0.02370   \n",
       "7191         0.639   0.995  11.0    -8.407   1.0       0.0375       0.00613   \n",
       "7192         0.674   0.978   6.0    -8.647   1.0       0.0902       0.00159   \n",
       "7193         0.550   0.993   6.0    -5.066   1.0       0.0922       0.00996   \n",
       "\n",
       "      instrumentalness  liveness  valence    tempo            type  \\\n",
       "3166             0.892    0.0917   0.0416  127.983  audio_features   \n",
       "3167             0.858    0.1110   0.1230  128.994  audio_features   \n",
       "3168             0.933    0.1170   0.4660  139.994  audio_features   \n",
       "3169             0.938    0.1150   0.1490  135.016  audio_features   \n",
       "3170             0.880    0.0957   0.6330  139.992  audio_features   \n",
       "...                ...       ...      ...      ...             ...   \n",
       "7189             0.163    0.1050   0.5090   75.014  audio_features   \n",
       "7190             0.132    0.2890   0.2560   74.994  audio_features   \n",
       "7191             0.876    0.1680   0.5610  145.003  audio_features   \n",
       "7192             0.769    0.1130   0.1670  141.995  audio_features   \n",
       "7193             0.800    0.0578   0.1210  145.983  audio_features   \n",
       "\n",
       "                          id                                   uri  \\\n",
       "3166  52GRfo1fNyym5u2GXbOLtg  spotify:track:52GRfo1fNyym5u2GXbOLtg   \n",
       "3167  5olyO9wuEEAnmIPimW0hSR  spotify:track:5olyO9wuEEAnmIPimW0hSR   \n",
       "3168  5gd0HejASad00kbDUFABnV  spotify:track:5gd0HejASad00kbDUFABnV   \n",
       "3169  2fH7BUgSFwXEH9oB2R051B  spotify:track:2fH7BUgSFwXEH9oB2R051B   \n",
       "3170  2lCQ1Dp6xOp9VntHlFevyo  spotify:track:2lCQ1Dp6xOp9VntHlFevyo   \n",
       "...                      ...                                   ...   \n",
       "7189  4pHPgZOypoLFxt7oRoyjaQ  spotify:track:4pHPgZOypoLFxt7oRoyjaQ   \n",
       "7190  3MVdAEHp17znDQx29i7Kna  spotify:track:3MVdAEHp17znDQx29i7Kna   \n",
       "7191  05ve257LhFO9nGTzM3pfoC  spotify:track:05ve257LhFO9nGTzM3pfoC   \n",
       "7192  7qP2fyygL7lmm6Ti2gHDr5  spotify:track:7qP2fyygL7lmm6Ti2gHDr5   \n",
       "7193  01kRyXOOZfmZLV7E4GGSQe  spotify:track:01kRyXOOZfmZLV7E4GGSQe   \n",
       "\n",
       "                                             track_href  \\\n",
       "3166  https://api.spotify.com/v1/tracks/52GRfo1fNyym...   \n",
       "3167  https://api.spotify.com/v1/tracks/5olyO9wuEEAn...   \n",
       "3168  https://api.spotify.com/v1/tracks/5gd0HejASad0...   \n",
       "3169  https://api.spotify.com/v1/tracks/2fH7BUgSFwXE...   \n",
       "3170  https://api.spotify.com/v1/tracks/2lCQ1Dp6xOp9...   \n",
       "...                                                 ...   \n",
       "7189  https://api.spotify.com/v1/tracks/4pHPgZOypoLF...   \n",
       "7190  https://api.spotify.com/v1/tracks/3MVdAEHp17zn...   \n",
       "7191  https://api.spotify.com/v1/tracks/05ve257LhFO9...   \n",
       "7192  https://api.spotify.com/v1/tracks/7qP2fyygL7lm...   \n",
       "7193  https://api.spotify.com/v1/tracks/01kRyXOOZfmZ...   \n",
       "\n",
       "                                           analysis_url  duration_ms  \\\n",
       "3166  https://api.spotify.com/v1/audio-analysis/52GR...     389420.0   \n",
       "3167  https://api.spotify.com/v1/audio-analysis/5oly...     418098.0   \n",
       "3168  https://api.spotify.com/v1/audio-analysis/5gd0...     363429.0   \n",
       "3169  https://api.spotify.com/v1/audio-analysis/2fH7...     348784.0   \n",
       "3170  https://api.spotify.com/v1/audio-analysis/2lCQ...     276169.0   \n",
       "...                                                 ...          ...   \n",
       "7189  https://api.spotify.com/v1/audio-analysis/4pHP...     288000.0   \n",
       "7190  https://api.spotify.com/v1/audio-analysis/3MVd...     339871.0   \n",
       "7191  https://api.spotify.com/v1/audio-analysis/05ve...     344276.0   \n",
       "7192  https://api.spotify.com/v1/audio-analysis/7qP2...     358310.0   \n",
       "7193  https://api.spotify.com/v1/audio-analysis/01kR...     309000.0   \n",
       "\n",
       "      time_signature   genre  \n",
       "3166             4.0  techno  \n",
       "3167             4.0  techno  \n",
       "3168             4.0  techno  \n",
       "3169             4.0  techno  \n",
       "3170             4.0  techno  \n",
       "...              ...     ...  \n",
       "7189             4.0  techno  \n",
       "7190             4.0  techno  \n",
       "7191             4.0  techno  \n",
       "7192             4.0  techno  \n",
       "7193             4.0  techno  \n",
       "\n",
       "[4028 rows x 19 columns]"
      ],
      "text/html": "<div>\n<style scoped>\n    .dataframe tbody tr th:only-of-type {\n        vertical-align: middle;\n    }\n\n    .dataframe tbody tr th {\n        vertical-align: top;\n    }\n\n    .dataframe thead th {\n        text-align: right;\n    }\n</style>\n<table border=\"1\" class=\"dataframe\">\n  <thead>\n    <tr style=\"text-align: right;\">\n      <th></th>\n      <th>danceability</th>\n      <th>energy</th>\n      <th>key</th>\n      <th>loudness</th>\n      <th>mode</th>\n      <th>speechiness</th>\n      <th>acousticness</th>\n      <th>instrumentalness</th>\n      <th>liveness</th>\n      <th>valence</th>\n      <th>tempo</th>\n      <th>type</th>\n      <th>id</th>\n      <th>uri</th>\n      <th>track_href</th>\n      <th>analysis_url</th>\n      <th>duration_ms</th>\n      <th>time_signature</th>\n      <th>genre</th>\n    </tr>\n  </thead>\n  <tbody>\n    <tr>\n      <th>3166</th>\n      <td>0.800</td>\n      <td>0.842</td>\n      <td>6.0</td>\n      <td>-8.674</td>\n      <td>1.0</td>\n      <td>0.0513</td>\n      <td>0.00136</td>\n      <td>0.892</td>\n      <td>0.0917</td>\n      <td>0.0416</td>\n      <td>127.983</td>\n      <td>audio_features</td>\n      <td>52GRfo1fNyym5u2GXbOLtg</td>\n      <td>spotify:track:52GRfo1fNyym5u2GXbOLtg</td>\n      <td>https://api.spotify.com/v1/tracks/52GRfo1fNyym...</td>\n      <td>https://api.spotify.com/v1/audio-analysis/52GR...</td>\n      <td>389420.0</td>\n      <td>4.0</td>\n      <td>techno</td>\n    </tr>\n    <tr>\n      <th>3167</th>\n      <td>0.850</td>\n      <td>0.810</td>\n      <td>9.0</td>\n      <td>-7.364</td>\n      <td>1.0</td>\n      <td>0.0658</td>\n      <td>0.11300</td>\n      <td>0.858</td>\n      <td>0.1110</td>\n      <td>0.1230</td>\n      <td>128.994</td>\n      <td>audio_features</td>\n      <td>5olyO9wuEEAnmIPimW0hSR</td>\n      <td>spotify:track:5olyO9wuEEAnmIPimW0hSR</td>\n      <td>https://api.spotify.com/v1/tracks/5olyO9wuEEAn...</td>\n      <td>https://api.spotify.com/v1/audio-analysis/5oly...</td>\n      <td>418098.0</td>\n      <td>4.0</td>\n      <td>techno</td>\n    </tr>\n    <tr>\n      <th>3168</th>\n      <td>0.802</td>\n      <td>0.818</td>\n      <td>10.0</td>\n      <td>-10.184</td>\n      <td>1.0</td>\n      <td>0.0397</td>\n      <td>0.00221</td>\n      <td>0.933</td>\n      <td>0.1170</td>\n      <td>0.4660</td>\n      <td>139.994</td>\n      <td>audio_features</td>\n      <td>5gd0HejASad00kbDUFABnV</td>\n      <td>spotify:track:5gd0HejASad00kbDUFABnV</td>\n      <td>https://api.spotify.com/v1/tracks/5gd0HejASad0...</td>\n      <td>https://api.spotify.com/v1/audio-analysis/5gd0...</td>\n      <td>363429.0</td>\n      <td>4.0</td>\n      <td>techno</td>\n    </tr>\n    <tr>\n      <th>3169</th>\n      <td>0.680</td>\n      <td>0.995</td>\n      <td>8.0</td>\n      <td>-8.965</td>\n      <td>0.0</td>\n      <td>0.0492</td>\n      <td>0.07350</td>\n      <td>0.938</td>\n      <td>0.1150</td>\n      <td>0.1490</td>\n      <td>135.016</td>\n      <td>audio_features</td>\n      <td>2fH7BUgSFwXEH9oB2R051B</td>\n      <td>spotify:track:2fH7BUgSFwXEH9oB2R051B</td>\n      <td>https://api.spotify.com/v1/tracks/2fH7BUgSFwXE...</td>\n      <td>https://api.spotify.com/v1/audio-analysis/2fH7...</td>\n      <td>348784.0</td>\n      <td>4.0</td>\n      <td>techno</td>\n    </tr>\n    <tr>\n      <th>3170</th>\n      <td>0.586</td>\n      <td>0.955</td>\n      <td>7.0</td>\n      <td>-8.540</td>\n      <td>1.0</td>\n      <td>0.0653</td>\n      <td>0.00306</td>\n      <td>0.880</td>\n      <td>0.0957</td>\n      <td>0.6330</td>\n      <td>139.992</td>\n      <td>audio_features</td>\n      <td>2lCQ1Dp6xOp9VntHlFevyo</td>\n      <td>spotify:track:2lCQ1Dp6xOp9VntHlFevyo</td>\n      <td>https://api.spotify.com/v1/tracks/2lCQ1Dp6xOp9...</td>\n      <td>https://api.spotify.com/v1/audio-analysis/2lCQ...</td>\n      <td>276169.0</td>\n      <td>4.0</td>\n      <td>techno</td>\n    </tr>\n    <tr>\n      <th>...</th>\n      <td>...</td>\n      <td>...</td>\n      <td>...</td>\n      <td>...</td>\n      <td>...</td>\n      <td>...</td>\n      <td>...</td>\n      <td>...</td>\n      <td>...</td>\n      <td>...</td>\n      <td>...</td>\n      <td>...</td>\n      <td>...</td>\n      <td>...</td>\n      <td>...</td>\n      <td>...</td>\n      <td>...</td>\n      <td>...</td>\n      <td>...</td>\n    </tr>\n    <tr>\n      <th>7189</th>\n      <td>0.581</td>\n      <td>0.974</td>\n      <td>6.0</td>\n      <td>-6.657</td>\n      <td>0.0</td>\n      <td>0.1150</td>\n      <td>0.10500</td>\n      <td>0.163</td>\n      <td>0.1050</td>\n      <td>0.5090</td>\n      <td>75.014</td>\n      <td>audio_features</td>\n      <td>4pHPgZOypoLFxt7oRoyjaQ</td>\n      <td>spotify:track:4pHPgZOypoLFxt7oRoyjaQ</td>\n      <td>https://api.spotify.com/v1/tracks/4pHPgZOypoLF...</td>\n      <td>https://api.spotify.com/v1/audio-analysis/4pHP...</td>\n      <td>288000.0</td>\n      <td>4.0</td>\n      <td>techno</td>\n    </tr>\n    <tr>\n      <th>7190</th>\n      <td>0.625</td>\n      <td>0.994</td>\n      <td>2.0</td>\n      <td>-7.794</td>\n      <td>1.0</td>\n      <td>0.0786</td>\n      <td>0.02370</td>\n      <td>0.132</td>\n      <td>0.2890</td>\n      <td>0.2560</td>\n      <td>74.994</td>\n      <td>audio_features</td>\n      <td>3MVdAEHp17znDQx29i7Kna</td>\n      <td>spotify:track:3MVdAEHp17znDQx29i7Kna</td>\n      <td>https://api.spotify.com/v1/tracks/3MVdAEHp17zn...</td>\n      <td>https://api.spotify.com/v1/audio-analysis/3MVd...</td>\n      <td>339871.0</td>\n      <td>4.0</td>\n      <td>techno</td>\n    </tr>\n    <tr>\n      <th>7191</th>\n      <td>0.639</td>\n      <td>0.995</td>\n      <td>11.0</td>\n      <td>-8.407</td>\n      <td>1.0</td>\n      <td>0.0375</td>\n      <td>0.00613</td>\n      <td>0.876</td>\n      <td>0.1680</td>\n      <td>0.5610</td>\n      <td>145.003</td>\n      <td>audio_features</td>\n      <td>05ve257LhFO9nGTzM3pfoC</td>\n      <td>spotify:track:05ve257LhFO9nGTzM3pfoC</td>\n      <td>https://api.spotify.com/v1/tracks/05ve257LhFO9...</td>\n      <td>https://api.spotify.com/v1/audio-analysis/05ve...</td>\n      <td>344276.0</td>\n      <td>4.0</td>\n      <td>techno</td>\n    </tr>\n    <tr>\n      <th>7192</th>\n      <td>0.674</td>\n      <td>0.978</td>\n      <td>6.0</td>\n      <td>-8.647</td>\n      <td>1.0</td>\n      <td>0.0902</td>\n      <td>0.00159</td>\n      <td>0.769</td>\n      <td>0.1130</td>\n      <td>0.1670</td>\n      <td>141.995</td>\n      <td>audio_features</td>\n      <td>7qP2fyygL7lmm6Ti2gHDr5</td>\n      <td>spotify:track:7qP2fyygL7lmm6Ti2gHDr5</td>\n      <td>https://api.spotify.com/v1/tracks/7qP2fyygL7lm...</td>\n      <td>https://api.spotify.com/v1/audio-analysis/7qP2...</td>\n      <td>358310.0</td>\n      <td>4.0</td>\n      <td>techno</td>\n    </tr>\n    <tr>\n      <th>7193</th>\n      <td>0.550</td>\n      <td>0.993</td>\n      <td>6.0</td>\n      <td>-5.066</td>\n      <td>1.0</td>\n      <td>0.0922</td>\n      <td>0.00996</td>\n      <td>0.800</td>\n      <td>0.0578</td>\n      <td>0.1210</td>\n      <td>145.983</td>\n      <td>audio_features</td>\n      <td>01kRyXOOZfmZLV7E4GGSQe</td>\n      <td>spotify:track:01kRyXOOZfmZLV7E4GGSQe</td>\n      <td>https://api.spotify.com/v1/tracks/01kRyXOOZfmZ...</td>\n      <td>https://api.spotify.com/v1/audio-analysis/01kR...</td>\n      <td>309000.0</td>\n      <td>4.0</td>\n      <td>techno</td>\n    </tr>\n  </tbody>\n</table>\n<p>4028 rows × 19 columns</p>\n</div>"
     },
     "metadata": {},
     "execution_count": 28
    }
   ],
   "source": []
  },
  {
   "cell_type": "code",
   "execution_count": 35,
   "metadata": {},
   "outputs": [
    {
     "output_type": "execute_result",
     "data": {
      "text/plain": [
       "<seaborn.axisgrid.FacetGrid at 0x16664b2eaf0>"
      ]
     },
     "metadata": {},
     "execution_count": 35
    },
    {
     "output_type": "display_data",
     "data": {
      "text/plain": "<Figure size 360x360 with 1 Axes>",
      "image/svg+xml": "<?xml version=\"1.0\" encoding=\"utf-8\" standalone=\"no\"?>\r\n<!DOCTYPE svg PUBLIC \"-//W3C//DTD SVG 1.1//EN\"\r\n  \"http://www.w3.org/Graphics/SVG/1.1/DTD/svg11.dtd\">\r\n<!-- Created with matplotlib (https://matplotlib.org/) -->\r\n<svg height=\"352.15625pt\" version=\"1.1\" viewBox=\"0 0 352.428125 352.15625\" width=\"352.428125pt\" xmlns=\"http://www.w3.org/2000/svg\" xmlns:xlink=\"http://www.w3.org/1999/xlink\">\r\n <metadata>\r\n  <rdf:RDF xmlns:cc=\"http://creativecommons.org/ns#\" xmlns:dc=\"http://purl.org/dc/elements/1.1/\" xmlns:rdf=\"http://www.w3.org/1999/02/22-rdf-syntax-ns#\">\r\n   <cc:Work>\r\n    <dc:type rdf:resource=\"http://purl.org/dc/dcmitype/StillImage\"/>\r\n    <dc:date>2021-02-15T20:57:53.067103</dc:date>\r\n    <dc:format>image/svg+xml</dc:format>\r\n    <dc:creator>\r\n     <cc:Agent>\r\n      <dc:title>Matplotlib v3.3.0, https://matplotlib.org/</dc:title>\r\n     </cc:Agent>\r\n    </dc:creator>\r\n   </cc:Work>\r\n  </rdf:RDF>\r\n </metadata>\r\n <defs>\r\n  <style type=\"text/css\">*{stroke-linecap:butt;stroke-linejoin:round;}</style>\r\n </defs>\r\n <g id=\"figure_1\">\r\n  <g id=\"patch_1\">\r\n   <path d=\"M 0 352.15625 \r\nL 352.428125 352.15625 \r\nL 352.428125 0 \r\nL 0 0 \r\nz\r\n\" style=\"fill:none;\"/>\r\n  </g>\r\n  <g id=\"axes_1\">\r\n   <g id=\"patch_2\">\r\n    <path d=\"M 53.328125 314.6 \r\nL 345.228125 314.6 \r\nL 345.228125 7.2 \r\nL 53.328125 7.2 \r\nz\r\n\" style=\"fill:#ffffff;\"/>\r\n   </g>\r\n   <g id=\"patch_3\">\r\n    <path clip-path=\"url(#p6cf46986eb)\" d=\"M 66.596307 314.6 \r\nL 79.864489 314.6 \r\nL 79.864489 185.367839 \r\nL 66.596307 185.367839 \r\nz\r\n\" style=\"fill:#1f77b4;fill-opacity:0.75;stroke:#000000;stroke-linejoin:miter;\"/>\r\n   </g>\r\n   <g id=\"patch_4\">\r\n    <path clip-path=\"url(#p6cf46986eb)\" d=\"M 79.864489 314.6 \r\nL 93.13267 314.6 \r\nL 93.13267 21.838095 \r\nL 79.864489 21.838095 \r\nz\r\n\" style=\"fill:#1f77b4;fill-opacity:0.75;stroke:#000000;stroke-linejoin:miter;\"/>\r\n   </g>\r\n   <g id=\"patch_5\">\r\n    <path clip-path=\"url(#p6cf46986eb)\" d=\"M 93.13267 314.6 \r\nL 106.400852 314.6 \r\nL 106.400852 314.6 \r\nL 93.13267 314.6 \r\nz\r\n\" style=\"fill:#1f77b4;fill-opacity:0.75;stroke:#000000;stroke-linejoin:miter;\"/>\r\n   </g>\r\n   <g id=\"patch_6\">\r\n    <path clip-path=\"url(#p6cf46986eb)\" d=\"M 106.400852 314.6 \r\nL 119.669034 314.6 \r\nL 119.669034 195.08666 \r\nL 106.400852 195.08666 \r\nz\r\n\" style=\"fill:#1f77b4;fill-opacity:0.75;stroke:#000000;stroke-linejoin:miter;\"/>\r\n   </g>\r\n   <g id=\"patch_7\">\r\n    <path clip-path=\"url(#p6cf46986eb)\" d=\"M 119.669034 314.6 \r\nL 132.937216 314.6 \r\nL 132.937216 314.6 \r\nL 119.669034 314.6 \r\nz\r\n\" style=\"fill:#1f77b4;fill-opacity:0.75;stroke:#000000;stroke-linejoin:miter;\"/>\r\n   </g>\r\n   <g id=\"patch_8\">\r\n    <path clip-path=\"url(#p6cf46986eb)\" d=\"M 132.937216 314.6 \r\nL 146.205398 314.6 \r\nL 146.205398 281.640517 \r\nL 132.937216 281.640517 \r\nz\r\n\" style=\"fill:#1f77b4;fill-opacity:0.75;stroke:#000000;stroke-linejoin:miter;\"/>\r\n   </g>\r\n   <g id=\"patch_9\">\r\n    <path clip-path=\"url(#p6cf46986eb)\" d=\"M 146.205398 314.6 \r\nL 159.47358 314.6 \r\nL 159.47358 314.6 \r\nL 146.205398 314.6 \r\nz\r\n\" style=\"fill:#1f77b4;fill-opacity:0.75;stroke:#000000;stroke-linejoin:miter;\"/>\r\n   </g>\r\n   <g id=\"patch_10\">\r\n    <path clip-path=\"url(#p6cf46986eb)\" d=\"M 159.47358 314.6 \r\nL 172.741761 314.6 \r\nL 172.741761 219.454142 \r\nL 159.47358 219.454142 \r\nz\r\n\" style=\"fill:#1f77b4;fill-opacity:0.75;stroke:#000000;stroke-linejoin:miter;\"/>\r\n   </g>\r\n   <g id=\"patch_11\">\r\n    <path clip-path=\"url(#p6cf46986eb)\" d=\"M 172.741761 314.6 \r\nL 186.009943 314.6 \r\nL 186.009943 314.6 \r\nL 172.741761 314.6 \r\nz\r\n\" style=\"fill:#1f77b4;fill-opacity:0.75;stroke:#000000;stroke-linejoin:miter;\"/>\r\n   </g>\r\n   <g id=\"patch_12\">\r\n    <path clip-path=\"url(#p6cf46986eb)\" d=\"M 186.009943 314.6 \r\nL 199.278125 314.6 \r\nL 199.278125 177.339246 \r\nL 186.009943 177.339246 \r\nz\r\n\" style=\"fill:#1f77b4;fill-opacity:0.75;stroke:#000000;stroke-linejoin:miter;\"/>\r\n   </g>\r\n   <g id=\"patch_13\">\r\n    <path clip-path=\"url(#p6cf46986eb)\" d=\"M 199.278125 314.6 \r\nL 212.546307 314.6 \r\nL 212.546307 171.916426 \r\nL 199.278125 171.916426 \r\nz\r\n\" style=\"fill:#1f77b4;fill-opacity:0.75;stroke:#000000;stroke-linejoin:miter;\"/>\r\n   </g>\r\n   <g id=\"patch_14\">\r\n    <path clip-path=\"url(#p6cf46986eb)\" d=\"M 212.546307 314.6 \r\nL 225.814489 314.6 \r\nL 225.814489 314.6 \r\nL 212.546307 314.6 \r\nz\r\n\" style=\"fill:#1f77b4;fill-opacity:0.75;stroke:#000000;stroke-linejoin:miter;\"/>\r\n   </g>\r\n   <g id=\"patch_15\">\r\n    <path clip-path=\"url(#p6cf46986eb)\" d=\"M 225.814489 314.6 \r\nL 239.08267 314.6 \r\nL 239.08267 141.703566 \r\nL 225.814489 141.703566 \r\nz\r\n\" style=\"fill:#1f77b4;fill-opacity:0.75;stroke:#000000;stroke-linejoin:miter;\"/>\r\n   </g>\r\n   <g id=\"patch_16\">\r\n    <path clip-path=\"url(#p6cf46986eb)\" d=\"M 239.08267 314.6 \r\nL 252.350852 314.6 \r\nL 252.350852 314.6 \r\nL 239.08267 314.6 \r\nz\r\n\" style=\"fill:#1f77b4;fill-opacity:0.75;stroke:#000000;stroke-linejoin:miter;\"/>\r\n   </g>\r\n   <g id=\"patch_17\">\r\n    <path clip-path=\"url(#p6cf46986eb)\" d=\"M 252.350852 314.6 \r\nL 265.619034 314.6 \r\nL 265.619034 196.002202 \r\nL 252.350852 196.002202 \r\nz\r\n\" style=\"fill:#1f77b4;fill-opacity:0.75;stroke:#000000;stroke-linejoin:miter;\"/>\r\n   </g>\r\n   <g id=\"patch_18\">\r\n    <path clip-path=\"url(#p6cf46986eb)\" d=\"M 265.619034 314.6 \r\nL 278.887216 314.6 \r\nL 278.887216 314.6 \r\nL 265.619034 314.6 \r\nz\r\n\" style=\"fill:#1f77b4;fill-opacity:0.75;stroke:#000000;stroke-linejoin:miter;\"/>\r\n   </g>\r\n   <g id=\"patch_19\">\r\n    <path clip-path=\"url(#p6cf46986eb)\" d=\"M 278.887216 314.6 \r\nL 292.155398 314.6 \r\nL 292.155398 184.804429 \r\nL 278.887216 184.804429 \r\nz\r\n\" style=\"fill:#1f77b4;fill-opacity:0.75;stroke:#000000;stroke-linejoin:miter;\"/>\r\n   </g>\r\n   <g id=\"patch_20\">\r\n    <path clip-path=\"url(#p6cf46986eb)\" d=\"M 292.155398 314.6 \r\nL 305.42358 314.6 \r\nL 305.42358 314.6 \r\nL 292.155398 314.6 \r\nz\r\n\" style=\"fill:#1f77b4;fill-opacity:0.75;stroke:#000000;stroke-linejoin:miter;\"/>\r\n   </g>\r\n   <g id=\"patch_21\">\r\n    <path clip-path=\"url(#p6cf46986eb)\" d=\"M 305.42358 314.6 \r\nL 318.691761 314.6 \r\nL 318.691761 181.564821 \r\nL 305.42358 181.564821 \r\nz\r\n\" style=\"fill:#1f77b4;fill-opacity:0.75;stroke:#000000;stroke-linejoin:miter;\"/>\r\n   </g>\r\n   <g id=\"patch_22\">\r\n    <path clip-path=\"url(#p6cf46986eb)\" d=\"M 318.691761 314.6 \r\nL 331.959943 314.6 \r\nL 331.959943 125.857661 \r\nL 318.691761 125.857661 \r\nz\r\n\" style=\"fill:#1f77b4;fill-opacity:0.75;stroke:#000000;stroke-linejoin:miter;\"/>\r\n   </g>\r\n   <g id=\"matplotlib.axis_1\">\r\n    <g id=\"xtick_1\">\r\n     <g id=\"line2d_1\">\r\n      <defs>\r\n       <path d=\"M 0 0 \r\nL 0 3.5 \r\n\" id=\"mc141135c22\" style=\"stroke:#000000;stroke-width:0.8;\"/>\r\n      </defs>\r\n      <g>\r\n       <use style=\"stroke:#000000;stroke-width:0.8;\" x=\"66.596307\" xlink:href=\"#mc141135c22\" y=\"314.6\"/>\r\n      </g>\r\n     </g>\r\n     <g id=\"text_1\">\r\n      <!-- 0 -->\r\n      <g transform=\"translate(63.415057 329.198437)scale(0.1 -0.1)\">\r\n       <defs>\r\n        <path d=\"M 31.78125 66.40625 \r\nQ 24.171875 66.40625 20.328125 58.90625 \r\nQ 16.5 51.421875 16.5 36.375 \r\nQ 16.5 21.390625 20.328125 13.890625 \r\nQ 24.171875 6.390625 31.78125 6.390625 \r\nQ 39.453125 6.390625 43.28125 13.890625 \r\nQ 47.125 21.390625 47.125 36.375 \r\nQ 47.125 51.421875 43.28125 58.90625 \r\nQ 39.453125 66.40625 31.78125 66.40625 \r\nz\r\nM 31.78125 74.21875 \r\nQ 44.046875 74.21875 50.515625 64.515625 \r\nQ 56.984375 54.828125 56.984375 36.375 \r\nQ 56.984375 17.96875 50.515625 8.265625 \r\nQ 44.046875 -1.421875 31.78125 -1.421875 \r\nQ 19.53125 -1.421875 13.0625 8.265625 \r\nQ 6.59375 17.96875 6.59375 36.375 \r\nQ 6.59375 54.828125 13.0625 64.515625 \r\nQ 19.53125 74.21875 31.78125 74.21875 \r\nz\r\n\" id=\"DejaVuSans-48\"/>\r\n       </defs>\r\n       <use xlink:href=\"#DejaVuSans-48\"/>\r\n      </g>\r\n     </g>\r\n    </g>\r\n    <g id=\"xtick_2\">\r\n     <g id=\"line2d_2\">\r\n      <g>\r\n       <use style=\"stroke:#000000;stroke-width:0.8;\" x=\"114.844241\" xlink:href=\"#mc141135c22\" y=\"314.6\"/>\r\n      </g>\r\n     </g>\r\n     <g id=\"text_2\">\r\n      <!-- 2 -->\r\n      <g transform=\"translate(111.662991 329.198437)scale(0.1 -0.1)\">\r\n       <defs>\r\n        <path d=\"M 19.1875 8.296875 \r\nL 53.609375 8.296875 \r\nL 53.609375 0 \r\nL 7.328125 0 \r\nL 7.328125 8.296875 \r\nQ 12.9375 14.109375 22.625 23.890625 \r\nQ 32.328125 33.6875 34.8125 36.53125 \r\nQ 39.546875 41.84375 41.421875 45.53125 \r\nQ 43.3125 49.21875 43.3125 52.78125 \r\nQ 43.3125 58.59375 39.234375 62.25 \r\nQ 35.15625 65.921875 28.609375 65.921875 \r\nQ 23.96875 65.921875 18.8125 64.3125 \r\nQ 13.671875 62.703125 7.8125 59.421875 \r\nL 7.8125 69.390625 \r\nQ 13.765625 71.78125 18.9375 73 \r\nQ 24.125 74.21875 28.421875 74.21875 \r\nQ 39.75 74.21875 46.484375 68.546875 \r\nQ 53.21875 62.890625 53.21875 53.421875 \r\nQ 53.21875 48.921875 51.53125 44.890625 \r\nQ 49.859375 40.875 45.40625 35.40625 \r\nQ 44.1875 33.984375 37.640625 27.21875 \r\nQ 31.109375 20.453125 19.1875 8.296875 \r\nz\r\n\" id=\"DejaVuSans-50\"/>\r\n       </defs>\r\n       <use xlink:href=\"#DejaVuSans-50\"/>\r\n      </g>\r\n     </g>\r\n    </g>\r\n    <g id=\"xtick_3\">\r\n     <g id=\"line2d_3\">\r\n      <g>\r\n       <use style=\"stroke:#000000;stroke-width:0.8;\" x=\"163.092175\" xlink:href=\"#mc141135c22\" y=\"314.6\"/>\r\n      </g>\r\n     </g>\r\n     <g id=\"text_3\">\r\n      <!-- 4 -->\r\n      <g transform=\"translate(159.910925 329.198437)scale(0.1 -0.1)\">\r\n       <defs>\r\n        <path d=\"M 37.796875 64.3125 \r\nL 12.890625 25.390625 \r\nL 37.796875 25.390625 \r\nz\r\nM 35.203125 72.90625 \r\nL 47.609375 72.90625 \r\nL 47.609375 25.390625 \r\nL 58.015625 25.390625 \r\nL 58.015625 17.1875 \r\nL 47.609375 17.1875 \r\nL 47.609375 0 \r\nL 37.796875 0 \r\nL 37.796875 17.1875 \r\nL 4.890625 17.1875 \r\nL 4.890625 26.703125 \r\nz\r\n\" id=\"DejaVuSans-52\"/>\r\n       </defs>\r\n       <use xlink:href=\"#DejaVuSans-52\"/>\r\n      </g>\r\n     </g>\r\n    </g>\r\n    <g id=\"xtick_4\">\r\n     <g id=\"line2d_4\">\r\n      <g>\r\n       <use style=\"stroke:#000000;stroke-width:0.8;\" x=\"211.340108\" xlink:href=\"#mc141135c22\" y=\"314.6\"/>\r\n      </g>\r\n     </g>\r\n     <g id=\"text_4\">\r\n      <!-- 6 -->\r\n      <g transform=\"translate(208.158858 329.198437)scale(0.1 -0.1)\">\r\n       <defs>\r\n        <path d=\"M 33.015625 40.375 \r\nQ 26.375 40.375 22.484375 35.828125 \r\nQ 18.609375 31.296875 18.609375 23.390625 \r\nQ 18.609375 15.53125 22.484375 10.953125 \r\nQ 26.375 6.390625 33.015625 6.390625 \r\nQ 39.65625 6.390625 43.53125 10.953125 \r\nQ 47.40625 15.53125 47.40625 23.390625 \r\nQ 47.40625 31.296875 43.53125 35.828125 \r\nQ 39.65625 40.375 33.015625 40.375 \r\nz\r\nM 52.59375 71.296875 \r\nL 52.59375 62.3125 \r\nQ 48.875 64.0625 45.09375 64.984375 \r\nQ 41.3125 65.921875 37.59375 65.921875 \r\nQ 27.828125 65.921875 22.671875 59.328125 \r\nQ 17.53125 52.734375 16.796875 39.40625 \r\nQ 19.671875 43.65625 24.015625 45.921875 \r\nQ 28.375 48.1875 33.59375 48.1875 \r\nQ 44.578125 48.1875 50.953125 41.515625 \r\nQ 57.328125 34.859375 57.328125 23.390625 \r\nQ 57.328125 12.15625 50.6875 5.359375 \r\nQ 44.046875 -1.421875 33.015625 -1.421875 \r\nQ 20.359375 -1.421875 13.671875 8.265625 \r\nQ 6.984375 17.96875 6.984375 36.375 \r\nQ 6.984375 53.65625 15.1875 63.9375 \r\nQ 23.390625 74.21875 37.203125 74.21875 \r\nQ 40.921875 74.21875 44.703125 73.484375 \r\nQ 48.484375 72.75 52.59375 71.296875 \r\nz\r\n\" id=\"DejaVuSans-54\"/>\r\n       </defs>\r\n       <use xlink:href=\"#DejaVuSans-54\"/>\r\n      </g>\r\n     </g>\r\n    </g>\r\n    <g id=\"xtick_5\">\r\n     <g id=\"line2d_5\">\r\n      <g>\r\n       <use style=\"stroke:#000000;stroke-width:0.8;\" x=\"259.588042\" xlink:href=\"#mc141135c22\" y=\"314.6\"/>\r\n      </g>\r\n     </g>\r\n     <g id=\"text_5\">\r\n      <!-- 8 -->\r\n      <g transform=\"translate(256.406792 329.198437)scale(0.1 -0.1)\">\r\n       <defs>\r\n        <path d=\"M 31.78125 34.625 \r\nQ 24.75 34.625 20.71875 30.859375 \r\nQ 16.703125 27.09375 16.703125 20.515625 \r\nQ 16.703125 13.921875 20.71875 10.15625 \r\nQ 24.75 6.390625 31.78125 6.390625 \r\nQ 38.8125 6.390625 42.859375 10.171875 \r\nQ 46.921875 13.96875 46.921875 20.515625 \r\nQ 46.921875 27.09375 42.890625 30.859375 \r\nQ 38.875 34.625 31.78125 34.625 \r\nz\r\nM 21.921875 38.8125 \r\nQ 15.578125 40.375 12.03125 44.71875 \r\nQ 8.5 49.078125 8.5 55.328125 \r\nQ 8.5 64.0625 14.71875 69.140625 \r\nQ 20.953125 74.21875 31.78125 74.21875 \r\nQ 42.671875 74.21875 48.875 69.140625 \r\nQ 55.078125 64.0625 55.078125 55.328125 \r\nQ 55.078125 49.078125 51.53125 44.71875 \r\nQ 48 40.375 41.703125 38.8125 \r\nQ 48.828125 37.15625 52.796875 32.3125 \r\nQ 56.78125 27.484375 56.78125 20.515625 \r\nQ 56.78125 9.90625 50.3125 4.234375 \r\nQ 43.84375 -1.421875 31.78125 -1.421875 \r\nQ 19.734375 -1.421875 13.25 4.234375 \r\nQ 6.78125 9.90625 6.78125 20.515625 \r\nQ 6.78125 27.484375 10.78125 32.3125 \r\nQ 14.796875 37.15625 21.921875 38.8125 \r\nz\r\nM 18.3125 54.390625 \r\nQ 18.3125 48.734375 21.84375 45.5625 \r\nQ 25.390625 42.390625 31.78125 42.390625 \r\nQ 38.140625 42.390625 41.71875 45.5625 \r\nQ 45.3125 48.734375 45.3125 54.390625 \r\nQ 45.3125 60.0625 41.71875 63.234375 \r\nQ 38.140625 66.40625 31.78125 66.40625 \r\nQ 25.390625 66.40625 21.84375 63.234375 \r\nQ 18.3125 60.0625 18.3125 54.390625 \r\nz\r\n\" id=\"DejaVuSans-56\"/>\r\n       </defs>\r\n       <use xlink:href=\"#DejaVuSans-56\"/>\r\n      </g>\r\n     </g>\r\n    </g>\r\n    <g id=\"xtick_6\">\r\n     <g id=\"line2d_6\">\r\n      <g>\r\n       <use style=\"stroke:#000000;stroke-width:0.8;\" x=\"307.835976\" xlink:href=\"#mc141135c22\" y=\"314.6\"/>\r\n      </g>\r\n     </g>\r\n     <g id=\"text_6\">\r\n      <!-- 10 -->\r\n      <g transform=\"translate(301.473476 329.198437)scale(0.1 -0.1)\">\r\n       <defs>\r\n        <path d=\"M 12.40625 8.296875 \r\nL 28.515625 8.296875 \r\nL 28.515625 63.921875 \r\nL 10.984375 60.40625 \r\nL 10.984375 69.390625 \r\nL 28.421875 72.90625 \r\nL 38.28125 72.90625 \r\nL 38.28125 8.296875 \r\nL 54.390625 8.296875 \r\nL 54.390625 0 \r\nL 12.40625 0 \r\nz\r\n\" id=\"DejaVuSans-49\"/>\r\n       </defs>\r\n       <use xlink:href=\"#DejaVuSans-49\"/>\r\n       <use x=\"63.623047\" xlink:href=\"#DejaVuSans-48\"/>\r\n      </g>\r\n     </g>\r\n    </g>\r\n    <g id=\"text_7\">\r\n     <!-- key -->\r\n     <g transform=\"translate(190.528125 342.876562)scale(0.1 -0.1)\">\r\n      <defs>\r\n       <path d=\"M 9.078125 75.984375 \r\nL 18.109375 75.984375 \r\nL 18.109375 31.109375 \r\nL 44.921875 54.6875 \r\nL 56.390625 54.6875 \r\nL 27.390625 29.109375 \r\nL 57.625 0 \r\nL 45.90625 0 \r\nL 18.109375 26.703125 \r\nL 18.109375 0 \r\nL 9.078125 0 \r\nz\r\n\" id=\"DejaVuSans-107\"/>\r\n       <path d=\"M 56.203125 29.59375 \r\nL 56.203125 25.203125 \r\nL 14.890625 25.203125 \r\nQ 15.484375 15.921875 20.484375 11.0625 \r\nQ 25.484375 6.203125 34.421875 6.203125 \r\nQ 39.59375 6.203125 44.453125 7.46875 \r\nQ 49.3125 8.734375 54.109375 11.28125 \r\nL 54.109375 2.78125 \r\nQ 49.265625 0.734375 44.1875 -0.34375 \r\nQ 39.109375 -1.421875 33.890625 -1.421875 \r\nQ 20.796875 -1.421875 13.15625 6.1875 \r\nQ 5.515625 13.8125 5.515625 26.8125 \r\nQ 5.515625 40.234375 12.765625 48.109375 \r\nQ 20.015625 56 32.328125 56 \r\nQ 43.359375 56 49.78125 48.890625 \r\nQ 56.203125 41.796875 56.203125 29.59375 \r\nz\r\nM 47.21875 32.234375 \r\nQ 47.125 39.59375 43.09375 43.984375 \r\nQ 39.0625 48.390625 32.421875 48.390625 \r\nQ 24.90625 48.390625 20.390625 44.140625 \r\nQ 15.875 39.890625 15.1875 32.171875 \r\nz\r\n\" id=\"DejaVuSans-101\"/>\r\n       <path d=\"M 32.171875 -5.078125 \r\nQ 28.375 -14.84375 24.75 -17.8125 \r\nQ 21.140625 -20.796875 15.09375 -20.796875 \r\nL 7.90625 -20.796875 \r\nL 7.90625 -13.28125 \r\nL 13.1875 -13.28125 \r\nQ 16.890625 -13.28125 18.9375 -11.515625 \r\nQ 21 -9.765625 23.484375 -3.21875 \r\nL 25.09375 0.875 \r\nL 2.984375 54.6875 \r\nL 12.5 54.6875 \r\nL 29.59375 11.921875 \r\nL 46.6875 54.6875 \r\nL 56.203125 54.6875 \r\nz\r\n\" id=\"DejaVuSans-121\"/>\r\n      </defs>\r\n      <use xlink:href=\"#DejaVuSans-107\"/>\r\n      <use x=\"54.285156\" xlink:href=\"#DejaVuSans-101\"/>\r\n      <use x=\"115.808594\" xlink:href=\"#DejaVuSans-121\"/>\r\n     </g>\r\n    </g>\r\n   </g>\r\n   <g id=\"matplotlib.axis_2\">\r\n    <g id=\"ytick_1\">\r\n     <g id=\"line2d_7\">\r\n      <defs>\r\n       <path d=\"M 0 0 \r\nL -3.5 0 \r\n\" id=\"m8251e86f01\" style=\"stroke:#000000;stroke-width:0.8;\"/>\r\n      </defs>\r\n      <g>\r\n       <use style=\"stroke:#000000;stroke-width:0.8;\" x=\"53.328125\" xlink:href=\"#m8251e86f01\" y=\"314.6\"/>\r\n      </g>\r\n     </g>\r\n     <g id=\"text_8\">\r\n      <!-- 0 -->\r\n      <g transform=\"translate(39.965625 318.399219)scale(0.1 -0.1)\">\r\n       <use xlink:href=\"#DejaVuSans-48\"/>\r\n      </g>\r\n     </g>\r\n    </g>\r\n    <g id=\"ytick_2\">\r\n     <g id=\"line2d_8\">\r\n      <g>\r\n       <use style=\"stroke:#000000;stroke-width:0.8;\" x=\"53.328125\" xlink:href=\"#m8251e86f01\" y=\"279.386877\"/>\r\n      </g>\r\n     </g>\r\n     <g id=\"text_9\">\r\n      <!-- 500 -->\r\n      <g transform=\"translate(27.240625 283.186096)scale(0.1 -0.1)\">\r\n       <defs>\r\n        <path d=\"M 10.796875 72.90625 \r\nL 49.515625 72.90625 \r\nL 49.515625 64.59375 \r\nL 19.828125 64.59375 \r\nL 19.828125 46.734375 \r\nQ 21.96875 47.46875 24.109375 47.828125 \r\nQ 26.265625 48.1875 28.421875 48.1875 \r\nQ 40.625 48.1875 47.75 41.5 \r\nQ 54.890625 34.8125 54.890625 23.390625 \r\nQ 54.890625 11.625 47.5625 5.09375 \r\nQ 40.234375 -1.421875 26.90625 -1.421875 \r\nQ 22.3125 -1.421875 17.546875 -0.640625 \r\nQ 12.796875 0.140625 7.71875 1.703125 \r\nL 7.71875 11.625 \r\nQ 12.109375 9.234375 16.796875 8.0625 \r\nQ 21.484375 6.890625 26.703125 6.890625 \r\nQ 35.15625 6.890625 40.078125 11.328125 \r\nQ 45.015625 15.765625 45.015625 23.390625 \r\nQ 45.015625 31 40.078125 35.4375 \r\nQ 35.15625 39.890625 26.703125 39.890625 \r\nQ 22.75 39.890625 18.8125 39.015625 \r\nQ 14.890625 38.140625 10.796875 36.28125 \r\nz\r\n\" id=\"DejaVuSans-53\"/>\r\n       </defs>\r\n       <use xlink:href=\"#DejaVuSans-53\"/>\r\n       <use x=\"63.623047\" xlink:href=\"#DejaVuSans-48\"/>\r\n       <use x=\"127.246094\" xlink:href=\"#DejaVuSans-48\"/>\r\n      </g>\r\n     </g>\r\n    </g>\r\n    <g id=\"ytick_3\">\r\n     <g id=\"line2d_9\">\r\n      <g>\r\n       <use style=\"stroke:#000000;stroke-width:0.8;\" x=\"53.328125\" xlink:href=\"#m8251e86f01\" y=\"244.173754\"/>\r\n      </g>\r\n     </g>\r\n     <g id=\"text_10\">\r\n      <!-- 1000 -->\r\n      <g transform=\"translate(20.878125 247.972973)scale(0.1 -0.1)\">\r\n       <use xlink:href=\"#DejaVuSans-49\"/>\r\n       <use x=\"63.623047\" xlink:href=\"#DejaVuSans-48\"/>\r\n       <use x=\"127.246094\" xlink:href=\"#DejaVuSans-48\"/>\r\n       <use x=\"190.869141\" xlink:href=\"#DejaVuSans-48\"/>\r\n      </g>\r\n     </g>\r\n    </g>\r\n    <g id=\"ytick_4\">\r\n     <g id=\"line2d_10\">\r\n      <g>\r\n       <use style=\"stroke:#000000;stroke-width:0.8;\" x=\"53.328125\" xlink:href=\"#m8251e86f01\" y=\"208.960631\"/>\r\n      </g>\r\n     </g>\r\n     <g id=\"text_11\">\r\n      <!-- 1500 -->\r\n      <g transform=\"translate(20.878125 212.75985)scale(0.1 -0.1)\">\r\n       <use xlink:href=\"#DejaVuSans-49\"/>\r\n       <use x=\"63.623047\" xlink:href=\"#DejaVuSans-53\"/>\r\n       <use x=\"127.246094\" xlink:href=\"#DejaVuSans-48\"/>\r\n       <use x=\"190.869141\" xlink:href=\"#DejaVuSans-48\"/>\r\n      </g>\r\n     </g>\r\n    </g>\r\n    <g id=\"ytick_5\">\r\n     <g id=\"line2d_11\">\r\n      <g>\r\n       <use style=\"stroke:#000000;stroke-width:0.8;\" x=\"53.328125\" xlink:href=\"#m8251e86f01\" y=\"173.747508\"/>\r\n      </g>\r\n     </g>\r\n     <g id=\"text_12\">\r\n      <!-- 2000 -->\r\n      <g transform=\"translate(20.878125 177.546727)scale(0.1 -0.1)\">\r\n       <use xlink:href=\"#DejaVuSans-50\"/>\r\n       <use x=\"63.623047\" xlink:href=\"#DejaVuSans-48\"/>\r\n       <use x=\"127.246094\" xlink:href=\"#DejaVuSans-48\"/>\r\n       <use x=\"190.869141\" xlink:href=\"#DejaVuSans-48\"/>\r\n      </g>\r\n     </g>\r\n    </g>\r\n    <g id=\"ytick_6\">\r\n     <g id=\"line2d_12\">\r\n      <g>\r\n       <use style=\"stroke:#000000;stroke-width:0.8;\" x=\"53.328125\" xlink:href=\"#m8251e86f01\" y=\"138.534385\"/>\r\n      </g>\r\n     </g>\r\n     <g id=\"text_13\">\r\n      <!-- 2500 -->\r\n      <g transform=\"translate(20.878125 142.333604)scale(0.1 -0.1)\">\r\n       <use xlink:href=\"#DejaVuSans-50\"/>\r\n       <use x=\"63.623047\" xlink:href=\"#DejaVuSans-53\"/>\r\n       <use x=\"127.246094\" xlink:href=\"#DejaVuSans-48\"/>\r\n       <use x=\"190.869141\" xlink:href=\"#DejaVuSans-48\"/>\r\n      </g>\r\n     </g>\r\n    </g>\r\n    <g id=\"ytick_7\">\r\n     <g id=\"line2d_13\">\r\n      <g>\r\n       <use style=\"stroke:#000000;stroke-width:0.8;\" x=\"53.328125\" xlink:href=\"#m8251e86f01\" y=\"103.321262\"/>\r\n      </g>\r\n     </g>\r\n     <g id=\"text_14\">\r\n      <!-- 3000 -->\r\n      <g transform=\"translate(20.878125 107.120481)scale(0.1 -0.1)\">\r\n       <defs>\r\n        <path d=\"M 40.578125 39.3125 \r\nQ 47.65625 37.796875 51.625 33 \r\nQ 55.609375 28.21875 55.609375 21.1875 \r\nQ 55.609375 10.40625 48.1875 4.484375 \r\nQ 40.765625 -1.421875 27.09375 -1.421875 \r\nQ 22.515625 -1.421875 17.65625 -0.515625 \r\nQ 12.796875 0.390625 7.625 2.203125 \r\nL 7.625 11.71875 \r\nQ 11.71875 9.328125 16.59375 8.109375 \r\nQ 21.484375 6.890625 26.8125 6.890625 \r\nQ 36.078125 6.890625 40.9375 10.546875 \r\nQ 45.796875 14.203125 45.796875 21.1875 \r\nQ 45.796875 27.640625 41.28125 31.265625 \r\nQ 36.765625 34.90625 28.71875 34.90625 \r\nL 20.21875 34.90625 \r\nL 20.21875 43.015625 \r\nL 29.109375 43.015625 \r\nQ 36.375 43.015625 40.234375 45.921875 \r\nQ 44.09375 48.828125 44.09375 54.296875 \r\nQ 44.09375 59.90625 40.109375 62.90625 \r\nQ 36.140625 65.921875 28.71875 65.921875 \r\nQ 24.65625 65.921875 20.015625 65.03125 \r\nQ 15.375 64.15625 9.8125 62.3125 \r\nL 9.8125 71.09375 \r\nQ 15.4375 72.65625 20.34375 73.4375 \r\nQ 25.25 74.21875 29.59375 74.21875 \r\nQ 40.828125 74.21875 47.359375 69.109375 \r\nQ 53.90625 64.015625 53.90625 55.328125 \r\nQ 53.90625 49.265625 50.4375 45.09375 \r\nQ 46.96875 40.921875 40.578125 39.3125 \r\nz\r\n\" id=\"DejaVuSans-51\"/>\r\n       </defs>\r\n       <use xlink:href=\"#DejaVuSans-51\"/>\r\n       <use x=\"63.623047\" xlink:href=\"#DejaVuSans-48\"/>\r\n       <use x=\"127.246094\" xlink:href=\"#DejaVuSans-48\"/>\r\n       <use x=\"190.869141\" xlink:href=\"#DejaVuSans-48\"/>\r\n      </g>\r\n     </g>\r\n    </g>\r\n    <g id=\"ytick_8\">\r\n     <g id=\"line2d_14\">\r\n      <g>\r\n       <use style=\"stroke:#000000;stroke-width:0.8;\" x=\"53.328125\" xlink:href=\"#m8251e86f01\" y=\"68.108139\"/>\r\n      </g>\r\n     </g>\r\n     <g id=\"text_15\">\r\n      <!-- 3500 -->\r\n      <g transform=\"translate(20.878125 71.907358)scale(0.1 -0.1)\">\r\n       <use xlink:href=\"#DejaVuSans-51\"/>\r\n       <use x=\"63.623047\" xlink:href=\"#DejaVuSans-53\"/>\r\n       <use x=\"127.246094\" xlink:href=\"#DejaVuSans-48\"/>\r\n       <use x=\"190.869141\" xlink:href=\"#DejaVuSans-48\"/>\r\n      </g>\r\n     </g>\r\n    </g>\r\n    <g id=\"ytick_9\">\r\n     <g id=\"line2d_15\">\r\n      <g>\r\n       <use style=\"stroke:#000000;stroke-width:0.8;\" x=\"53.328125\" xlink:href=\"#m8251e86f01\" y=\"32.895016\"/>\r\n      </g>\r\n     </g>\r\n     <g id=\"text_16\">\r\n      <!-- 4000 -->\r\n      <g transform=\"translate(20.878125 36.694235)scale(0.1 -0.1)\">\r\n       <use xlink:href=\"#DejaVuSans-52\"/>\r\n       <use x=\"63.623047\" xlink:href=\"#DejaVuSans-48\"/>\r\n       <use x=\"127.246094\" xlink:href=\"#DejaVuSans-48\"/>\r\n       <use x=\"190.869141\" xlink:href=\"#DejaVuSans-48\"/>\r\n      </g>\r\n     </g>\r\n    </g>\r\n    <g id=\"text_17\">\r\n     <!-- Count -->\r\n     <g transform=\"translate(14.798438 175.748437)rotate(-90)scale(0.1 -0.1)\">\r\n      <defs>\r\n       <path d=\"M 64.40625 67.28125 \r\nL 64.40625 56.890625 \r\nQ 59.421875 61.53125 53.78125 63.8125 \r\nQ 48.140625 66.109375 41.796875 66.109375 \r\nQ 29.296875 66.109375 22.65625 58.46875 \r\nQ 16.015625 50.828125 16.015625 36.375 \r\nQ 16.015625 21.96875 22.65625 14.328125 \r\nQ 29.296875 6.6875 41.796875 6.6875 \r\nQ 48.140625 6.6875 53.78125 8.984375 \r\nQ 59.421875 11.28125 64.40625 15.921875 \r\nL 64.40625 5.609375 \r\nQ 59.234375 2.09375 53.4375 0.328125 \r\nQ 47.65625 -1.421875 41.21875 -1.421875 \r\nQ 24.65625 -1.421875 15.125 8.703125 \r\nQ 5.609375 18.84375 5.609375 36.375 \r\nQ 5.609375 53.953125 15.125 64.078125 \r\nQ 24.65625 74.21875 41.21875 74.21875 \r\nQ 47.75 74.21875 53.53125 72.484375 \r\nQ 59.328125 70.75 64.40625 67.28125 \r\nz\r\n\" id=\"DejaVuSans-67\"/>\r\n       <path d=\"M 30.609375 48.390625 \r\nQ 23.390625 48.390625 19.1875 42.75 \r\nQ 14.984375 37.109375 14.984375 27.296875 \r\nQ 14.984375 17.484375 19.15625 11.84375 \r\nQ 23.34375 6.203125 30.609375 6.203125 \r\nQ 37.796875 6.203125 41.984375 11.859375 \r\nQ 46.1875 17.53125 46.1875 27.296875 \r\nQ 46.1875 37.015625 41.984375 42.703125 \r\nQ 37.796875 48.390625 30.609375 48.390625 \r\nz\r\nM 30.609375 56 \r\nQ 42.328125 56 49.015625 48.375 \r\nQ 55.71875 40.765625 55.71875 27.296875 \r\nQ 55.71875 13.875 49.015625 6.21875 \r\nQ 42.328125 -1.421875 30.609375 -1.421875 \r\nQ 18.84375 -1.421875 12.171875 6.21875 \r\nQ 5.515625 13.875 5.515625 27.296875 \r\nQ 5.515625 40.765625 12.171875 48.375 \r\nQ 18.84375 56 30.609375 56 \r\nz\r\n\" id=\"DejaVuSans-111\"/>\r\n       <path d=\"M 8.5 21.578125 \r\nL 8.5 54.6875 \r\nL 17.484375 54.6875 \r\nL 17.484375 21.921875 \r\nQ 17.484375 14.15625 20.5 10.265625 \r\nQ 23.53125 6.390625 29.59375 6.390625 \r\nQ 36.859375 6.390625 41.078125 11.03125 \r\nQ 45.3125 15.671875 45.3125 23.6875 \r\nL 45.3125 54.6875 \r\nL 54.296875 54.6875 \r\nL 54.296875 0 \r\nL 45.3125 0 \r\nL 45.3125 8.40625 \r\nQ 42.046875 3.421875 37.71875 1 \r\nQ 33.40625 -1.421875 27.6875 -1.421875 \r\nQ 18.265625 -1.421875 13.375 4.4375 \r\nQ 8.5 10.296875 8.5 21.578125 \r\nz\r\nM 31.109375 56 \r\nz\r\n\" id=\"DejaVuSans-117\"/>\r\n       <path d=\"M 54.890625 33.015625 \r\nL 54.890625 0 \r\nL 45.90625 0 \r\nL 45.90625 32.71875 \r\nQ 45.90625 40.484375 42.875 44.328125 \r\nQ 39.84375 48.1875 33.796875 48.1875 \r\nQ 26.515625 48.1875 22.3125 43.546875 \r\nQ 18.109375 38.921875 18.109375 30.90625 \r\nL 18.109375 0 \r\nL 9.078125 0 \r\nL 9.078125 54.6875 \r\nL 18.109375 54.6875 \r\nL 18.109375 46.1875 \r\nQ 21.34375 51.125 25.703125 53.5625 \r\nQ 30.078125 56 35.796875 56 \r\nQ 45.21875 56 50.046875 50.171875 \r\nQ 54.890625 44.34375 54.890625 33.015625 \r\nz\r\n\" id=\"DejaVuSans-110\"/>\r\n       <path d=\"M 18.3125 70.21875 \r\nL 18.3125 54.6875 \r\nL 36.8125 54.6875 \r\nL 36.8125 47.703125 \r\nL 18.3125 47.703125 \r\nL 18.3125 18.015625 \r\nQ 18.3125 11.328125 20.140625 9.421875 \r\nQ 21.96875 7.515625 27.59375 7.515625 \r\nL 36.8125 7.515625 \r\nL 36.8125 0 \r\nL 27.59375 0 \r\nQ 17.1875 0 13.234375 3.875 \r\nQ 9.28125 7.765625 9.28125 18.015625 \r\nL 9.28125 47.703125 \r\nL 2.6875 47.703125 \r\nL 2.6875 54.6875 \r\nL 9.28125 54.6875 \r\nL 9.28125 70.21875 \r\nz\r\n\" id=\"DejaVuSans-116\"/>\r\n      </defs>\r\n      <use xlink:href=\"#DejaVuSans-67\"/>\r\n      <use x=\"69.824219\" xlink:href=\"#DejaVuSans-111\"/>\r\n      <use x=\"131.005859\" xlink:href=\"#DejaVuSans-117\"/>\r\n      <use x=\"194.384766\" xlink:href=\"#DejaVuSans-110\"/>\r\n      <use x=\"257.763672\" xlink:href=\"#DejaVuSans-116\"/>\r\n     </g>\r\n    </g>\r\n   </g>\r\n   <g id=\"patch_23\">\r\n    <path d=\"M 53.328125 314.6 \r\nL 53.328125 7.2 \r\n\" style=\"fill:none;stroke:#000000;stroke-linecap:square;stroke-linejoin:miter;stroke-width:0.8;\"/>\r\n   </g>\r\n   <g id=\"patch_24\">\r\n    <path d=\"M 53.328125 314.6 \r\nL 345.228125 314.6 \r\n\" style=\"fill:none;stroke:#000000;stroke-linecap:square;stroke-linejoin:miter;stroke-width:0.8;\"/>\r\n   </g>\r\n  </g>\r\n </g>\r\n <defs>\r\n  <clipPath id=\"p6cf46986eb\">\r\n   <rect height=\"307.4\" width=\"291.9\" x=\"53.328125\" y=\"7.2\"/>\r\n  </clipPath>\r\n </defs>\r\n</svg>\r\n",
      "image/png": "[encoded data removed]"
     },
     "metadata": {
      "needs_background": "light"
     }
    }
   ],
   "source": [
    "sns.displot(songs_unique, x=\"key\", bins = 20)"
   ]
  },
  {
   "cell_type": "code",
   "execution_count": null,
   "metadata": {},
   "outputs": [],
   "source": []
  }
 ]
}