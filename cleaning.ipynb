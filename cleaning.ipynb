{
 "metadata": {
  "language_info": {
   "codemirror_mode": {
    "name": "ipython",
    "version": 3
   },
   "file_extension": ".py",
   "mimetype": "text/x-python",
   "name": "python",
   "nbconvert_exporter": "python",
   "pygments_lexer": "ipython3",
   "version": "3.8.5-final"
  },
  "orig_nbformat": 2,
  "kernelspec": {
   "name": "python3",
   "display_name": "Python 3.8.5 64-bit",
   "metadata": {
    "interpreter": {
     "hash": "1520c6ce690310d808624767d2bb633cb737d4b22d0ee2534a4b62dd287c3201"
    }
   }
  }
 },
 "nbformat": 4,
 "nbformat_minor": 2,
 "cells": [
  {
   "cell_type": "code",
   "execution_count": 2,
   "metadata": {},
   "outputs": [],
   "source": [
    "# Imports\n",
    "\n",
    "import pandas as pd\n",
    "import numpy as np\n",
    "import matplotlib.pyplot as plt\n",
    "import seaborn as sns"
   ]
  },
  {
   "cell_type": "code",
   "execution_count": 3,
   "metadata": {},
   "outputs": [],
   "source": [
    "songs = pd.read_csv(r'C:\\Users\\Chetan\\Desktop\\College\\Python\\EDM Sub-genre classifier\\songs.csv')"
   ]
  },
  {
   "cell_type": "code",
   "execution_count": 4,
   "metadata": {},
   "outputs": [
    {
     "output_type": "execute_result",
     "data": {
      "text/plain": [
       "   danceability  energy   key  loudness  mode  speechiness  acousticness  \\\n",
       "0         0.786   0.870   2.0    -5.839   1.0       0.0507       0.04930   \n",
       "1         0.740   0.934   7.0    -3.255   1.0       0.3160       0.00822   \n",
       "2         0.889   0.859  11.0    -5.110   1.0       0.2050       0.02160   \n",
       "3         0.840   0.868  11.0    -6.173   0.0       0.0721       0.02590   \n",
       "4         0.740   0.989  10.0    -4.193   1.0       0.0469       0.00276   \n",
       "\n",
       "   instrumentalness  liveness  valence    tempo            type  \\\n",
       "0          0.215000    0.0863    0.676  126.011  audio_features   \n",
       "1          0.000377    0.1160    0.685  124.936  audio_features   \n",
       "2          0.106000    0.7370    0.828  124.958  audio_features   \n",
       "3          0.573000    0.0891    0.851  126.001  audio_features   \n",
       "4          0.956000    0.3060    0.934  125.001  audio_features   \n",
       "\n",
       "                       id                                   uri  \\\n",
       "0  7LVEBvmKB5uDTg0CGqDo3p  spotify:track:7LVEBvmKB5uDTg0CGqDo3p   \n",
       "1  0m69QNuZVZDXhGHBGK1mQA  spotify:track:0m69QNuZVZDXhGHBGK1mQA   \n",
       "2  4PfzZIFxK10aHXupOm4qEu  spotify:track:4PfzZIFxK10aHXupOm4qEu   \n",
       "3  6uABa7vKOgFqXnwvk8NBr5  spotify:track:6uABa7vKOgFqXnwvk8NBr5   \n",
       "4  6fcHhf9bix2uLbKHApSkNy  spotify:track:6fcHhf9bix2uLbKHApSkNy   \n",
       "\n",
       "                                          track_href  \\\n",
       "0  https://api.spotify.com/v1/tracks/7LVEBvmKB5uD...   \n",
       "1  https://api.spotify.com/v1/tracks/0m69QNuZVZDX...   \n",
       "2  https://api.spotify.com/v1/tracks/4PfzZIFxK10a...   \n",
       "3  https://api.spotify.com/v1/tracks/6uABa7vKOgFq...   \n",
       "4  https://api.spotify.com/v1/tracks/6fcHhf9bix2u...   \n",
       "\n",
       "                                        analysis_url  duration_ms  \\\n",
       "0  https://api.spotify.com/v1/audio-analysis/7LVE...     192482.0   \n",
       "1  https://api.spotify.com/v1/audio-analysis/0m69...     154680.0   \n",
       "2  https://api.spotify.com/v1/audio-analysis/4Pfz...     142560.0   \n",
       "3  https://api.spotify.com/v1/audio-analysis/6uAB...     203810.0   \n",
       "4  https://api.spotify.com/v1/audio-analysis/6fcH...     142080.0   \n",
       "\n",
       "   time_signature  genre  \n",
       "0             4.0  house  \n",
       "1             4.0  house  \n",
       "2             4.0  house  \n",
       "3             4.0  house  \n",
       "4             4.0  house  "
      ],
      "text/html": "<div>\n<style scoped>\n    .dataframe tbody tr th:only-of-type {\n        vertical-align: middle;\n    }\n\n    .dataframe tbody tr th {\n        vertical-align: top;\n    }\n\n    .dataframe thead th {\n        text-align: right;\n    }\n</style>\n<table border=\"1\" class=\"dataframe\">\n  <thead>\n    <tr style=\"text-align: right;\">\n      <th></th>\n      <th>danceability</th>\n      <th>energy</th>\n      <th>key</th>\n      <th>loudness</th>\n      <th>mode</th>\n      <th>speechiness</th>\n      <th>acousticness</th>\n      <th>instrumentalness</th>\n      <th>liveness</th>\n      <th>valence</th>\n      <th>tempo</th>\n      <th>type</th>\n      <th>id</th>\n      <th>uri</th>\n      <th>track_href</th>\n      <th>analysis_url</th>\n      <th>duration_ms</th>\n      <th>time_signature</th>\n      <th>genre</th>\n    </tr>\n  </thead>\n  <tbody>\n    <tr>\n      <th>0</th>\n      <td>0.786</td>\n      <td>0.870</td>\n      <td>2.0</td>\n      <td>-5.839</td>\n      <td>1.0</td>\n      <td>0.0507</td>\n      <td>0.04930</td>\n      <td>0.215000</td>\n      <td>0.0863</td>\n      <td>0.676</td>\n      <td>126.011</td>\n      <td>audio_features</td>\n      <td>7LVEBvmKB5uDTg0CGqDo3p</td>\n      <td>spotify:track:7LVEBvmKB5uDTg0CGqDo3p</td>\n      <td>https://api.spotify.com/v1/tracks/7LVEBvmKB5uD...</td>\n      <td>https://api.spotify.com/v1/audio-analysis/7LVE...</td>\n      <td>192482.0</td>\n      <td>4.0</td>\n      <td>house</td>\n    </tr>\n    <tr>\n      <th>1</th>\n      <td>0.740</td>\n      <td>0.934</td>\n      <td>7.0</td>\n      <td>-3.255</td>\n      <td>1.0</td>\n      <td>0.3160</td>\n      <td>0.00822</td>\n      <td>0.000377</td>\n      <td>0.1160</td>\n      <td>0.685</td>\n      <td>124.936</td>\n      <td>audio_features</td>\n      <td>0m69QNuZVZDXhGHBGK1mQA</td>\n      <td>spotify:track:0m69QNuZVZDXhGHBGK1mQA</td>\n      <td>https://api.spotify.com/v1/tracks/0m69QNuZVZDX...</td>\n      <td>https://api.spotify.com/v1/audio-analysis/0m69...</td>\n      <td>154680.0</td>\n      <td>4.0</td>\n      <td>house</td>\n    </tr>\n    <tr>\n      <th>2</th>\n      <td>0.889</td>\n      <td>0.859</td>\n      <td>11.0</td>\n      <td>-5.110</td>\n      <td>1.0</td>\n      <td>0.2050</td>\n      <td>0.02160</td>\n      <td>0.106000</td>\n      <td>0.7370</td>\n      <td>0.828</td>\n      <td>124.958</td>\n      <td>audio_features</td>\n      <td>4PfzZIFxK10aHXupOm4qEu</td>\n      <td>spotify:track:4PfzZIFxK10aHXupOm4qEu</td>\n      <td>https://api.spotify.com/v1/tracks/4PfzZIFxK10a...</td>\n      <td>https://api.spotify.com/v1/audio-analysis/4Pfz...</td>\n      <td>142560.0</td>\n      <td>4.0</td>\n      <td>house</td>\n    </tr>\n    <tr>\n      <th>3</th>\n      <td>0.840</td>\n      <td>0.868</td>\n      <td>11.0</td>\n      <td>-6.173</td>\n      <td>0.0</td>\n      <td>0.0721</td>\n      <td>0.02590</td>\n      <td>0.573000</td>\n      <td>0.0891</td>\n      <td>0.851</td>\n      <td>126.001</td>\n      <td>audio_features</td>\n      <td>6uABa7vKOgFqXnwvk8NBr5</td>\n      <td>spotify:track:6uABa7vKOgFqXnwvk8NBr5</td>\n      <td>https://api.spotify.com/v1/tracks/6uABa7vKOgFq...</td>\n      <td>https://api.spotify.com/v1/audio-analysis/6uAB...</td>\n      <td>203810.0</td>\n      <td>4.0</td>\n      <td>house</td>\n    </tr>\n    <tr>\n      <th>4</th>\n      <td>0.740</td>\n      <td>0.989</td>\n      <td>10.0</td>\n      <td>-4.193</td>\n      <td>1.0</td>\n      <td>0.0469</td>\n      <td>0.00276</td>\n      <td>0.956000</td>\n      <td>0.3060</td>\n      <td>0.934</td>\n      <td>125.001</td>\n      <td>audio_features</td>\n      <td>6fcHhf9bix2uLbKHApSkNy</td>\n      <td>spotify:track:6fcHhf9bix2uLbKHApSkNy</td>\n      <td>https://api.spotify.com/v1/tracks/6fcHhf9bix2u...</td>\n      <td>https://api.spotify.com/v1/audio-analysis/6fcH...</td>\n      <td>142080.0</td>\n      <td>4.0</td>\n      <td>house</td>\n    </tr>\n  </tbody>\n</table>\n</div>"
     },
     "metadata": {},
     "execution_count": 4
    }
   ],
   "source": [
    "songs.head()"
   ]
  },
  {
   "cell_type": "code",
   "execution_count": 5,
   "metadata": {},
   "outputs": [],
   "source": [
    "house_count_original = songs.loc[songs['genre'] == 'house', 'id']\n",
    "techno_count_original = songs.loc[songs['genre'] == 'techno', 'id']\n",
    "dnb_count_original = songs.loc[songs['genre'] == 'dnb', 'id']\n",
    "hardstyle_count_original = songs.loc[songs['genre'] == 'hardstyle', 'id']\n",
    "trap_count_original = songs.loc[songs['genre'] == 'trap', 'id']\n",
    "total_count_original = house_count_original + techno_count_original + dnb_count_original + hardstyle_count_original + trap_count_original"
   ]
  },
  {
   "cell_type": "code",
   "execution_count": 6,
   "metadata": {},
   "outputs": [
    {
     "output_type": "stream",
     "name": "stdout",
     "text": [
      "Original Count of House Songs:         3883\nOriginal Count of Techno Songs:        4794\nOriginal Count of Drum & Bass Songs:   5172\nOriginal Count of Hardstyle Songs:     9280\nOriginal Count of Trap Songs:          11364\nOriginal Count of All Songs:           34493\n"
     ]
    }
   ],
   "source": [
    "print(\"Original Count of House Songs:        \",len(house_count_original))\n",
    "print(\"Original Count of Techno Songs:       \",len(techno_count_original))\n",
    "print(\"Original Count of Drum & Bass Songs:  \",len(dnb_count_original))\n",
    "print(\"Original Count of Hardstyle Songs:    \",len(hardstyle_count_original))\n",
    "print(\"Original Count of Trap Songs:         \",len(trap_count_original))\n",
    "print(\"Original Count of All Songs:          \",len(total_count_original))"
   ]
  },
  {
   "cell_type": "code",
   "execution_count": 7,
   "metadata": {},
   "outputs": [],
   "source": [
    "songs_unique = songs"
   ]
  },
  {
   "cell_type": "code",
   "execution_count": 9,
   "metadata": {},
   "outputs": [
    {
     "output_type": "execute_result",
     "data": {
      "text/plain": [
       "   danceability  energy   key  loudness  mode  speechiness  acousticness  \\\n",
       "0         0.786   0.870   2.0    -5.839   1.0       0.0507       0.04930   \n",
       "1         0.740   0.934   7.0    -3.255   1.0       0.3160       0.00822   \n",
       "2         0.889   0.859  11.0    -5.110   1.0       0.2050       0.02160   \n",
       "3         0.840   0.868  11.0    -6.173   0.0       0.0721       0.02590   \n",
       "4         0.740   0.989  10.0    -4.193   1.0       0.0469       0.00276   \n",
       "\n",
       "   instrumentalness  liveness  valence    tempo            type  \\\n",
       "0          0.215000    0.0863    0.676  126.011  audio_features   \n",
       "1          0.000377    0.1160    0.685  124.936  audio_features   \n",
       "2          0.106000    0.7370    0.828  124.958  audio_features   \n",
       "3          0.573000    0.0891    0.851  126.001  audio_features   \n",
       "4          0.956000    0.3060    0.934  125.001  audio_features   \n",
       "\n",
       "                       id                                   uri  \\\n",
       "0  7LVEBvmKB5uDTg0CGqDo3p  spotify:track:7LVEBvmKB5uDTg0CGqDo3p   \n",
       "1  0m69QNuZVZDXhGHBGK1mQA  spotify:track:0m69QNuZVZDXhGHBGK1mQA   \n",
       "2  4PfzZIFxK10aHXupOm4qEu  spotify:track:4PfzZIFxK10aHXupOm4qEu   \n",
       "3  6uABa7vKOgFqXnwvk8NBr5  spotify:track:6uABa7vKOgFqXnwvk8NBr5   \n",
       "4  6fcHhf9bix2uLbKHApSkNy  spotify:track:6fcHhf9bix2uLbKHApSkNy   \n",
       "\n",
       "                                          track_href  \\\n",
       "0  https://api.spotify.com/v1/tracks/7LVEBvmKB5uD...   \n",
       "1  https://api.spotify.com/v1/tracks/0m69QNuZVZDX...   \n",
       "2  https://api.spotify.com/v1/tracks/4PfzZIFxK10a...   \n",
       "3  https://api.spotify.com/v1/tracks/6uABa7vKOgFq...   \n",
       "4  https://api.spotify.com/v1/tracks/6fcHhf9bix2u...   \n",
       "\n",
       "                                        analysis_url  duration_ms  \\\n",
       "0  https://api.spotify.com/v1/audio-analysis/7LVE...     192482.0   \n",
       "1  https://api.spotify.com/v1/audio-analysis/0m69...     154680.0   \n",
       "2  https://api.spotify.com/v1/audio-analysis/4Pfz...     142560.0   \n",
       "3  https://api.spotify.com/v1/audio-analysis/6uAB...     203810.0   \n",
       "4  https://api.spotify.com/v1/audio-analysis/6fcH...     142080.0   \n",
       "\n",
       "   time_signature  genre  \n",
       "0             4.0  house  \n",
       "1             4.0  house  \n",
       "2             4.0  house  \n",
       "3             4.0  house  \n",
       "4             4.0  house  "
      ],
      "text/html": "<div>\n<style scoped>\n    .dataframe tbody tr th:only-of-type {\n        vertical-align: middle;\n    }\n\n    .dataframe tbody tr th {\n        vertical-align: top;\n    }\n\n    .dataframe thead th {\n        text-align: right;\n    }\n</style>\n<table border=\"1\" class=\"dataframe\">\n  <thead>\n    <tr style=\"text-align: right;\">\n      <th></th>\n      <th>danceability</th>\n      <th>energy</th>\n      <th>key</th>\n      <th>loudness</th>\n      <th>mode</th>\n      <th>speechiness</th>\n      <th>acousticness</th>\n      <th>instrumentalness</th>\n      <th>liveness</th>\n      <th>valence</th>\n      <th>tempo</th>\n      <th>type</th>\n      <th>id</th>\n      <th>uri</th>\n      <th>track_href</th>\n      <th>analysis_url</th>\n      <th>duration_ms</th>\n      <th>time_signature</th>\n      <th>genre</th>\n    </tr>\n  </thead>\n  <tbody>\n    <tr>\n      <th>0</th>\n      <td>0.786</td>\n      <td>0.870</td>\n      <td>2.0</td>\n      <td>-5.839</td>\n      <td>1.0</td>\n      <td>0.0507</td>\n      <td>0.04930</td>\n      <td>0.215000</td>\n      <td>0.0863</td>\n      <td>0.676</td>\n      <td>126.011</td>\n      <td>audio_features</td>\n      <td>7LVEBvmKB5uDTg0CGqDo3p</td>\n      <td>spotify:track:7LVEBvmKB5uDTg0CGqDo3p</td>\n      <td>https://api.spotify.com/v1/tracks/7LVEBvmKB5uD...</td>\n      <td>https://api.spotify.com/v1/audio-analysis/7LVE...</td>\n      <td>192482.0</td>\n      <td>4.0</td>\n      <td>house</td>\n    </tr>\n    <tr>\n      <th>1</th>\n      <td>0.740</td>\n      <td>0.934</td>\n      <td>7.0</td>\n      <td>-3.255</td>\n      <td>1.0</td>\n      <td>0.3160</td>\n      <td>0.00822</td>\n      <td>0.000377</td>\n      <td>0.1160</td>\n      <td>0.685</td>\n      <td>124.936</td>\n      <td>audio_features</td>\n      <td>0m69QNuZVZDXhGHBGK1mQA</td>\n      <td>spotify:track:0m69QNuZVZDXhGHBGK1mQA</td>\n      <td>https://api.spotify.com/v1/tracks/0m69QNuZVZDX...</td>\n      <td>https://api.spotify.com/v1/audio-analysis/0m69...</td>\n      <td>154680.0</td>\n      <td>4.0</td>\n      <td>house</td>\n    </tr>\n    <tr>\n      <th>2</th>\n      <td>0.889</td>\n      <td>0.859</td>\n      <td>11.0</td>\n      <td>-5.110</td>\n      <td>1.0</td>\n      <td>0.2050</td>\n      <td>0.02160</td>\n      <td>0.106000</td>\n      <td>0.7370</td>\n      <td>0.828</td>\n      <td>124.958</td>\n      <td>audio_features</td>\n      <td>4PfzZIFxK10aHXupOm4qEu</td>\n      <td>spotify:track:4PfzZIFxK10aHXupOm4qEu</td>\n      <td>https://api.spotify.com/v1/tracks/4PfzZIFxK10a...</td>\n      <td>https://api.spotify.com/v1/audio-analysis/4Pfz...</td>\n      <td>142560.0</td>\n      <td>4.0</td>\n      <td>house</td>\n    </tr>\n    <tr>\n      <th>3</th>\n      <td>0.840</td>\n      <td>0.868</td>\n      <td>11.0</td>\n      <td>-6.173</td>\n      <td>0.0</td>\n      <td>0.0721</td>\n      <td>0.02590</td>\n      <td>0.573000</td>\n      <td>0.0891</td>\n      <td>0.851</td>\n      <td>126.001</td>\n      <td>audio_features</td>\n      <td>6uABa7vKOgFqXnwvk8NBr5</td>\n      <td>spotify:track:6uABa7vKOgFqXnwvk8NBr5</td>\n      <td>https://api.spotify.com/v1/tracks/6uABa7vKOgFq...</td>\n      <td>https://api.spotify.com/v1/audio-analysis/6uAB...</td>\n      <td>203810.0</td>\n      <td>4.0</td>\n      <td>house</td>\n    </tr>\n    <tr>\n      <th>4</th>\n      <td>0.740</td>\n      <td>0.989</td>\n      <td>10.0</td>\n      <td>-4.193</td>\n      <td>1.0</td>\n      <td>0.0469</td>\n      <td>0.00276</td>\n      <td>0.956000</td>\n      <td>0.3060</td>\n      <td>0.934</td>\n      <td>125.001</td>\n      <td>audio_features</td>\n      <td>6fcHhf9bix2uLbKHApSkNy</td>\n      <td>spotify:track:6fcHhf9bix2uLbKHApSkNy</td>\n      <td>https://api.spotify.com/v1/tracks/6fcHhf9bix2u...</td>\n      <td>https://api.spotify.com/v1/audio-analysis/6fcH...</td>\n      <td>142080.0</td>\n      <td>4.0</td>\n      <td>house</td>\n    </tr>\n  </tbody>\n</table>\n</div>"
     },
     "metadata": {},
     "execution_count": 9
    }
   ],
   "source": [
    "songs_unique = songs_unique.drop_duplicates(subset = \"uri\", keep = 'first', inplace = False, ignore_index = True)\n",
    "songs_unique.head()"
   ]
  },
  {
   "cell_type": "code",
   "execution_count": 10,
   "metadata": {},
   "outputs": [
    {
     "output_type": "execute_result",
     "data": {
      "text/plain": [
       "(24035, 19)"
      ]
     },
     "metadata": {},
     "execution_count": 10
    }
   ],
   "source": [
    "songs_unique.shape"
   ]
  },
  {
   "cell_type": "code",
   "execution_count": 15,
   "metadata": {},
   "outputs": [],
   "source": [
    "house_count_unique = songs_unique.loc[songs_unique['genre'] == 'house', 'id']\n",
    "techno_count_unique = songs_unique.loc[songs_unique['genre'] == 'techno', 'id']\n",
    "dnb_count_unique = songs_unique.loc[songs_unique['genre'] == 'dnb', 'id']\n",
    "hardstyle_count_unique = songs_unique.loc[songs_unique['genre'] == 'hardstyle', 'id']\n",
    "trap_count_unique = songs_unique.loc[songs_unique['genre'] == 'trap', 'id']"
   ]
  },
  {
   "cell_type": "code",
   "execution_count": 19,
   "metadata": {},
   "outputs": [
    {
     "output_type": "stream",
     "name": "stdout",
     "text": [
      "3166\n4028\n4139\n5896\n6805\n"
     ]
    }
   ],
   "source": [
    "print(house_count_unique.count())\n",
    "print(techno_count_unique.count())\n",
    "print(dnb_count_unique.count())\n",
    "print(hardstyle_count_unique.count())\n",
    "print(trap_count_unique.count())"
   ]
  },
  {
   "cell_type": "code",
   "execution_count": null,
   "metadata": {},
   "outputs": [],
   "source": []
  },
  {
   "cell_type": "code",
   "execution_count": null,
   "metadata": {},
   "outputs": [],
   "source": []
  }
 ]
}