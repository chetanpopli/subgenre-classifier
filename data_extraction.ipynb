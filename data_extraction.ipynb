{
 "metadata": {
  "language_info": {
   "codemirror_mode": {
    "name": "ipython",
    "version": 3
   },
   "file_extension": ".py",
   "mimetype": "text/x-python",
   "name": "python",
   "nbconvert_exporter": "python",
   "pygments_lexer": "ipython3",
   "version": "3.8.5-final"
  },
  "orig_nbformat": 2,
  "kernelspec": {
   "name": "python3",
   "display_name": "Python 3.8.5 64-bit",
   "metadata": {
    "interpreter": {
     "hash": "1520c6ce690310d808624767d2bb633cb737d4b22d0ee2534a4b62dd287c3201"
    }
   }
  }
 },
 "nbformat": 4,
 "nbformat_minor": 2,
 "cells": [
  {
   "cell_type": "code",
   "execution_count": 3,
   "metadata": {},
   "outputs": [],
   "source": [
    "# Imports\n",
    "import os\n",
    "import sys\n",
    "import pandas as pd\n",
    "import numpy as np\n",
    "import spotipy\n",
    "from spotipy.oauth2 import SpotifyClientCredentials\n",
    "import spotipy.util as util\n",
    "\n",
    "from matplotlib import pyplot as plt\n",
    "import seaborn as sns\n",
    "\n",
    "sns.set_style('dark')"
   ]
  },
  {
   "cell_type": "code",
   "execution_count": 585,
   "metadata": {},
   "outputs": [],
   "source": [
    "# Get the username from terminal\n",
    "username = sys.argv[1]\n",
    "\n",
    "os.environ['SPOTIPY_CLIENT_ID'] = '509f1c0827f94cd7af9c842beb26e7ef'\n",
    "os.environ['SPOTIPY_CLIENT_SECRET'] = '83fe375561354e6485bde0e952dc5d70'\n",
    "os.environ['SPOTIPY_REDIRECT_URI'] = 'http://localhost:8888/callback/'\n",
    "\n",
    "cid = '509f1c0827f94cd7af9c842beb26e7ef' # Client ID\n",
    "secret = '83fe375561354e6485bde0e952dc5d70'   # Client Secret ID\n",
    "username = '21ugtw76ynask7ohvvz626ndq' # Spotify Username\n",
    "\n",
    "scope = 'user-library-read playlist-modify-public playlist-read-private'\n",
    "redirect_uri = 'http://localhost:8888/'\n",
    "#http://localhost:8888/callback/\n",
    "\n",
    "client_credentials_manager = SpotifyClientCredentials(client_id=cid, client_secret=secret) \n",
    "sp = spotipy.Spotify(client_credentials_manager=client_credentials_manager)\n",
    "token = util.prompt_for_user_token(username, scope, cid, secret, redirect_uri)\n",
    "\n",
    "if token:\n",
    "    sp = spotipy.Spotify(auth=token)\n",
    "else:\n",
    "    print(\"Can't get token for\", username)"
   ]
  },
  {
   "cell_type": "code",
   "execution_count": 310,
   "metadata": {},
   "outputs": [
    {
     "output_type": "execute_result",
     "data": {
      "text/plain": [
       "       username              playlistid  genre                         title  \\\n",
       "0         Élite  5sPzNVd9MbUwmWd2mA90qB  house    Boiler Room | Techno House   \n",
       "1      Beatport  6Pbk82RPOKWD7k6dNcqq9f  house  Beatport Best New Tech House   \n",
       "2  Mac Peterson  7AUqarp6W3pf0tVFrRvzZw  house             Dirtybird Players   \n",
       "3    Alex Meyer  1NQK1mGamaJmmwNE4iv9PT  house               House/Dirtybird   \n",
       "4    Dave Lloyd  31QIVbCj6M2KkVxMepKS7b  house  Dirtybird//Techhouse by Mack   \n",
       "\n",
       "                                                 url  \n",
       "0  https://open.spotify.com/playlist/5sPzNVd9MbUw...  \n",
       "1  https://open.spotify.com/playlist/6Pbk82RPOKWD...  \n",
       "2  https://open.spotify.com/playlist/7AUqarp6W3pf...  \n",
       "3  https://open.spotify.com/playlist/1NQK1mGamaJm...  \n",
       "4  https://open.spotify.com/playlist/31QIVbCj6M2K...  "
      ],
      "text/html": "<div>\n<style scoped>\n    .dataframe tbody tr th:only-of-type {\n        vertical-align: middle;\n    }\n\n    .dataframe tbody tr th {\n        vertical-align: top;\n    }\n\n    .dataframe thead th {\n        text-align: right;\n    }\n</style>\n<table border=\"1\" class=\"dataframe\">\n  <thead>\n    <tr style=\"text-align: right;\">\n      <th></th>\n      <th>username</th>\n      <th>playlistid</th>\n      <th>genre</th>\n      <th>title</th>\n      <th>url</th>\n    </tr>\n  </thead>\n  <tbody>\n    <tr>\n      <th>0</th>\n      <td>Élite</td>\n      <td>5sPzNVd9MbUwmWd2mA90qB</td>\n      <td>house</td>\n      <td>Boiler Room | Techno House</td>\n      <td>https://open.spotify.com/playlist/5sPzNVd9MbUw...</td>\n    </tr>\n    <tr>\n      <th>1</th>\n      <td>Beatport</td>\n      <td>6Pbk82RPOKWD7k6dNcqq9f</td>\n      <td>house</td>\n      <td>Beatport Best New Tech House</td>\n      <td>https://open.spotify.com/playlist/6Pbk82RPOKWD...</td>\n    </tr>\n    <tr>\n      <th>2</th>\n      <td>Mac Peterson</td>\n      <td>7AUqarp6W3pf0tVFrRvzZw</td>\n      <td>house</td>\n      <td>Dirtybird Players</td>\n      <td>https://open.spotify.com/playlist/7AUqarp6W3pf...</td>\n    </tr>\n    <tr>\n      <th>3</th>\n      <td>Alex Meyer</td>\n      <td>1NQK1mGamaJmmwNE4iv9PT</td>\n      <td>house</td>\n      <td>House/Dirtybird</td>\n      <td>https://open.spotify.com/playlist/1NQK1mGamaJm...</td>\n    </tr>\n    <tr>\n      <th>4</th>\n      <td>Dave Lloyd</td>\n      <td>31QIVbCj6M2KkVxMepKS7b</td>\n      <td>house</td>\n      <td>Dirtybird//Techhouse by Mack</td>\n      <td>https://open.spotify.com/playlist/31QIVbCj6M2K...</td>\n    </tr>\n  </tbody>\n</table>\n</div>"
     },
     "metadata": {},
     "execution_count": 310
    }
   ],
   "source": [
    "genres = ['house', 'techno', 'dnb', 'hardstyle', 'trap']\n",
    "\n",
    "df = pd.read_csv(r'C:\\Users\\Chetan\\Desktop\\College\\Python\\EDM Sub-genre classifier\\playlists.csv')\n",
    "df.head()"
   ]
  },
  {
   "cell_type": "code",
   "execution_count": 6,
   "metadata": {},
   "outputs": [],
   "source": [
    "# FIRST ATTEMPT AT MAKING A FUNCTION TO RETRIEVE FEATURES OF SONGS\n",
    "# ISSUES FACED - UNABLE TO READ MORE THAN 100 SONGS IN A PLAYLIST\n",
    "\n",
    "def get_features(username, playlist_id, genre):\n",
    "    results = sp.user_playlist_tracks(username, playlist_id)\n",
    "    songs = results['items']\n",
    "    \n",
    "    while results['next']:\n",
    "        results = sp.next(results)\n",
    "        songs.extend(results['items'])\n",
    "    \n",
    "    ids = []\n",
    "        \n",
    "    for i in range(len(songs)):\n",
    "        ids.append(songs[i]['track']['id'])\n",
    "    \n",
    "    ids = list(filter(None, ids))\n",
    "    \n",
    "    features = []\n",
    "    \n",
    "    for i in range(0,len(ids),50):\n",
    "        audio_features = sp.audio_features(ids[i:i+50])\n",
    "        \n",
    "        for track in audio_features:\n",
    "            features.append(track)\n",
    "\n",
    "    features = list(filter(None, features))\n",
    "    df = pd.DataFrame(features)\n",
    "    df['genre'] = genre\n",
    "    return df"
   ]
  },
  {
   "cell_type": "code",
   "execution_count": 7,
   "metadata": {},
   "outputs": [],
   "source": [
    "def create_df(PlayLists):\n",
    "    result = pd.DataFrame()\n",
    "    \n",
    "    # Extract songs from spotify API and append to dataframe\n",
    "    for i in range(len(PlayLists)):\n",
    "        df = get_features(PlayLists['username'][i], PlayLists['playlistid'][i], PlayLists['genre'][i])\n",
    "        df['title'] = PlayLists['title'][i]\n",
    "        result = pd.concat([result, df], ignore_index=True)\n",
    "    \n",
    "    return result"
   ]
  },
  {
   "cell_type": "code",
   "execution_count": 8,
   "metadata": {},
   "outputs": [],
   "source": [
    "def analyze_playlist(creator, playlist_id):\n",
    "    \n",
    "    # Create empty dataframelimit=2000\n",
    "    playlist_features_list = [\"artist\",\"album\",\"track_name\",  \"track_id\",\"danceability\",\"energy\",\"key\",\"loudness\",\"mode\", \"speechiness\",\"instrumentalness\",\"liveness\",\"valence\",\"tempo\", \"duration_ms\",\"time_signature\"]\n",
    "    \n",
    "    playlist_df = pd.DataFrame(columns = playlist_features_list)\n",
    "    \n",
    "    # Loop through every track in the playlist, extract features and append the features to the playlist df\n",
    "    \n",
    "    playlist = sp.user_playlist_tracks(creator, playlist_id)[\"items\"]\n",
    "    for track in playlist:\n",
    "        # Create empty dict\n",
    "        playlist_features = {}\n",
    "        # Get metadata\n",
    "        playlist_features[\"artist\"] = track[\"track\"][\"album\"][\"artists\"][0][\"name\"]\n",
    "        playlist_features[\"album\"] = track[\"track\"][\"album\"][\"name\"]\n",
    "        playlist_features[\"track_name\"] = track[\"track\"][\"name\"]\n",
    "        playlist_features[\"track_id\"] = track[\"track\"][\"id\"]\n",
    "        \n",
    "        # Get audio features\n",
    "        audio_features = sp.audio_features(playlist_features[\"track_id\"])[0]\n",
    "        for feature in playlist_features_list[4:]:\n",
    "            playlist_features[feature] = audio_features[feature]\n",
    "        \n",
    "        # Concat the dfs\n",
    "        track_df = pd.DataFrame(playlist_features, index = [0])\n",
    "        playlist_df = pd.concat([playlist_df, track_df], ignore_index = True)\n",
    "        \n",
    "    return playlist_df"
   ]
  },
  {
   "cell_type": "code",
   "execution_count": 9,
   "metadata": {},
   "outputs": [],
   "source": [
    "# These Functions can read more than 100 songs a playlist\n",
    "\n",
    "def show_tracks(results, uriArray):\n",
    "    for i, item in enumerate(results['items']):\n",
    "        track = item['track']\n",
    "        uriArray.append(track['id'])\n",
    "\n",
    "def get_playlist_track_id(username, playlist_id):\n",
    "    trackID = []\n",
    "    results = sp.user_playlist(username, playlist_id)\n",
    "    tracks = results['tracks']\n",
    "    show_tracks(tracks, trackID)\n",
    "    while tracks['next']:\n",
    "            tracks = sp.next(tracks)\n",
    "            show_tracks(tracks, trackID)\n",
    "    return trackID"
   ]
  },
  {
   "cell_type": "code",
   "execution_count": 11,
   "metadata": {
    "tags": []
   },
   "outputs": [],
   "source": [
    "songs_all = []\n",
    "for i in range (0, 93): #Put Length of the playlist wala list here\n",
    "    songs = get_playlist_track_id(df['username'][i], df['playlistid'][i])\n",
    "    songs_all.extend(songs)"
   ]
  },
  {
   "cell_type": "code",
   "execution_count": 12,
   "metadata": {},
   "outputs": [
    {
     "output_type": "execute_result",
     "data": {
      "text/plain": [
       "35996"
      ]
     },
     "metadata": {},
     "execution_count": 12
    }
   ],
   "source": [
    "len(songs_all)  # Correct list length for all playlist indexed 0,1,2"
   ]
  },
  {
   "cell_type": "code",
   "execution_count": 13,
   "metadata": {},
   "outputs": [
    {
     "output_type": "execute_result",
     "data": {
      "text/plain": [
       "[{'danceability': 0.74,\n",
       "  'energy': 0.934,\n",
       "  'key': 7,\n",
       "  'loudness': -3.255,\n",
       "  'mode': 1,\n",
       "  'speechiness': 0.316,\n",
       "  'acousticness': 0.00822,\n",
       "  'instrumentalness': 0.000377,\n",
       "  'liveness': 0.116,\n",
       "  'valence': 0.685,\n",
       "  'tempo': 124.936,\n",
       "  'type': 'audio_features',\n",
       "  'id': '0m69QNuZVZDXhGHBGK1mQA',\n",
       "  'uri': 'spotify:track:0m69QNuZVZDXhGHBGK1mQA',\n",
       "  'track_href': 'https://api.spotify.com/v1/tracks/0m69QNuZVZDXhGHBGK1mQA',\n",
       "  'analysis_url': 'https://api.spotify.com/v1/audio-analysis/0m69QNuZVZDXhGHBGK1mQA',\n",
       "  'duration_ms': 154680,\n",
       "  'time_signature': 4}]"
      ]
     },
     "metadata": {},
     "execution_count": 13
    }
   ],
   "source": [
    "sp.audio_features(tracks = '0m69QNuZVZDXhGHBGK1mQA')"
   ]
  },
  {
   "cell_type": "code",
   "execution_count": 14,
   "metadata": {},
   "outputs": [],
   "source": [
    "# THIS FUNCTION IS THE ORIGINAL WORKING FUNCTION FOR CORRECT DATAFRAME\n",
    "# ISSUE FACED - TIMEOUT HO JATA HAI FOR SUCH A LARGE NUMBER OF SONGS\n",
    "\n",
    "\n",
    "def song_feature_ext(playlist):\n",
    "    result = pd.DataFrame()\n",
    "    for i in playlist:\n",
    "        song_feat = sp.audio_features(tracks = i)\n",
    "        result = pd.concat([result, pd.Series(song_feat[0])], ignore_index=True, axis = 1)\n",
    "\n",
    "    return result.T"
   ]
  },
  {
   "cell_type": "code",
   "execution_count": 16,
   "metadata": {},
   "outputs": [],
   "source": [
    "# WITH THIS FUNCTION, INSTEAD OF GIVING ALL 35992 SONGS TO THE LOOP AT ONCE,\n",
    "# WE GIVE IT IN SEGMENTS OF 3000-3000. THE TIME FOR THE RUNNING OF THE LOOP\n",
    "# IS AROUND 9 MINUTES \n",
    "# 500 songs takes around 1:50 minutes\n",
    "\n",
    "def song_feature_ext_initial(playlist):\n",
    "    result = pd.DataFrame()\n",
    "    for i in range(0, 500):\n",
    "        song_feat = sp.audio_features(tracks = playlist[i])\n",
    "        result = pd.concat([result, pd.Series(song_feat[0])], ignore_index=True, axis = 1)\n",
    "\n",
    "    return result.T"
   ]
  },
  {
   "cell_type": "code",
   "execution_count": 39,
   "metadata": {},
   "outputs": [],
   "source": [
    "songs = song_feature_ext_initial(songs_all)"
   ]
  },
  {
   "cell_type": "code",
   "execution_count": 40,
   "metadata": {},
   "outputs": [
    {
     "output_type": "execute_result",
     "data": {
      "text/plain": [
       "    danceability energy key loudness mode speechiness acousticness  \\\n",
       "0          0.786   0.87   2   -5.839    1      0.0507       0.0493   \n",
       "1           0.74  0.934   7   -3.255    1       0.316      0.00822   \n",
       "2          0.889  0.859  11    -5.11    1       0.205       0.0216   \n",
       "3           0.84  0.868  11   -6.173    0      0.0721       0.0259   \n",
       "4           0.74  0.989  10   -4.193    1      0.0469      0.00276   \n",
       "..           ...    ...  ..      ...  ...         ...          ...   \n",
       "495        0.734  0.977   0   -6.196    1       0.069       0.0187   \n",
       "496        0.707  0.973   3    -2.47    0      0.0508       0.0144   \n",
       "497        0.795  0.981   6   -4.665    1      0.0517      0.00119   \n",
       "498        0.795  0.797  10    -5.96    0      0.0634      0.00438   \n",
       "499        0.749  0.904   1   -5.184    0      0.0554      0.00546   \n",
       "\n",
       "    instrumentalness liveness valence    tempo            type  \\\n",
       "0              0.215   0.0863   0.676  126.011  audio_features   \n",
       "1           0.000377    0.116   0.685  124.936  audio_features   \n",
       "2              0.106    0.737   0.828  124.958  audio_features   \n",
       "3              0.573   0.0891   0.851  126.001  audio_features   \n",
       "4              0.956    0.306   0.934  125.001  audio_features   \n",
       "..               ...      ...     ...      ...             ...   \n",
       "495            0.109   0.0986   0.704  123.972  audio_features   \n",
       "496            0.897   0.0401   0.585  125.001  audio_features   \n",
       "497             0.91   0.0519   0.666      128  audio_features   \n",
       "498            0.302    0.129   0.627  124.952  audio_features   \n",
       "499            0.545   0.0683   0.664  125.005  audio_features   \n",
       "\n",
       "                         id                                   uri  \\\n",
       "0    7LVEBvmKB5uDTg0CGqDo3p  spotify:track:7LVEBvmKB5uDTg0CGqDo3p   \n",
       "1    0m69QNuZVZDXhGHBGK1mQA  spotify:track:0m69QNuZVZDXhGHBGK1mQA   \n",
       "2    4PfzZIFxK10aHXupOm4qEu  spotify:track:4PfzZIFxK10aHXupOm4qEu   \n",
       "3    6uABa7vKOgFqXnwvk8NBr5  spotify:track:6uABa7vKOgFqXnwvk8NBr5   \n",
       "4    6fcHhf9bix2uLbKHApSkNy  spotify:track:6fcHhf9bix2uLbKHApSkNy   \n",
       "..                      ...                                   ...   \n",
       "495  1HOFLt87VuclSyIIVNMjpy  spotify:track:1HOFLt87VuclSyIIVNMjpy   \n",
       "496  5JH18IpSAaCSWljNKalBzQ  spotify:track:5JH18IpSAaCSWljNKalBzQ   \n",
       "497  6It7eAXKK59k0skPxWNwP1  spotify:track:6It7eAXKK59k0skPxWNwP1   \n",
       "498  2M72ge9OrR7muKhcBi509v  spotify:track:2M72ge9OrR7muKhcBi509v   \n",
       "499  5DCSFGxrLMYYio1NKPNEO6  spotify:track:5DCSFGxrLMYYio1NKPNEO6   \n",
       "\n",
       "                                            track_href  \\\n",
       "0    https://api.spotify.com/v1/tracks/7LVEBvmKB5uD...   \n",
       "1    https://api.spotify.com/v1/tracks/0m69QNuZVZDX...   \n",
       "2    https://api.spotify.com/v1/tracks/4PfzZIFxK10a...   \n",
       "3    https://api.spotify.com/v1/tracks/6uABa7vKOgFq...   \n",
       "4    https://api.spotify.com/v1/tracks/6fcHhf9bix2u...   \n",
       "..                                                 ...   \n",
       "495  https://api.spotify.com/v1/tracks/1HOFLt87Vucl...   \n",
       "496  https://api.spotify.com/v1/tracks/5JH18IpSAaCS...   \n",
       "497  https://api.spotify.com/v1/tracks/6It7eAXKK59k...   \n",
       "498  https://api.spotify.com/v1/tracks/2M72ge9OrR7m...   \n",
       "499  https://api.spotify.com/v1/tracks/5DCSFGxrLMYY...   \n",
       "\n",
       "                                          analysis_url duration_ms  \\\n",
       "0    https://api.spotify.com/v1/audio-analysis/7LVE...      192482   \n",
       "1    https://api.spotify.com/v1/audio-analysis/0m69...      154680   \n",
       "2    https://api.spotify.com/v1/audio-analysis/4Pfz...      142560   \n",
       "3    https://api.spotify.com/v1/audio-analysis/6uAB...      203810   \n",
       "4    https://api.spotify.com/v1/audio-analysis/6fcH...      142080   \n",
       "..                                                 ...         ...   \n",
       "495  https://api.spotify.com/v1/audio-analysis/1HOF...      185000   \n",
       "496  https://api.spotify.com/v1/audio-analysis/5JH1...      255360   \n",
       "497  https://api.spotify.com/v1/audio-analysis/6It7...      196406   \n",
       "498  https://api.spotify.com/v1/audio-analysis/2M72...      189614   \n",
       "499  https://api.spotify.com/v1/audio-analysis/5DCS...      207460   \n",
       "\n",
       "    time_signature  \n",
       "0                4  \n",
       "1                4  \n",
       "2                4  \n",
       "3                4  \n",
       "4                4  \n",
       "..             ...  \n",
       "495              4  \n",
       "496              4  \n",
       "497              4  \n",
       "498              4  \n",
       "499              4  \n",
       "\n",
       "[500 rows x 18 columns]"
      ],
      "text/html": "<div>\n<style scoped>\n    .dataframe tbody tr th:only-of-type {\n        vertical-align: middle;\n    }\n\n    .dataframe tbody tr th {\n        vertical-align: top;\n    }\n\n    .dataframe thead th {\n        text-align: right;\n    }\n</style>\n<table border=\"1\" class=\"dataframe\">\n  <thead>\n    <tr style=\"text-align: right;\">\n      <th></th>\n      <th>danceability</th>\n      <th>energy</th>\n      <th>key</th>\n      <th>loudness</th>\n      <th>mode</th>\n      <th>speechiness</th>\n      <th>acousticness</th>\n      <th>instrumentalness</th>\n      <th>liveness</th>\n      <th>valence</th>\n      <th>tempo</th>\n      <th>type</th>\n      <th>id</th>\n      <th>uri</th>\n      <th>track_href</th>\n      <th>analysis_url</th>\n      <th>duration_ms</th>\n      <th>time_signature</th>\n    </tr>\n  </thead>\n  <tbody>\n    <tr>\n      <th>0</th>\n      <td>0.786</td>\n      <td>0.87</td>\n      <td>2</td>\n      <td>-5.839</td>\n      <td>1</td>\n      <td>0.0507</td>\n      <td>0.0493</td>\n      <td>0.215</td>\n      <td>0.0863</td>\n      <td>0.676</td>\n      <td>126.011</td>\n      <td>audio_features</td>\n      <td>7LVEBvmKB5uDTg0CGqDo3p</td>\n      <td>spotify:track:7LVEBvmKB5uDTg0CGqDo3p</td>\n      <td>https://api.spotify.com/v1/tracks/7LVEBvmKB5uD...</td>\n      <td>https://api.spotify.com/v1/audio-analysis/7LVE...</td>\n      <td>192482</td>\n      <td>4</td>\n    </tr>\n    <tr>\n      <th>1</th>\n      <td>0.74</td>\n      <td>0.934</td>\n      <td>7</td>\n      <td>-3.255</td>\n      <td>1</td>\n      <td>0.316</td>\n      <td>0.00822</td>\n      <td>0.000377</td>\n      <td>0.116</td>\n      <td>0.685</td>\n      <td>124.936</td>\n      <td>audio_features</td>\n      <td>0m69QNuZVZDXhGHBGK1mQA</td>\n      <td>spotify:track:0m69QNuZVZDXhGHBGK1mQA</td>\n      <td>https://api.spotify.com/v1/tracks/0m69QNuZVZDX...</td>\n      <td>https://api.spotify.com/v1/audio-analysis/0m69...</td>\n      <td>154680</td>\n      <td>4</td>\n    </tr>\n    <tr>\n      <th>2</th>\n      <td>0.889</td>\n      <td>0.859</td>\n      <td>11</td>\n      <td>-5.11</td>\n      <td>1</td>\n      <td>0.205</td>\n      <td>0.0216</td>\n      <td>0.106</td>\n      <td>0.737</td>\n      <td>0.828</td>\n      <td>124.958</td>\n      <td>audio_features</td>\n      <td>4PfzZIFxK10aHXupOm4qEu</td>\n      <td>spotify:track:4PfzZIFxK10aHXupOm4qEu</td>\n      <td>https://api.spotify.com/v1/tracks/4PfzZIFxK10a...</td>\n      <td>https://api.spotify.com/v1/audio-analysis/4Pfz...</td>\n      <td>142560</td>\n      <td>4</td>\n    </tr>\n    <tr>\n      <th>3</th>\n      <td>0.84</td>\n      <td>0.868</td>\n      <td>11</td>\n      <td>-6.173</td>\n      <td>0</td>\n      <td>0.0721</td>\n      <td>0.0259</td>\n      <td>0.573</td>\n      <td>0.0891</td>\n      <td>0.851</td>\n      <td>126.001</td>\n      <td>audio_features</td>\n      <td>6uABa7vKOgFqXnwvk8NBr5</td>\n      <td>spotify:track:6uABa7vKOgFqXnwvk8NBr5</td>\n      <td>https://api.spotify.com/v1/tracks/6uABa7vKOgFq...</td>\n      <td>https://api.spotify.com/v1/audio-analysis/6uAB...</td>\n      <td>203810</td>\n      <td>4</td>\n    </tr>\n    <tr>\n      <th>4</th>\n      <td>0.74</td>\n      <td>0.989</td>\n      <td>10</td>\n      <td>-4.193</td>\n      <td>1</td>\n      <td>0.0469</td>\n      <td>0.00276</td>\n      <td>0.956</td>\n      <td>0.306</td>\n      <td>0.934</td>\n      <td>125.001</td>\n      <td>audio_features</td>\n      <td>6fcHhf9bix2uLbKHApSkNy</td>\n      <td>spotify:track:6fcHhf9bix2uLbKHApSkNy</td>\n      <td>https://api.spotify.com/v1/tracks/6fcHhf9bix2u...</td>\n      <td>https://api.spotify.com/v1/audio-analysis/6fcH...</td>\n      <td>142080</td>\n      <td>4</td>\n    </tr>\n    <tr>\n      <th>...</th>\n      <td>...</td>\n      <td>...</td>\n      <td>...</td>\n      <td>...</td>\n      <td>...</td>\n      <td>...</td>\n      <td>...</td>\n      <td>...</td>\n      <td>...</td>\n      <td>...</td>\n      <td>...</td>\n      <td>...</td>\n      <td>...</td>\n      <td>...</td>\n      <td>...</td>\n      <td>...</td>\n      <td>...</td>\n      <td>...</td>\n    </tr>\n    <tr>\n      <th>495</th>\n      <td>0.734</td>\n      <td>0.977</td>\n      <td>0</td>\n      <td>-6.196</td>\n      <td>1</td>\n      <td>0.069</td>\n      <td>0.0187</td>\n      <td>0.109</td>\n      <td>0.0986</td>\n      <td>0.704</td>\n      <td>123.972</td>\n      <td>audio_features</td>\n      <td>1HOFLt87VuclSyIIVNMjpy</td>\n      <td>spotify:track:1HOFLt87VuclSyIIVNMjpy</td>\n      <td>https://api.spotify.com/v1/tracks/1HOFLt87Vucl...</td>\n      <td>https://api.spotify.com/v1/audio-analysis/1HOF...</td>\n      <td>185000</td>\n      <td>4</td>\n    </tr>\n    <tr>\n      <th>496</th>\n      <td>0.707</td>\n      <td>0.973</td>\n      <td>3</td>\n      <td>-2.47</td>\n      <td>0</td>\n      <td>0.0508</td>\n      <td>0.0144</td>\n      <td>0.897</td>\n      <td>0.0401</td>\n      <td>0.585</td>\n      <td>125.001</td>\n      <td>audio_features</td>\n      <td>5JH18IpSAaCSWljNKalBzQ</td>\n      <td>spotify:track:5JH18IpSAaCSWljNKalBzQ</td>\n      <td>https://api.spotify.com/v1/tracks/5JH18IpSAaCS...</td>\n      <td>https://api.spotify.com/v1/audio-analysis/5JH1...</td>\n      <td>255360</td>\n      <td>4</td>\n    </tr>\n    <tr>\n      <th>497</th>\n      <td>0.795</td>\n      <td>0.981</td>\n      <td>6</td>\n      <td>-4.665</td>\n      <td>1</td>\n      <td>0.0517</td>\n      <td>0.00119</td>\n      <td>0.91</td>\n      <td>0.0519</td>\n      <td>0.666</td>\n      <td>128</td>\n      <td>audio_features</td>\n      <td>6It7eAXKK59k0skPxWNwP1</td>\n      <td>spotify:track:6It7eAXKK59k0skPxWNwP1</td>\n      <td>https://api.spotify.com/v1/tracks/6It7eAXKK59k...</td>\n      <td>https://api.spotify.com/v1/audio-analysis/6It7...</td>\n      <td>196406</td>\n      <td>4</td>\n    </tr>\n    <tr>\n      <th>498</th>\n      <td>0.795</td>\n      <td>0.797</td>\n      <td>10</td>\n      <td>-5.96</td>\n      <td>0</td>\n      <td>0.0634</td>\n      <td>0.00438</td>\n      <td>0.302</td>\n      <td>0.129</td>\n      <td>0.627</td>\n      <td>124.952</td>\n      <td>audio_features</td>\n      <td>2M72ge9OrR7muKhcBi509v</td>\n      <td>spotify:track:2M72ge9OrR7muKhcBi509v</td>\n      <td>https://api.spotify.com/v1/tracks/2M72ge9OrR7m...</td>\n      <td>https://api.spotify.com/v1/audio-analysis/2M72...</td>\n      <td>189614</td>\n      <td>4</td>\n    </tr>\n    <tr>\n      <th>499</th>\n      <td>0.749</td>\n      <td>0.904</td>\n      <td>1</td>\n      <td>-5.184</td>\n      <td>0</td>\n      <td>0.0554</td>\n      <td>0.00546</td>\n      <td>0.545</td>\n      <td>0.0683</td>\n      <td>0.664</td>\n      <td>125.005</td>\n      <td>audio_features</td>\n      <td>5DCSFGxrLMYYio1NKPNEO6</td>\n      <td>spotify:track:5DCSFGxrLMYYio1NKPNEO6</td>\n      <td>https://api.spotify.com/v1/tracks/5DCSFGxrLMYY...</td>\n      <td>https://api.spotify.com/v1/audio-analysis/5DCS...</td>\n      <td>207460</td>\n      <td>4</td>\n    </tr>\n  </tbody>\n</table>\n<p>500 rows × 18 columns</p>\n</div>"
     },
     "metadata": {},
     "execution_count": 40
    }
   ],
   "source": [
    "songs"
   ]
  },
  {
   "cell_type": "code",
   "execution_count": 618,
   "metadata": {},
   "outputs": [],
   "source": [
    "def song_feature_ext_subsequent(playlist):\n",
    "    result = pd.DataFrame()\n",
    "    for i in range(30100, 30200):\n",
    "        song_feat = sp.audio_features(tracks = playlist[i])\n",
    "        result = pd.concat([result, pd.Series(song_feat[0])], ignore_index=True, axis = 1)\n",
    "\n",
    "    return result.T"
   ]
  },
  {
   "cell_type": "code",
   "execution_count": 619,
   "metadata": {},
   "outputs": [
    {
     "output_type": "error",
     "ename": "TypeError",
     "evalue": "'NoneType' object is not iterable",
     "traceback": [
      "\u001b[1;31m---------------------------------------------------------------------------\u001b[0m",
      "\u001b[1;31mTypeError\u001b[0m                                 Traceback (most recent call last)",
      "\u001b[1;32m<ipython-input-619-5be3c6e3269e>\u001b[0m in \u001b[0;36m<module>\u001b[1;34m\u001b[0m\n\u001b[1;32m----> 1\u001b[1;33m \u001b[0msongs_subsequent\u001b[0m \u001b[1;33m=\u001b[0m \u001b[0msong_feature_ext_subsequent\u001b[0m\u001b[1;33m(\u001b[0m\u001b[0msongs_all\u001b[0m\u001b[1;33m)\u001b[0m\u001b[1;33m\u001b[0m\u001b[1;33m\u001b[0m\u001b[0m\n\u001b[0m",
      "\u001b[1;32m<ipython-input-618-58f6cbac8e08>\u001b[0m in \u001b[0;36msong_feature_ext_subsequent\u001b[1;34m(playlist)\u001b[0m\n\u001b[0;32m      2\u001b[0m     \u001b[0mresult\u001b[0m \u001b[1;33m=\u001b[0m \u001b[0mpd\u001b[0m\u001b[1;33m.\u001b[0m\u001b[0mDataFrame\u001b[0m\u001b[1;33m(\u001b[0m\u001b[1;33m)\u001b[0m\u001b[1;33m\u001b[0m\u001b[1;33m\u001b[0m\u001b[0m\n\u001b[0;32m      3\u001b[0m     \u001b[1;32mfor\u001b[0m \u001b[0mi\u001b[0m \u001b[1;32min\u001b[0m \u001b[0mrange\u001b[0m\u001b[1;33m(\u001b[0m\u001b[1;36m30100\u001b[0m\u001b[1;33m,\u001b[0m \u001b[1;36m30200\u001b[0m\u001b[1;33m)\u001b[0m\u001b[1;33m:\u001b[0m\u001b[1;33m\u001b[0m\u001b[1;33m\u001b[0m\u001b[0m\n\u001b[1;32m----> 4\u001b[1;33m         \u001b[0msong_feat\u001b[0m \u001b[1;33m=\u001b[0m \u001b[0msp\u001b[0m\u001b[1;33m.\u001b[0m\u001b[0maudio_features\u001b[0m\u001b[1;33m(\u001b[0m\u001b[0mtracks\u001b[0m \u001b[1;33m=\u001b[0m \u001b[0mplaylist\u001b[0m\u001b[1;33m[\u001b[0m\u001b[0mi\u001b[0m\u001b[1;33m]\u001b[0m\u001b[1;33m)\u001b[0m\u001b[1;33m\u001b[0m\u001b[1;33m\u001b[0m\u001b[0m\n\u001b[0m\u001b[0;32m      5\u001b[0m         \u001b[0mresult\u001b[0m \u001b[1;33m=\u001b[0m \u001b[0mpd\u001b[0m\u001b[1;33m.\u001b[0m\u001b[0mconcat\u001b[0m\u001b[1;33m(\u001b[0m\u001b[1;33m[\u001b[0m\u001b[0mresult\u001b[0m\u001b[1;33m,\u001b[0m \u001b[0mpd\u001b[0m\u001b[1;33m.\u001b[0m\u001b[0mSeries\u001b[0m\u001b[1;33m(\u001b[0m\u001b[0msong_feat\u001b[0m\u001b[1;33m[\u001b[0m\u001b[1;36m0\u001b[0m\u001b[1;33m]\u001b[0m\u001b[1;33m)\u001b[0m\u001b[1;33m]\u001b[0m\u001b[1;33m,\u001b[0m \u001b[0mignore_index\u001b[0m\u001b[1;33m=\u001b[0m\u001b[1;32mTrue\u001b[0m\u001b[1;33m,\u001b[0m \u001b[0maxis\u001b[0m \u001b[1;33m=\u001b[0m \u001b[1;36m1\u001b[0m\u001b[1;33m)\u001b[0m\u001b[1;33m\u001b[0m\u001b[1;33m\u001b[0m\u001b[0m\n\u001b[0;32m      6\u001b[0m \u001b[1;33m\u001b[0m\u001b[0m\n",
      "\u001b[1;32m~\\AppData\\Local\\Programs\\Python\\Python38\\lib\\site-packages\\spotipy\\client.py\u001b[0m in \u001b[0;36maudio_features\u001b[1;34m(self, tracks)\u001b[0m\n\u001b[0;32m   1619\u001b[0m             \u001b[0mresults\u001b[0m \u001b[1;33m=\u001b[0m \u001b[0mself\u001b[0m\u001b[1;33m.\u001b[0m\u001b[0m_get\u001b[0m\u001b[1;33m(\u001b[0m\u001b[1;34m\"audio-features/?ids=\"\u001b[0m \u001b[1;33m+\u001b[0m \u001b[0mtrackid\u001b[0m\u001b[1;33m)\u001b[0m\u001b[1;33m\u001b[0m\u001b[1;33m\u001b[0m\u001b[0m\n\u001b[0;32m   1620\u001b[0m         \u001b[1;32melse\u001b[0m\u001b[1;33m:\u001b[0m\u001b[1;33m\u001b[0m\u001b[1;33m\u001b[0m\u001b[0m\n\u001b[1;32m-> 1621\u001b[1;33m             \u001b[0mtlist\u001b[0m \u001b[1;33m=\u001b[0m \u001b[1;33m[\u001b[0m\u001b[0mself\u001b[0m\u001b[1;33m.\u001b[0m\u001b[0m_get_id\u001b[0m\u001b[1;33m(\u001b[0m\u001b[1;34m\"track\"\u001b[0m\u001b[1;33m,\u001b[0m \u001b[0mt\u001b[0m\u001b[1;33m)\u001b[0m \u001b[1;32mfor\u001b[0m \u001b[0mt\u001b[0m \u001b[1;32min\u001b[0m \u001b[0mtracks\u001b[0m\u001b[1;33m]\u001b[0m\u001b[1;33m\u001b[0m\u001b[1;33m\u001b[0m\u001b[0m\n\u001b[0m\u001b[0;32m   1622\u001b[0m             \u001b[0mresults\u001b[0m \u001b[1;33m=\u001b[0m \u001b[0mself\u001b[0m\u001b[1;33m.\u001b[0m\u001b[0m_get\u001b[0m\u001b[1;33m(\u001b[0m\u001b[1;34m\"audio-features/?ids=\"\u001b[0m \u001b[1;33m+\u001b[0m \u001b[1;34m\",\"\u001b[0m\u001b[1;33m.\u001b[0m\u001b[0mjoin\u001b[0m\u001b[1;33m(\u001b[0m\u001b[0mtlist\u001b[0m\u001b[1;33m)\u001b[0m\u001b[1;33m)\u001b[0m\u001b[1;33m\u001b[0m\u001b[1;33m\u001b[0m\u001b[0m\n\u001b[0;32m   1623\u001b[0m         \u001b[1;31m# the response has changed, look for the new style first, and if\u001b[0m\u001b[1;33m\u001b[0m\u001b[1;33m\u001b[0m\u001b[1;33m\u001b[0m\u001b[0m\n",
      "\u001b[1;31mTypeError\u001b[0m: 'NoneType' object is not iterable"
     ]
    }
   ],
   "source": [
    "songs_subsequent = song_feature_ext_subsequent(songs_all)"
   ]
  },
  {
   "cell_type": "code",
   "execution_count": 580,
   "metadata": {},
   "outputs": [
    {
     "output_type": "execute_result",
     "data": {
      "text/plain": [
       "    danceability energy key loudness mode speechiness acousticness  \\\n",
       "0           0.71  0.896   8   -2.471    0       0.319        0.119   \n",
       "1          0.644  0.872  11   -1.167    1       0.148     0.000571   \n",
       "2          0.596  0.938  11   -2.155    1       0.131      0.00407   \n",
       "3          0.453  0.756   1    -3.06    0       0.141     0.000124   \n",
       "4          0.654   0.89   9   -2.562    1       0.215      0.00726   \n",
       "..           ...    ...  ..      ...  ...         ...          ...   \n",
       "491        0.538  0.789   4    -6.05    0       0.229        0.015   \n",
       "492        0.665  0.459   8   -9.867    0       0.161        0.212   \n",
       "493        0.627  0.771   2    -6.57    1      0.0562     0.000278   \n",
       "494        0.474  0.708   1   -4.494    1       0.168       0.0496   \n",
       "495          0.6  0.926   9   -5.239    1      0.0838      0.00202   \n",
       "\n",
       "    instrumentalness liveness valence    tempo            type  \\\n",
       "0            0.00555   0.0556   0.223     72.4  audio_features   \n",
       "1              0.004    0.116   0.346   76.031  audio_features   \n",
       "2            0.00697    0.132   0.552   75.029  audio_features   \n",
       "3              0.196    0.288    0.29  139.617  audio_features   \n",
       "4           9.96e-05    0.665   0.129  144.974  audio_features   \n",
       "..               ...      ...     ...      ...             ...   \n",
       "491         1.28e-06    0.297   0.152  147.647  audio_features   \n",
       "492                0   0.0919   0.525  137.633  audio_features   \n",
       "493            0.472    0.107   0.208  105.195  audio_features   \n",
       "494         4.43e-05   0.0986   0.328  149.857  audio_features   \n",
       "495                0    0.136   0.719  160.113  audio_features   \n",
       "\n",
       "                         id                                   uri  \\\n",
       "0    6bjfVRftOuvWPlnE5MzCv4  spotify:track:6bjfVRftOuvWPlnE5MzCv4   \n",
       "1    2C7KSL0jA5kAh2xB9nPIY7  spotify:track:2C7KSL0jA5kAh2xB9nPIY7   \n",
       "2    61ETloLtIoQApPPdBaA7PU  spotify:track:61ETloLtIoQApPPdBaA7PU   \n",
       "3    31BFq5U0rgZNAxSu0KeTBg  spotify:track:31BFq5U0rgZNAxSu0KeTBg   \n",
       "4    530xeorCOsbwQsUVVearth  spotify:track:530xeorCOsbwQsUVVearth   \n",
       "..                      ...                                   ...   \n",
       "491  0L4oYjLVlG2I1oBPNKdOqy  spotify:track:0L4oYjLVlG2I1oBPNKdOqy   \n",
       "492  3ey7v4OxmWKgp8ynQnk4XW  spotify:track:3ey7v4OxmWKgp8ynQnk4XW   \n",
       "493  4UL2eutSPzASZERkGtyMKZ  spotify:track:4UL2eutSPzASZERkGtyMKZ   \n",
       "494  72XViAl7vmQCa8liuVZjtg  spotify:track:72XViAl7vmQCa8liuVZjtg   \n",
       "495  1us5ay3tNCEnOsPUcsLseU  spotify:track:1us5ay3tNCEnOsPUcsLseU   \n",
       "\n",
       "                                            track_href  \\\n",
       "0    https://api.spotify.com/v1/tracks/6bjfVRftOuvW...   \n",
       "1    https://api.spotify.com/v1/tracks/2C7KSL0jA5kA...   \n",
       "2    https://api.spotify.com/v1/tracks/61ETloLtIoQA...   \n",
       "3    https://api.spotify.com/v1/tracks/31BFq5U0rgZN...   \n",
       "4    https://api.spotify.com/v1/tracks/530xeorCOsbw...   \n",
       "..                                                 ...   \n",
       "491  https://api.spotify.com/v1/tracks/0L4oYjLVlG2I...   \n",
       "492  https://api.spotify.com/v1/tracks/3ey7v4OxmWKg...   \n",
       "493  https://api.spotify.com/v1/tracks/4UL2eutSPzAS...   \n",
       "494  https://api.spotify.com/v1/tracks/72XViAl7vmQC...   \n",
       "495  https://api.spotify.com/v1/tracks/1us5ay3tNCEn...   \n",
       "\n",
       "                                          analysis_url duration_ms  \\\n",
       "0    https://api.spotify.com/v1/audio-analysis/6bjf...      205241   \n",
       "1    https://api.spotify.com/v1/audio-analysis/2C7K...      198404   \n",
       "2    https://api.spotify.com/v1/audio-analysis/61ET...      188800   \n",
       "3    https://api.spotify.com/v1/audio-analysis/31BF...      221143   \n",
       "4    https://api.spotify.com/v1/audio-analysis/530x...      264828   \n",
       "..                                                 ...         ...   \n",
       "491  https://api.spotify.com/v1/audio-analysis/0L4o...      178155   \n",
       "492  https://api.spotify.com/v1/audio-analysis/3ey7...      184760   \n",
       "493  https://api.spotify.com/v1/audio-analysis/4UL2...      144036   \n",
       "494  https://api.spotify.com/v1/audio-analysis/72XV...      156800   \n",
       "495  https://api.spotify.com/v1/audio-analysis/1us5...      144000   \n",
       "\n",
       "    time_signature  \n",
       "0                4  \n",
       "1                4  \n",
       "2                4  \n",
       "3                4  \n",
       "4                4  \n",
       "..             ...  \n",
       "491              4  \n",
       "492              4  \n",
       "493              4  \n",
       "494              4  \n",
       "495              4  \n",
       "\n",
       "[496 rows x 18 columns]"
      ],
      "text/html": "<div>\n<style scoped>\n    .dataframe tbody tr th:only-of-type {\n        vertical-align: middle;\n    }\n\n    .dataframe tbody tr th {\n        vertical-align: top;\n    }\n\n    .dataframe thead th {\n        text-align: right;\n    }\n</style>\n<table border=\"1\" class=\"dataframe\">\n  <thead>\n    <tr style=\"text-align: right;\">\n      <th></th>\n      <th>danceability</th>\n      <th>energy</th>\n      <th>key</th>\n      <th>loudness</th>\n      <th>mode</th>\n      <th>speechiness</th>\n      <th>acousticness</th>\n      <th>instrumentalness</th>\n      <th>liveness</th>\n      <th>valence</th>\n      <th>tempo</th>\n      <th>type</th>\n      <th>id</th>\n      <th>uri</th>\n      <th>track_href</th>\n      <th>analysis_url</th>\n      <th>duration_ms</th>\n      <th>time_signature</th>\n    </tr>\n  </thead>\n  <tbody>\n    <tr>\n      <th>0</th>\n      <td>0.71</td>\n      <td>0.896</td>\n      <td>8</td>\n      <td>-2.471</td>\n      <td>0</td>\n      <td>0.319</td>\n      <td>0.119</td>\n      <td>0.00555</td>\n      <td>0.0556</td>\n      <td>0.223</td>\n      <td>72.4</td>\n      <td>audio_features</td>\n      <td>6bjfVRftOuvWPlnE5MzCv4</td>\n      <td>spotify:track:6bjfVRftOuvWPlnE5MzCv4</td>\n      <td>https://api.spotify.com/v1/tracks/6bjfVRftOuvW...</td>\n      <td>https://api.spotify.com/v1/audio-analysis/6bjf...</td>\n      <td>205241</td>\n      <td>4</td>\n    </tr>\n    <tr>\n      <th>1</th>\n      <td>0.644</td>\n      <td>0.872</td>\n      <td>11</td>\n      <td>-1.167</td>\n      <td>1</td>\n      <td>0.148</td>\n      <td>0.000571</td>\n      <td>0.004</td>\n      <td>0.116</td>\n      <td>0.346</td>\n      <td>76.031</td>\n      <td>audio_features</td>\n      <td>2C7KSL0jA5kAh2xB9nPIY7</td>\n      <td>spotify:track:2C7KSL0jA5kAh2xB9nPIY7</td>\n      <td>https://api.spotify.com/v1/tracks/2C7KSL0jA5kA...</td>\n      <td>https://api.spotify.com/v1/audio-analysis/2C7K...</td>\n      <td>198404</td>\n      <td>4</td>\n    </tr>\n    <tr>\n      <th>2</th>\n      <td>0.596</td>\n      <td>0.938</td>\n      <td>11</td>\n      <td>-2.155</td>\n      <td>1</td>\n      <td>0.131</td>\n      <td>0.00407</td>\n      <td>0.00697</td>\n      <td>0.132</td>\n      <td>0.552</td>\n      <td>75.029</td>\n      <td>audio_features</td>\n      <td>61ETloLtIoQApPPdBaA7PU</td>\n      <td>spotify:track:61ETloLtIoQApPPdBaA7PU</td>\n      <td>https://api.spotify.com/v1/tracks/61ETloLtIoQA...</td>\n      <td>https://api.spotify.com/v1/audio-analysis/61ET...</td>\n      <td>188800</td>\n      <td>4</td>\n    </tr>\n    <tr>\n      <th>3</th>\n      <td>0.453</td>\n      <td>0.756</td>\n      <td>1</td>\n      <td>-3.06</td>\n      <td>0</td>\n      <td>0.141</td>\n      <td>0.000124</td>\n      <td>0.196</td>\n      <td>0.288</td>\n      <td>0.29</td>\n      <td>139.617</td>\n      <td>audio_features</td>\n      <td>31BFq5U0rgZNAxSu0KeTBg</td>\n      <td>spotify:track:31BFq5U0rgZNAxSu0KeTBg</td>\n      <td>https://api.spotify.com/v1/tracks/31BFq5U0rgZN...</td>\n      <td>https://api.spotify.com/v1/audio-analysis/31BF...</td>\n      <td>221143</td>\n      <td>4</td>\n    </tr>\n    <tr>\n      <th>4</th>\n      <td>0.654</td>\n      <td>0.89</td>\n      <td>9</td>\n      <td>-2.562</td>\n      <td>1</td>\n      <td>0.215</td>\n      <td>0.00726</td>\n      <td>9.96e-05</td>\n      <td>0.665</td>\n      <td>0.129</td>\n      <td>144.974</td>\n      <td>audio_features</td>\n      <td>530xeorCOsbwQsUVVearth</td>\n      <td>spotify:track:530xeorCOsbwQsUVVearth</td>\n      <td>https://api.spotify.com/v1/tracks/530xeorCOsbw...</td>\n      <td>https://api.spotify.com/v1/audio-analysis/530x...</td>\n      <td>264828</td>\n      <td>4</td>\n    </tr>\n    <tr>\n      <th>...</th>\n      <td>...</td>\n      <td>...</td>\n      <td>...</td>\n      <td>...</td>\n      <td>...</td>\n      <td>...</td>\n      <td>...</td>\n      <td>...</td>\n      <td>...</td>\n      <td>...</td>\n      <td>...</td>\n      <td>...</td>\n      <td>...</td>\n      <td>...</td>\n      <td>...</td>\n      <td>...</td>\n      <td>...</td>\n      <td>...</td>\n    </tr>\n    <tr>\n      <th>491</th>\n      <td>0.538</td>\n      <td>0.789</td>\n      <td>4</td>\n      <td>-6.05</td>\n      <td>0</td>\n      <td>0.229</td>\n      <td>0.015</td>\n      <td>1.28e-06</td>\n      <td>0.297</td>\n      <td>0.152</td>\n      <td>147.647</td>\n      <td>audio_features</td>\n      <td>0L4oYjLVlG2I1oBPNKdOqy</td>\n      <td>spotify:track:0L4oYjLVlG2I1oBPNKdOqy</td>\n      <td>https://api.spotify.com/v1/tracks/0L4oYjLVlG2I...</td>\n      <td>https://api.spotify.com/v1/audio-analysis/0L4o...</td>\n      <td>178155</td>\n      <td>4</td>\n    </tr>\n    <tr>\n      <th>492</th>\n      <td>0.665</td>\n      <td>0.459</td>\n      <td>8</td>\n      <td>-9.867</td>\n      <td>0</td>\n      <td>0.161</td>\n      <td>0.212</td>\n      <td>0</td>\n      <td>0.0919</td>\n      <td>0.525</td>\n      <td>137.633</td>\n      <td>audio_features</td>\n      <td>3ey7v4OxmWKgp8ynQnk4XW</td>\n      <td>spotify:track:3ey7v4OxmWKgp8ynQnk4XW</td>\n      <td>https://api.spotify.com/v1/tracks/3ey7v4OxmWKg...</td>\n      <td>https://api.spotify.com/v1/audio-analysis/3ey7...</td>\n      <td>184760</td>\n      <td>4</td>\n    </tr>\n    <tr>\n      <th>493</th>\n      <td>0.627</td>\n      <td>0.771</td>\n      <td>2</td>\n      <td>-6.57</td>\n      <td>1</td>\n      <td>0.0562</td>\n      <td>0.000278</td>\n      <td>0.472</td>\n      <td>0.107</td>\n      <td>0.208</td>\n      <td>105.195</td>\n      <td>audio_features</td>\n      <td>4UL2eutSPzASZERkGtyMKZ</td>\n      <td>spotify:track:4UL2eutSPzASZERkGtyMKZ</td>\n      <td>https://api.spotify.com/v1/tracks/4UL2eutSPzAS...</td>\n      <td>https://api.spotify.com/v1/audio-analysis/4UL2...</td>\n      <td>144036</td>\n      <td>4</td>\n    </tr>\n    <tr>\n      <th>494</th>\n      <td>0.474</td>\n      <td>0.708</td>\n      <td>1</td>\n      <td>-4.494</td>\n      <td>1</td>\n      <td>0.168</td>\n      <td>0.0496</td>\n      <td>4.43e-05</td>\n      <td>0.0986</td>\n      <td>0.328</td>\n      <td>149.857</td>\n      <td>audio_features</td>\n      <td>72XViAl7vmQCa8liuVZjtg</td>\n      <td>spotify:track:72XViAl7vmQCa8liuVZjtg</td>\n      <td>https://api.spotify.com/v1/tracks/72XViAl7vmQC...</td>\n      <td>https://api.spotify.com/v1/audio-analysis/72XV...</td>\n      <td>156800</td>\n      <td>4</td>\n    </tr>\n    <tr>\n      <th>495</th>\n      <td>0.6</td>\n      <td>0.926</td>\n      <td>9</td>\n      <td>-5.239</td>\n      <td>1</td>\n      <td>0.0838</td>\n      <td>0.00202</td>\n      <td>0</td>\n      <td>0.136</td>\n      <td>0.719</td>\n      <td>160.113</td>\n      <td>audio_features</td>\n      <td>1us5ay3tNCEnOsPUcsLseU</td>\n      <td>spotify:track:1us5ay3tNCEnOsPUcsLseU</td>\n      <td>https://api.spotify.com/v1/tracks/1us5ay3tNCEn...</td>\n      <td>https://api.spotify.com/v1/audio-analysis/1us5...</td>\n      <td>144000</td>\n      <td>4</td>\n    </tr>\n  </tbody>\n</table>\n<p>496 rows × 18 columns</p>\n</div>"
     },
     "metadata": {},
     "execution_count": 580
    }
   ],
   "source": [
    "songs_subsequent"
   ]
  },
  {
   "cell_type": "code",
   "execution_count": 581,
   "metadata": {},
   "outputs": [],
   "source": [
    "songs = pd.concat([songs, songs_subsequent]).reset_index(drop = True)"
   ]
  },
  {
   "cell_type": "code",
   "execution_count": 582,
   "metadata": {},
   "outputs": [
    {
     "output_type": "execute_result",
     "data": {
      "text/plain": [
       "      danceability energy key loudness mode speechiness acousticness  \\\n",
       "0            0.786   0.87   2   -5.839    1      0.0507       0.0493   \n",
       "1             0.74  0.934   7   -3.255    1       0.316      0.00822   \n",
       "2            0.889  0.859  11    -5.11    1       0.205       0.0216   \n",
       "3             0.84  0.868  11   -6.173    0      0.0721       0.0259   \n",
       "4             0.74  0.989  10   -4.193    1      0.0469      0.00276   \n",
       "...            ...    ...  ..      ...  ...         ...          ...   \n",
       "34491        0.538  0.789   4    -6.05    0       0.229        0.015   \n",
       "34492        0.665  0.459   8   -9.867    0       0.161        0.212   \n",
       "34493        0.627  0.771   2    -6.57    1      0.0562     0.000278   \n",
       "34494        0.474  0.708   1   -4.494    1       0.168       0.0496   \n",
       "34495          0.6  0.926   9   -5.239    1      0.0838      0.00202   \n",
       "\n",
       "      instrumentalness liveness valence    tempo            type  \\\n",
       "0                0.215   0.0863   0.676  126.011  audio_features   \n",
       "1             0.000377    0.116   0.685  124.936  audio_features   \n",
       "2                0.106    0.737   0.828  124.958  audio_features   \n",
       "3                0.573   0.0891   0.851  126.001  audio_features   \n",
       "4                0.956    0.306   0.934  125.001  audio_features   \n",
       "...                ...      ...     ...      ...             ...   \n",
       "34491         1.28e-06    0.297   0.152  147.647  audio_features   \n",
       "34492                0   0.0919   0.525  137.633  audio_features   \n",
       "34493            0.472    0.107   0.208  105.195  audio_features   \n",
       "34494         4.43e-05   0.0986   0.328  149.857  audio_features   \n",
       "34495                0    0.136   0.719  160.113  audio_features   \n",
       "\n",
       "                           id                                   uri  \\\n",
       "0      7LVEBvmKB5uDTg0CGqDo3p  spotify:track:7LVEBvmKB5uDTg0CGqDo3p   \n",
       "1      0m69QNuZVZDXhGHBGK1mQA  spotify:track:0m69QNuZVZDXhGHBGK1mQA   \n",
       "2      4PfzZIFxK10aHXupOm4qEu  spotify:track:4PfzZIFxK10aHXupOm4qEu   \n",
       "3      6uABa7vKOgFqXnwvk8NBr5  spotify:track:6uABa7vKOgFqXnwvk8NBr5   \n",
       "4      6fcHhf9bix2uLbKHApSkNy  spotify:track:6fcHhf9bix2uLbKHApSkNy   \n",
       "...                       ...                                   ...   \n",
       "34491  0L4oYjLVlG2I1oBPNKdOqy  spotify:track:0L4oYjLVlG2I1oBPNKdOqy   \n",
       "34492  3ey7v4OxmWKgp8ynQnk4XW  spotify:track:3ey7v4OxmWKgp8ynQnk4XW   \n",
       "34493  4UL2eutSPzASZERkGtyMKZ  spotify:track:4UL2eutSPzASZERkGtyMKZ   \n",
       "34494  72XViAl7vmQCa8liuVZjtg  spotify:track:72XViAl7vmQCa8liuVZjtg   \n",
       "34495  1us5ay3tNCEnOsPUcsLseU  spotify:track:1us5ay3tNCEnOsPUcsLseU   \n",
       "\n",
       "                                              track_href  \\\n",
       "0      https://api.spotify.com/v1/tracks/7LVEBvmKB5uD...   \n",
       "1      https://api.spotify.com/v1/tracks/0m69QNuZVZDX...   \n",
       "2      https://api.spotify.com/v1/tracks/4PfzZIFxK10a...   \n",
       "3      https://api.spotify.com/v1/tracks/6uABa7vKOgFq...   \n",
       "4      https://api.spotify.com/v1/tracks/6fcHhf9bix2u...   \n",
       "...                                                  ...   \n",
       "34491  https://api.spotify.com/v1/tracks/0L4oYjLVlG2I...   \n",
       "34492  https://api.spotify.com/v1/tracks/3ey7v4OxmWKg...   \n",
       "34493  https://api.spotify.com/v1/tracks/4UL2eutSPzAS...   \n",
       "34494  https://api.spotify.com/v1/tracks/72XViAl7vmQC...   \n",
       "34495  https://api.spotify.com/v1/tracks/1us5ay3tNCEn...   \n",
       "\n",
       "                                            analysis_url duration_ms  \\\n",
       "0      https://api.spotify.com/v1/audio-analysis/7LVE...      192482   \n",
       "1      https://api.spotify.com/v1/audio-analysis/0m69...      154680   \n",
       "2      https://api.spotify.com/v1/audio-analysis/4Pfz...      142560   \n",
       "3      https://api.spotify.com/v1/audio-analysis/6uAB...      203810   \n",
       "4      https://api.spotify.com/v1/audio-analysis/6fcH...      142080   \n",
       "...                                                  ...         ...   \n",
       "34491  https://api.spotify.com/v1/audio-analysis/0L4o...      178155   \n",
       "34492  https://api.spotify.com/v1/audio-analysis/3ey7...      184760   \n",
       "34493  https://api.spotify.com/v1/audio-analysis/4UL2...      144036   \n",
       "34494  https://api.spotify.com/v1/audio-analysis/72XV...      156800   \n",
       "34495  https://api.spotify.com/v1/audio-analysis/1us5...      144000   \n",
       "\n",
       "      time_signature  \n",
       "0                  4  \n",
       "1                  4  \n",
       "2                  4  \n",
       "3                  4  \n",
       "4                  4  \n",
       "...              ...  \n",
       "34491              4  \n",
       "34492              4  \n",
       "34493              4  \n",
       "34494              4  \n",
       "34495              4  \n",
       "\n",
       "[34496 rows x 18 columns]"
      ],
      "text/html": "<div>\n<style scoped>\n    .dataframe tbody tr th:only-of-type {\n        vertical-align: middle;\n    }\n\n    .dataframe tbody tr th {\n        vertical-align: top;\n    }\n\n    .dataframe thead th {\n        text-align: right;\n    }\n</style>\n<table border=\"1\" class=\"dataframe\">\n  <thead>\n    <tr style=\"text-align: right;\">\n      <th></th>\n      <th>danceability</th>\n      <th>energy</th>\n      <th>key</th>\n      <th>loudness</th>\n      <th>mode</th>\n      <th>speechiness</th>\n      <th>acousticness</th>\n      <th>instrumentalness</th>\n      <th>liveness</th>\n      <th>valence</th>\n      <th>tempo</th>\n      <th>type</th>\n      <th>id</th>\n      <th>uri</th>\n      <th>track_href</th>\n      <th>analysis_url</th>\n      <th>duration_ms</th>\n      <th>time_signature</th>\n    </tr>\n  </thead>\n  <tbody>\n    <tr>\n      <th>0</th>\n      <td>0.786</td>\n      <td>0.87</td>\n      <td>2</td>\n      <td>-5.839</td>\n      <td>1</td>\n      <td>0.0507</td>\n      <td>0.0493</td>\n      <td>0.215</td>\n      <td>0.0863</td>\n      <td>0.676</td>\n      <td>126.011</td>\n      <td>audio_features</td>\n      <td>7LVEBvmKB5uDTg0CGqDo3p</td>\n      <td>spotify:track:7LVEBvmKB5uDTg0CGqDo3p</td>\n      <td>https://api.spotify.com/v1/tracks/7LVEBvmKB5uD...</td>\n      <td>https://api.spotify.com/v1/audio-analysis/7LVE...</td>\n      <td>192482</td>\n      <td>4</td>\n    </tr>\n    <tr>\n      <th>1</th>\n      <td>0.74</td>\n      <td>0.934</td>\n      <td>7</td>\n      <td>-3.255</td>\n      <td>1</td>\n      <td>0.316</td>\n      <td>0.00822</td>\n      <td>0.000377</td>\n      <td>0.116</td>\n      <td>0.685</td>\n      <td>124.936</td>\n      <td>audio_features</td>\n      <td>0m69QNuZVZDXhGHBGK1mQA</td>\n      <td>spotify:track:0m69QNuZVZDXhGHBGK1mQA</td>\n      <td>https://api.spotify.com/v1/tracks/0m69QNuZVZDX...</td>\n      <td>https://api.spotify.com/v1/audio-analysis/0m69...</td>\n      <td>154680</td>\n      <td>4</td>\n    </tr>\n    <tr>\n      <th>2</th>\n      <td>0.889</td>\n      <td>0.859</td>\n      <td>11</td>\n      <td>-5.11</td>\n      <td>1</td>\n      <td>0.205</td>\n      <td>0.0216</td>\n      <td>0.106</td>\n      <td>0.737</td>\n      <td>0.828</td>\n      <td>124.958</td>\n      <td>audio_features</td>\n      <td>4PfzZIFxK10aHXupOm4qEu</td>\n      <td>spotify:track:4PfzZIFxK10aHXupOm4qEu</td>\n      <td>https://api.spotify.com/v1/tracks/4PfzZIFxK10a...</td>\n      <td>https://api.spotify.com/v1/audio-analysis/4Pfz...</td>\n      <td>142560</td>\n      <td>4</td>\n    </tr>\n    <tr>\n      <th>3</th>\n      <td>0.84</td>\n      <td>0.868</td>\n      <td>11</td>\n      <td>-6.173</td>\n      <td>0</td>\n      <td>0.0721</td>\n      <td>0.0259</td>\n      <td>0.573</td>\n      <td>0.0891</td>\n      <td>0.851</td>\n      <td>126.001</td>\n      <td>audio_features</td>\n      <td>6uABa7vKOgFqXnwvk8NBr5</td>\n      <td>spotify:track:6uABa7vKOgFqXnwvk8NBr5</td>\n      <td>https://api.spotify.com/v1/tracks/6uABa7vKOgFq...</td>\n      <td>https://api.spotify.com/v1/audio-analysis/6uAB...</td>\n      <td>203810</td>\n      <td>4</td>\n    </tr>\n    <tr>\n      <th>4</th>\n      <td>0.74</td>\n      <td>0.989</td>\n      <td>10</td>\n      <td>-4.193</td>\n      <td>1</td>\n      <td>0.0469</td>\n      <td>0.00276</td>\n      <td>0.956</td>\n      <td>0.306</td>\n      <td>0.934</td>\n      <td>125.001</td>\n      <td>audio_features</td>\n      <td>6fcHhf9bix2uLbKHApSkNy</td>\n      <td>spotify:track:6fcHhf9bix2uLbKHApSkNy</td>\n      <td>https://api.spotify.com/v1/tracks/6fcHhf9bix2u...</td>\n      <td>https://api.spotify.com/v1/audio-analysis/6fcH...</td>\n      <td>142080</td>\n      <td>4</td>\n    </tr>\n    <tr>\n      <th>...</th>\n      <td>...</td>\n      <td>...</td>\n      <td>...</td>\n      <td>...</td>\n      <td>...</td>\n      <td>...</td>\n      <td>...</td>\n      <td>...</td>\n      <td>...</td>\n      <td>...</td>\n      <td>...</td>\n      <td>...</td>\n      <td>...</td>\n      <td>...</td>\n      <td>...</td>\n      <td>...</td>\n      <td>...</td>\n      <td>...</td>\n    </tr>\n    <tr>\n      <th>34491</th>\n      <td>0.538</td>\n      <td>0.789</td>\n      <td>4</td>\n      <td>-6.05</td>\n      <td>0</td>\n      <td>0.229</td>\n      <td>0.015</td>\n      <td>1.28e-06</td>\n      <td>0.297</td>\n      <td>0.152</td>\n      <td>147.647</td>\n      <td>audio_features</td>\n      <td>0L4oYjLVlG2I1oBPNKdOqy</td>\n      <td>spotify:track:0L4oYjLVlG2I1oBPNKdOqy</td>\n      <td>https://api.spotify.com/v1/tracks/0L4oYjLVlG2I...</td>\n      <td>https://api.spotify.com/v1/audio-analysis/0L4o...</td>\n      <td>178155</td>\n      <td>4</td>\n    </tr>\n    <tr>\n      <th>34492</th>\n      <td>0.665</td>\n      <td>0.459</td>\n      <td>8</td>\n      <td>-9.867</td>\n      <td>0</td>\n      <td>0.161</td>\n      <td>0.212</td>\n      <td>0</td>\n      <td>0.0919</td>\n      <td>0.525</td>\n      <td>137.633</td>\n      <td>audio_features</td>\n      <td>3ey7v4OxmWKgp8ynQnk4XW</td>\n      <td>spotify:track:3ey7v4OxmWKgp8ynQnk4XW</td>\n      <td>https://api.spotify.com/v1/tracks/3ey7v4OxmWKg...</td>\n      <td>https://api.spotify.com/v1/audio-analysis/3ey7...</td>\n      <td>184760</td>\n      <td>4</td>\n    </tr>\n    <tr>\n      <th>34493</th>\n      <td>0.627</td>\n      <td>0.771</td>\n      <td>2</td>\n      <td>-6.57</td>\n      <td>1</td>\n      <td>0.0562</td>\n      <td>0.000278</td>\n      <td>0.472</td>\n      <td>0.107</td>\n      <td>0.208</td>\n      <td>105.195</td>\n      <td>audio_features</td>\n      <td>4UL2eutSPzASZERkGtyMKZ</td>\n      <td>spotify:track:4UL2eutSPzASZERkGtyMKZ</td>\n      <td>https://api.spotify.com/v1/tracks/4UL2eutSPzAS...</td>\n      <td>https://api.spotify.com/v1/audio-analysis/4UL2...</td>\n      <td>144036</td>\n      <td>4</td>\n    </tr>\n    <tr>\n      <th>34494</th>\n      <td>0.474</td>\n      <td>0.708</td>\n      <td>1</td>\n      <td>-4.494</td>\n      <td>1</td>\n      <td>0.168</td>\n      <td>0.0496</td>\n      <td>4.43e-05</td>\n      <td>0.0986</td>\n      <td>0.328</td>\n      <td>149.857</td>\n      <td>audio_features</td>\n      <td>72XViAl7vmQCa8liuVZjtg</td>\n      <td>spotify:track:72XViAl7vmQCa8liuVZjtg</td>\n      <td>https://api.spotify.com/v1/tracks/72XViAl7vmQC...</td>\n      <td>https://api.spotify.com/v1/audio-analysis/72XV...</td>\n      <td>156800</td>\n      <td>4</td>\n    </tr>\n    <tr>\n      <th>34495</th>\n      <td>0.6</td>\n      <td>0.926</td>\n      <td>9</td>\n      <td>-5.239</td>\n      <td>1</td>\n      <td>0.0838</td>\n      <td>0.00202</td>\n      <td>0</td>\n      <td>0.136</td>\n      <td>0.719</td>\n      <td>160.113</td>\n      <td>audio_features</td>\n      <td>1us5ay3tNCEnOsPUcsLseU</td>\n      <td>spotify:track:1us5ay3tNCEnOsPUcsLseU</td>\n      <td>https://api.spotify.com/v1/tracks/1us5ay3tNCEn...</td>\n      <td>https://api.spotify.com/v1/audio-analysis/1us5...</td>\n      <td>144000</td>\n      <td>4</td>\n    </tr>\n  </tbody>\n</table>\n<p>34496 rows × 18 columns</p>\n</div>"
     },
     "metadata": {},
     "execution_count": 582
    }
   ],
   "source": [
    "songs"
   ]
  },
  {
   "cell_type": "code",
   "execution_count": 622,
   "metadata": {},
   "outputs": [],
   "source": [
    "songs.to_csv(r'C:\\Users\\Chetan\\Desktop\\College\\Python\\EDM Sub-genre classifier\\songs.csv', index = False)"
   ]
  },
  {
   "cell_type": "code",
   "execution_count": null,
   "metadata": {},
   "outputs": [],
   "source": [
    "result = pd.DataFrame()\n",
    "\n",
    "for i in range(len(songs_all)):\n",
    "    df = sp.audio_features(songs_all[i])\n",
    "    result = pd.concat([result, df], ignore_index=True)\n",
    "\n",
    "result = result.drop_duplicates()\n",
    "return result"
   ]
  },
  {
   "cell_type": "code",
   "execution_count": null,
   "metadata": {
    "tags": []
   },
   "outputs": [],
   "source": [
    "for i in range(0, len(songs_all)):\n",
    "    pd.DataFrame(sp.audio_features(songs_all[i]))\n"
   ]
  },
  {
   "cell_type": "code",
   "execution_count": null,
   "metadata": {},
   "outputs": [],
   "source": [
    "songs_sahi.head(10)"
   ]
  },
  {
   "source": [
    "def get_playlist_track_id1(username, playlist_id, genre):\n",
    "    trackID = []\n",
    "    results = sp.user_playlist(username, playlist_id)\n",
    "    tracks = results['tracks']\n",
    "    show_tracks(tracks, trackID)\n",
    "    while tracks['next']:\n",
    "            tracks = sp.next(tracks)\n",
    "            show_tracks(tracks, trackID)\n",
    "    return trackID, genre"
   ],
   "cell_type": "markdown",
   "metadata": {}
  },
  {
   "cell_type": "code",
   "execution_count": null,
   "metadata": {},
   "outputs": [],
   "source": [
    "sp.audio_features(tracks=['6uABa7vKOgFqXnwvk8NBr5'])"
   ]
  },
  {
   "cell_type": "code",
   "execution_count": null,
   "metadata": {},
   "outputs": [],
   "source": [
    "sp.audio_features(tracks = get_playlist_track_id(df['username'][0], df['playlistid'][0]))"
   ]
  },
  {
   "cell_type": "code",
   "execution_count": null,
   "metadata": {},
   "outputs": [],
   "source": [
    "songs_all"
   ]
  },
  {
   "cell_type": "code",
   "execution_count": null,
   "metadata": {},
   "outputs": [],
   "source": [
    "song_feat1 = sp.audio_features(tracks = '6uABa7vKOgFqXnwvk8NBr5')"
   ]
  }
 ]
}