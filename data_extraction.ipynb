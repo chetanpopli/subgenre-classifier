{
 "metadata": {
  "language_info": {
   "codemirror_mode": {
    "name": "ipython",
    "version": 3
   },
   "file_extension": ".py",
   "mimetype": "text/x-python",
   "name": "python",
   "nbconvert_exporter": "python",
   "pygments_lexer": "ipython3",
   "version": "3.8.5-final"
  },
  "orig_nbformat": 2,
  "kernelspec": {
   "name": "python3",
   "display_name": "Python 3.8.5 64-bit",
   "metadata": {
    "interpreter": {
     "hash": "1520c6ce690310d808624767d2bb633cb737d4b22d0ee2534a4b62dd287c3201"
    }
   }
  }
 },
 "nbformat": 4,
 "nbformat_minor": 2,
 "cells": [
  {
   "cell_type": "code",
   "execution_count": 1,
   "metadata": {},
   "outputs": [],
   "source": [
    "# Imports\n",
    "import os\n",
    "import sys\n",
    "import pandas as pd\n",
    "import numpy as np\n",
    "import spotipy\n",
    "from spotipy.oauth2 import SpotifyClientCredentials\n",
    "import spotipy.util as util\n",
    "\n",
    "from matplotlib import pyplot as plt\n",
    "import seaborn as sns\n",
    "\n",
    "sns.set_style('dark')"
   ]
  },
  {
   "cell_type": "code",
   "execution_count": 2,
   "metadata": {},
   "outputs": [],
   "source": [
    "# Get the username from terminal\n",
    "username = sys.argv[1]\n",
    "\n",
    "os.environ['SPOTIPY_CLIENT_ID'] = '509f1c0827f94cd7af9c842beb26e7ef'\n",
    "os.environ['SPOTIPY_CLIENT_SECRET'] = '83fe375561354e6485bde0e952dc5d70'\n",
    "os.environ['SPOTIPY_REDIRECT_URI'] = 'http://localhost:8888/callback/'\n",
    "\n",
    "cid = '509f1c0827f94cd7af9c842beb26e7ef' # Client ID\n",
    "secret = '83fe375561354e6485bde0e952dc5d70'   # Client Secret ID\n",
    "username = '21ugtw76ynask7ohvvz626ndq' # Spotify Username\n",
    "\n",
    "scope = 'user-library-read playlist-modify-public playlist-read-private'\n",
    "redirect_uri = 'http://localhost:8888/'\n",
    "#http://localhost:8888/callback/\n",
    "\n",
    "client_credentials_manager = SpotifyClientCredentials(client_id=cid, client_secret=secret) \n",
    "sp = spotipy.Spotify(client_credentials_manager=client_credentials_manager)\n",
    "token = util.prompt_for_user_token(username, scope, cid, secret, redirect_uri)\n",
    "\n",
    "if token:\n",
    "    sp = spotipy.Spotify(auth=token)\n",
    "else:\n",
    "    print(\"Can't get token for\", username)"
   ]
  },
  {
   "cell_type": "code",
   "execution_count": 3,
   "metadata": {},
   "outputs": [
    {
     "output_type": "execute_result",
     "data": {
      "text/plain": [
       "       username              playlistid  genre                         title  \\\n",
       "0         Élite  5sPzNVd9MbUwmWd2mA90qB  house    Boiler Room | Techno House   \n",
       "1      Beatport  6Pbk82RPOKWD7k6dNcqq9f  house  Beatport Best New Tech House   \n",
       "2  Mac Peterson  7AUqarp6W3pf0tVFrRvzZw  house             Dirtybird Players   \n",
       "3    Alex Meyer  1NQK1mGamaJmmwNE4iv9PT  house               House/Dirtybird   \n",
       "4    Dave Lloyd  31QIVbCj6M2KkVxMepKS7b  house  Dirtybird//Techhouse by Mack   \n",
       "\n",
       "                                                 url  \n",
       "0  https://open.spotify.com/playlist/5sPzNVd9MbUw...  \n",
       "1  https://open.spotify.com/playlist/6Pbk82RPOKWD...  \n",
       "2  https://open.spotify.com/playlist/7AUqarp6W3pf...  \n",
       "3  https://open.spotify.com/playlist/1NQK1mGamaJm...  \n",
       "4  https://open.spotify.com/playlist/31QIVbCj6M2K...  "
      ],
      "text/html": "<div>\n<style scoped>\n    .dataframe tbody tr th:only-of-type {\n        vertical-align: middle;\n    }\n\n    .dataframe tbody tr th {\n        vertical-align: top;\n    }\n\n    .dataframe thead th {\n        text-align: right;\n    }\n</style>\n<table border=\"1\" class=\"dataframe\">\n  <thead>\n    <tr style=\"text-align: right;\">\n      <th></th>\n      <th>username</th>\n      <th>playlistid</th>\n      <th>genre</th>\n      <th>title</th>\n      <th>url</th>\n    </tr>\n  </thead>\n  <tbody>\n    <tr>\n      <th>0</th>\n      <td>Élite</td>\n      <td>5sPzNVd9MbUwmWd2mA90qB</td>\n      <td>house</td>\n      <td>Boiler Room | Techno House</td>\n      <td>https://open.spotify.com/playlist/5sPzNVd9MbUw...</td>\n    </tr>\n    <tr>\n      <th>1</th>\n      <td>Beatport</td>\n      <td>6Pbk82RPOKWD7k6dNcqq9f</td>\n      <td>house</td>\n      <td>Beatport Best New Tech House</td>\n      <td>https://open.spotify.com/playlist/6Pbk82RPOKWD...</td>\n    </tr>\n    <tr>\n      <th>2</th>\n      <td>Mac Peterson</td>\n      <td>7AUqarp6W3pf0tVFrRvzZw</td>\n      <td>house</td>\n      <td>Dirtybird Players</td>\n      <td>https://open.spotify.com/playlist/7AUqarp6W3pf...</td>\n    </tr>\n    <tr>\n      <th>3</th>\n      <td>Alex Meyer</td>\n      <td>1NQK1mGamaJmmwNE4iv9PT</td>\n      <td>house</td>\n      <td>House/Dirtybird</td>\n      <td>https://open.spotify.com/playlist/1NQK1mGamaJm...</td>\n    </tr>\n    <tr>\n      <th>4</th>\n      <td>Dave Lloyd</td>\n      <td>31QIVbCj6M2KkVxMepKS7b</td>\n      <td>house</td>\n      <td>Dirtybird//Techhouse by Mack</td>\n      <td>https://open.spotify.com/playlist/31QIVbCj6M2K...</td>\n    </tr>\n  </tbody>\n</table>\n</div>"
     },
     "metadata": {},
     "execution_count": 3
    }
   ],
   "source": [
    "genres = ['house', 'techno', 'dnb', 'hardstyle', 'trap']\n",
    "\n",
    "df = pd.read_csv(r'C:\\Users\\Chetan\\Desktop\\College\\Python\\EDM Sub-genre classifier\\playlists.csv')\n",
    "df.head()"
   ]
  },
  {
   "cell_type": "code",
   "execution_count": 4,
   "metadata": {},
   "outputs": [],
   "source": [
    "def get_features(username, playlist_id, genre):\n",
    "    results = sp.user_playlist_tracks(username, playlist_id)\n",
    "    songs = results['items']\n",
    "    \n",
    "    while results['next']:\n",
    "        results = sp.next(results)\n",
    "        songs.extend(results['items'])\n",
    "    \n",
    "    ids = []\n",
    "        \n",
    "    for i in range(len(songs)):\n",
    "        ids.append(songs[i]['track']['id'])\n",
    "    \n",
    "    ids = list(filter(None, ids))\n",
    "    \n",
    "    features = []\n",
    "    \n",
    "    for i in range(0,len(ids),50):\n",
    "        audio_features = sp.audio_features(ids[i:i+50])\n",
    "        \n",
    "        for track in audio_features:\n",
    "            features.append(track)\n",
    "\n",
    "    features = list(filter(None, features))\n",
    "    df = pd.DataFrame(features)\n",
    "    df['genre'] = genre\n",
    "    return df\n"
   ]
  },
  {
   "cell_type": "code",
   "execution_count": 5,
   "metadata": {},
   "outputs": [],
   "source": [
    "def create_df(PlayLists):\n",
    "    result = pd.DataFrame()\n",
    "    \n",
    "    # Extract songs from spotify API and append to dataframe\n",
    "    for i in range(len(PlayLists)):\n",
    "        df = get_features(PlayLists['username'][i], PlayLists['playlistid'][i], PlayLists['genre'][i])\n",
    "        df['title'] = PlayLists['title'][i]\n",
    "        result = pd.concat([result, df], ignore_index=True)\n",
    "    \n",
    "    return result"
   ]
  },
  {
   "cell_type": "code",
   "execution_count": 6,
   "metadata": {},
   "outputs": [],
   "source": [
    "def analyze_playlist(creator, playlist_id):\n",
    "    \n",
    "    # Create empty dataframelimit=2000\n",
    "    playlist_features_list = [\"artist\",\"album\",\"track_name\",  \"track_id\",\"danceability\",\"energy\",\"key\",\"loudness\",\"mode\", \"speechiness\",\"instrumentalness\",\"liveness\",\"valence\",\"tempo\", \"duration_ms\",\"time_signature\"]\n",
    "    \n",
    "    playlist_df = pd.DataFrame(columns = playlist_features_list)\n",
    "    \n",
    "    # Loop through every track in the playlist, extract features and append the features to the playlist df\n",
    "    \n",
    "    playlist = sp.user_playlist_tracks(creator, playlist_id)[\"items\"]\n",
    "    for track in playlist:\n",
    "        # Create empty dict\n",
    "        playlist_features = {}\n",
    "        # Get metadata\n",
    "        playlist_features[\"artist\"] = track[\"track\"][\"album\"][\"artists\"][0][\"name\"]\n",
    "        playlist_features[\"album\"] = track[\"track\"][\"album\"][\"name\"]\n",
    "        playlist_features[\"track_name\"] = track[\"track\"][\"name\"]\n",
    "        playlist_features[\"track_id\"] = track[\"track\"][\"id\"]\n",
    "        \n",
    "        # Get audio features\n",
    "        audio_features = sp.audio_features(playlist_features[\"track_id\"])[0]\n",
    "        for feature in playlist_features_list[4:]:\n",
    "            playlist_features[feature] = audio_features[feature]\n",
    "        \n",
    "        # Concat the dfs\n",
    "        track_df = pd.DataFrame(playlist_features, index = [0])\n",
    "        playlist_df = pd.concat([playlist_df, track_df], ignore_index = True)\n",
    "        \n",
    "    return playlist_df"
   ]
  },
  {
   "cell_type": "code",
   "execution_count": 7,
   "metadata": {},
   "outputs": [],
   "source": [
    "# These Functions can read more than 100 songs a playlist\n",
    "\n",
    "def show_tracks(results, uriArray):\n",
    "    for i, item in enumerate(results['items']):\n",
    "        track = item['track']\n",
    "        uriArray.append(track['id'])\n",
    "\n",
    "def get_playlist_track_id(username, playlist_id):\n",
    "    trackID = []\n",
    "    results = sp.user_playlist(username, playlist_id)\n",
    "    tracks = results['tracks']\n",
    "    show_tracks(tracks, trackID)\n",
    "    while tracks['next']:\n",
    "            tracks = sp.next(tracks)\n",
    "            show_tracks(tracks, trackID)\n",
    "    return trackID"
   ]
  },
  {
   "cell_type": "code",
   "execution_count": 8,
   "metadata": {
    "tags": []
   },
   "outputs": [],
   "source": [
    "songs_all = []\n",
    "for i in range (0, 2): #Put Length of the playlist wala list here\n",
    "    songs = get_playlist_track_id(df['username'][i], df['playlistid'][i])\n",
    "    songs_all.extend(songs)"
   ]
  },
  {
   "cell_type": "code",
   "execution_count": 9,
   "metadata": {},
   "outputs": [
    {
     "output_type": "execute_result",
     "data": {
      "text/plain": [
       "206"
      ]
     },
     "metadata": {},
     "execution_count": 9
    }
   ],
   "source": [
    "len(songs_all)\n",
    "# Correct list length for all playlist indexed 0,1,2"
   ]
  },
  {
   "cell_type": "code",
   "execution_count": 26,
   "metadata": {},
   "outputs": [
    {
     "output_type": "stream",
     "name": "stdout",
     "text": [
      "[{'danceability': 0.786, 'energy': 0.87, 'key': 2, 'loudness': -5.839, 'mode': 1, 'speechiness': 0.0507, 'acousticness': 0.0493, 'instrumentalness': 0.215, 'liveness': 0.0863, 'valence': 0.676, 'tempo': 126.011, 'type': 'audio_features', 'id': '7LVEBvmKB5uDTg0CGqDo3p', 'uri': 'spotify:track:7LVEBvmKB5uDTg0CGqDo3p', 'track_href': 'https://api.spotify.com/v1/tracks/7LVEBvmKB5uDTg0CGqDo3p', 'analysis_url': 'https://api.spotify.com/v1/audio-analysis/7LVEBvmKB5uDTg0CGqDo3p', 'duration_ms': 192482, 'time_signature': 4}]\n",
      "[{'danceability': 0.74, 'energy': 0.934, 'key': 7, 'loudness': -3.255, 'mode': 1, 'speechiness': 0.316, 'acousticness': 0.00822, 'instrumentalness': 0.000377, 'liveness': 0.116, 'valence': 0.685, 'tempo': 124.936, 'type': 'audio_features', 'id': '0m69QNuZVZDXhGHBGK1mQA', 'uri': 'spotify:track:0m69QNuZVZDXhGHBGK1mQA', 'track_href': 'https://api.spotify.com/v1/tracks/0m69QNuZVZDXhGHBGK1mQA', 'analysis_url': 'https://api.spotify.com/v1/audio-analysis/0m69QNuZVZDXhGHBGK1mQA', 'duration_ms': 154680, 'time_signature': 4}]\n",
      "[{'danceability': 0.889, 'energy': 0.859, 'key': 11, 'loudness': -5.11, 'mode': 1, 'speechiness': 0.205, 'acousticness': 0.0216, 'instrumentalness': 0.106, 'liveness': 0.737, 'valence': 0.828, 'tempo': 124.958, 'type': 'audio_features', 'id': '4PfzZIFxK10aHXupOm4qEu', 'uri': 'spotify:track:4PfzZIFxK10aHXupOm4qEu', 'track_href': 'https://api.spotify.com/v1/tracks/4PfzZIFxK10aHXupOm4qEu', 'analysis_url': 'https://api.spotify.com/v1/audio-analysis/4PfzZIFxK10aHXupOm4qEu', 'duration_ms': 142560, 'time_signature': 4}]\n",
      "[{'danceability': 0.84, 'energy': 0.868, 'key': 11, 'loudness': -6.173, 'mode': 0, 'speechiness': 0.0721, 'acousticness': 0.0259, 'instrumentalness': 0.573, 'liveness': 0.0891, 'valence': 0.851, 'tempo': 126.001, 'type': 'audio_features', 'id': '6uABa7vKOgFqXnwvk8NBr5', 'uri': 'spotify:track:6uABa7vKOgFqXnwvk8NBr5', 'track_href': 'https://api.spotify.com/v1/tracks/6uABa7vKOgFqXnwvk8NBr5', 'analysis_url': 'https://api.spotify.com/v1/audio-analysis/6uABa7vKOgFqXnwvk8NBr5', 'duration_ms': 203810, 'time_signature': 4}]\n",
      "[{'danceability': 0.74, 'energy': 0.989, 'key': 10, 'loudness': -4.193, 'mode': 1, 'speechiness': 0.0469, 'acousticness': 0.00276, 'instrumentalness': 0.956, 'liveness': 0.306, 'valence': 0.934, 'tempo': 125.001, 'type': 'audio_features', 'id': '6fcHhf9bix2uLbKHApSkNy', 'uri': 'spotify:track:6fcHhf9bix2uLbKHApSkNy', 'track_href': 'https://api.spotify.com/v1/tracks/6fcHhf9bix2uLbKHApSkNy', 'analysis_url': 'https://api.spotify.com/v1/audio-analysis/6fcHhf9bix2uLbKHApSkNy', 'duration_ms': 142080, 'time_signature': 4}]\n",
      "[{'danceability': 0.789, 'energy': 0.845, 'key': 8, 'loudness': -5.106, 'mode': 0, 'speechiness': 0.0494, 'acousticness': 0.000846, 'instrumentalness': 0.549, 'liveness': 0.426, 'valence': 0.604, 'tempo': 123.016, 'type': 'audio_features', 'id': '6AhhLgwVupMjfnX0HL9voF', 'uri': 'spotify:track:6AhhLgwVupMjfnX0HL9voF', 'track_href': 'https://api.spotify.com/v1/tracks/6AhhLgwVupMjfnX0HL9voF', 'analysis_url': 'https://api.spotify.com/v1/audio-analysis/6AhhLgwVupMjfnX0HL9voF', 'duration_ms': 166830, 'time_signature': 4}]\n",
      "[{'danceability': 0.555, 'energy': 0.936, 'key': 1, 'loudness': -4.569, 'mode': 1, 'speechiness': 0.0375, 'acousticness': 0.00505, 'instrumentalness': 0.438, 'liveness': 0.0775, 'valence': 0.275, 'tempo': 128.022, 'type': 'audio_features', 'id': '2TtXot2tzeHkuE7NdnqfPK', 'uri': 'spotify:track:2TtXot2tzeHkuE7NdnqfPK', 'track_href': 'https://api.spotify.com/v1/tracks/2TtXot2tzeHkuE7NdnqfPK', 'analysis_url': 'https://api.spotify.com/v1/audio-analysis/2TtXot2tzeHkuE7NdnqfPK', 'duration_ms': 152109, 'time_signature': 4}]\n",
      "[{'danceability': 0.861, 'energy': 0.831, 'key': 0, 'loudness': -7.564, 'mode': 1, 'speechiness': 0.0538, 'acousticness': 0.00975, 'instrumentalness': 0.122, 'liveness': 0.126, 'valence': 0.727, 'tempo': 125.034, 'type': 'audio_features', 'id': '3Xlp18gV07wZeRR3Pj4iFN', 'uri': 'spotify:track:3Xlp18gV07wZeRR3Pj4iFN', 'track_href': 'https://api.spotify.com/v1/tracks/3Xlp18gV07wZeRR3Pj4iFN', 'analysis_url': 'https://api.spotify.com/v1/audio-analysis/3Xlp18gV07wZeRR3Pj4iFN', 'duration_ms': 193920, 'time_signature': 4}]\n",
      "[{'danceability': 0.733, 'energy': 0.962, 'key': 4, 'loudness': -2.669, 'mode': 0, 'speechiness': 0.151, 'acousticness': 0.00051, 'instrumentalness': 0.42, 'liveness': 0.251, 'valence': 0.448, 'tempo': 125.008, 'type': 'audio_features', 'id': '6zm3myLdhev6UuL8xOewow', 'uri': 'spotify:track:6zm3myLdhev6UuL8xOewow', 'track_href': 'https://api.spotify.com/v1/tracks/6zm3myLdhev6UuL8xOewow', 'analysis_url': 'https://api.spotify.com/v1/audio-analysis/6zm3myLdhev6UuL8xOewow', 'duration_ms': 180850, 'time_signature': 4}]\n",
      "[{'danceability': 0.866, 'energy': 0.849, 'key': 1, 'loudness': -5.428, 'mode': 0, 'speechiness': 0.0517, 'acousticness': 0.0292, 'instrumentalness': 0.229, 'liveness': 0.104, 'valence': 0.396, 'tempo': 124.016, 'type': 'audio_features', 'id': '6nb05BB7biunHmwTKok5m8', 'uri': 'spotify:track:6nb05BB7biunHmwTKok5m8', 'track_href': 'https://api.spotify.com/v1/tracks/6nb05BB7biunHmwTKok5m8', 'analysis_url': 'https://api.spotify.com/v1/audio-analysis/6nb05BB7biunHmwTKok5m8', 'duration_ms': 212908, 'time_signature': 4}]\n"
     ]
    }
   ],
   "source": [
    "for i in range(0, 10):\n",
    "    print(sp.audio_features(tracks = songs_all[i]))"
   ]
  },
  {
   "cell_type": "code",
   "execution_count": 24,
   "metadata": {},
   "outputs": [
    {
     "output_type": "stream",
     "name": "stdout",
     "text": [
      "None\n"
     ]
    }
   ],
   "source": []
  },
  {
   "cell_type": "code",
   "execution_count": 10,
   "metadata": {},
   "outputs": [],
   "source": [
    "def song_feature_ext(playlist):\n",
    "    result = pd.DataFrame()\n",
    "    for i in range(len(playlist)):\n",
    "        song_feat = sp.audio_features(tracks = playlist[i])\n",
    "        result = pd.concat([result, song_feat], ignore_index=True)\n",
    "\n",
    "    return result"
   ]
  },
  {
   "cell_type": "code",
   "execution_count": 11,
   "metadata": {},
   "outputs": [
    {
     "output_type": "error",
     "ename": "TypeError",
     "evalue": "cannot concatenate object of type '<class 'list'>'; only Series and DataFrame objs are valid",
     "traceback": [
      "\u001b[1;31m---------------------------------------------------------------------------\u001b[0m",
      "\u001b[1;31mTypeError\u001b[0m                                 Traceback (most recent call last)",
      "\u001b[1;32m<ipython-input-11-e74c06051314>\u001b[0m in \u001b[0;36m<module>\u001b[1;34m\u001b[0m\n\u001b[1;32m----> 1\u001b[1;33m \u001b[0msong_feature_ext\u001b[0m\u001b[1;33m(\u001b[0m\u001b[0msongs_all\u001b[0m\u001b[1;33m)\u001b[0m\u001b[1;33m\u001b[0m\u001b[1;33m\u001b[0m\u001b[0m\n\u001b[0m",
      "\u001b[1;32m<ipython-input-10-1930d50bba16>\u001b[0m in \u001b[0;36msong_feature_ext\u001b[1;34m(playlist)\u001b[0m\n\u001b[0;32m      3\u001b[0m     \u001b[1;32mfor\u001b[0m \u001b[0mi\u001b[0m \u001b[1;32min\u001b[0m \u001b[0mrange\u001b[0m\u001b[1;33m(\u001b[0m\u001b[0mlen\u001b[0m\u001b[1;33m(\u001b[0m\u001b[0mplaylist\u001b[0m\u001b[1;33m)\u001b[0m\u001b[1;33m)\u001b[0m\u001b[1;33m:\u001b[0m\u001b[1;33m\u001b[0m\u001b[1;33m\u001b[0m\u001b[0m\n\u001b[0;32m      4\u001b[0m         \u001b[0msong_feat\u001b[0m \u001b[1;33m=\u001b[0m \u001b[0msp\u001b[0m\u001b[1;33m.\u001b[0m\u001b[0maudio_features\u001b[0m\u001b[1;33m(\u001b[0m\u001b[0mtracks\u001b[0m \u001b[1;33m=\u001b[0m \u001b[0mplaylist\u001b[0m\u001b[1;33m[\u001b[0m\u001b[0mi\u001b[0m\u001b[1;33m]\u001b[0m\u001b[1;33m)\u001b[0m\u001b[1;33m\u001b[0m\u001b[1;33m\u001b[0m\u001b[0m\n\u001b[1;32m----> 5\u001b[1;33m         \u001b[0mresult\u001b[0m \u001b[1;33m=\u001b[0m \u001b[0mpd\u001b[0m\u001b[1;33m.\u001b[0m\u001b[0mconcat\u001b[0m\u001b[1;33m(\u001b[0m\u001b[1;33m[\u001b[0m\u001b[0mresult\u001b[0m\u001b[1;33m,\u001b[0m \u001b[0msong_feat\u001b[0m\u001b[1;33m]\u001b[0m\u001b[1;33m,\u001b[0m \u001b[0mignore_index\u001b[0m\u001b[1;33m=\u001b[0m\u001b[1;32mTrue\u001b[0m\u001b[1;33m)\u001b[0m\u001b[1;33m\u001b[0m\u001b[1;33m\u001b[0m\u001b[0m\n\u001b[0m\u001b[0;32m      6\u001b[0m \u001b[1;33m\u001b[0m\u001b[0m\n\u001b[0;32m      7\u001b[0m     \u001b[1;32mreturn\u001b[0m \u001b[0mresult\u001b[0m\u001b[1;33m\u001b[0m\u001b[1;33m\u001b[0m\u001b[0m\n",
      "\u001b[1;32m~\\AppData\\Local\\Programs\\Python\\Python38\\lib\\site-packages\\pandas\\core\\reshape\\concat.py\u001b[0m in \u001b[0;36mconcat\u001b[1;34m(objs, axis, join, ignore_index, keys, levels, names, verify_integrity, sort, copy)\u001b[0m\n\u001b[0;32m    272\u001b[0m     \u001b[0mValueError\u001b[0m\u001b[1;33m:\u001b[0m \u001b[0mIndexes\u001b[0m \u001b[0mhave\u001b[0m \u001b[0moverlapping\u001b[0m \u001b[0mvalues\u001b[0m\u001b[1;33m:\u001b[0m \u001b[1;33m[\u001b[0m\u001b[1;34m'a'\u001b[0m\u001b[1;33m]\u001b[0m\u001b[1;33m\u001b[0m\u001b[1;33m\u001b[0m\u001b[0m\n\u001b[0;32m    273\u001b[0m     \"\"\"\n\u001b[1;32m--> 274\u001b[1;33m     op = _Concatenator(\n\u001b[0m\u001b[0;32m    275\u001b[0m         \u001b[0mobjs\u001b[0m\u001b[1;33m,\u001b[0m\u001b[1;33m\u001b[0m\u001b[1;33m\u001b[0m\u001b[0m\n\u001b[0;32m    276\u001b[0m         \u001b[0maxis\u001b[0m\u001b[1;33m=\u001b[0m\u001b[0maxis\u001b[0m\u001b[1;33m,\u001b[0m\u001b[1;33m\u001b[0m\u001b[1;33m\u001b[0m\u001b[0m\n",
      "\u001b[1;32m~\\AppData\\Local\\Programs\\Python\\Python38\\lib\\site-packages\\pandas\\core\\reshape\\concat.py\u001b[0m in \u001b[0;36m__init__\u001b[1;34m(self, objs, axis, join, keys, levels, names, ignore_index, verify_integrity, copy, sort)\u001b[0m\n\u001b[0;32m    357\u001b[0m                     \u001b[1;34m\"only Series and DataFrame objs are valid\"\u001b[0m\u001b[1;33m\u001b[0m\u001b[1;33m\u001b[0m\u001b[0m\n\u001b[0;32m    358\u001b[0m                 )\n\u001b[1;32m--> 359\u001b[1;33m                 \u001b[1;32mraise\u001b[0m \u001b[0mTypeError\u001b[0m\u001b[1;33m(\u001b[0m\u001b[0mmsg\u001b[0m\u001b[1;33m)\u001b[0m\u001b[1;33m\u001b[0m\u001b[1;33m\u001b[0m\u001b[0m\n\u001b[0m\u001b[0;32m    360\u001b[0m \u001b[1;33m\u001b[0m\u001b[0m\n\u001b[0;32m    361\u001b[0m             \u001b[1;31m# consolidate\u001b[0m\u001b[1;33m\u001b[0m\u001b[1;33m\u001b[0m\u001b[1;33m\u001b[0m\u001b[0m\n",
      "\u001b[1;31mTypeError\u001b[0m: cannot concatenate object of type '<class 'list'>'; only Series and DataFrame objs are valid"
     ]
    }
   ],
   "source": []
  },
  {
   "cell_type": "code",
   "execution_count": 13,
   "metadata": {},
   "outputs": [
    {
     "output_type": "error",
     "ename": "TypeError",
     "evalue": "cannot concatenate object of type '<class 'list'>'; only Series and DataFrame objs are valid",
     "traceback": [
      "\u001b[1;31m---------------------------------------------------------------------------\u001b[0m",
      "\u001b[1;31mTypeError\u001b[0m                                 Traceback (most recent call last)",
      "\u001b[1;32m<ipython-input-13-251a3ecf4972>\u001b[0m in \u001b[0;36m<module>\u001b[1;34m\u001b[0m\n\u001b[0;32m      3\u001b[0m \u001b[1;32mfor\u001b[0m \u001b[0mi\u001b[0m \u001b[1;32min\u001b[0m \u001b[0mrange\u001b[0m\u001b[1;33m(\u001b[0m\u001b[0mlen\u001b[0m\u001b[1;33m(\u001b[0m\u001b[0msongs_all\u001b[0m\u001b[1;33m)\u001b[0m\u001b[1;33m)\u001b[0m\u001b[1;33m:\u001b[0m\u001b[1;33m\u001b[0m\u001b[1;33m\u001b[0m\u001b[0m\n\u001b[0;32m      4\u001b[0m     \u001b[0mdf\u001b[0m \u001b[1;33m=\u001b[0m \u001b[0msp\u001b[0m\u001b[1;33m.\u001b[0m\u001b[0maudio_features\u001b[0m\u001b[1;33m(\u001b[0m\u001b[0msongs_all\u001b[0m\u001b[1;33m[\u001b[0m\u001b[0mi\u001b[0m\u001b[1;33m]\u001b[0m\u001b[1;33m)\u001b[0m\u001b[1;33m\u001b[0m\u001b[1;33m\u001b[0m\u001b[0m\n\u001b[1;32m----> 5\u001b[1;33m     \u001b[0mresult\u001b[0m \u001b[1;33m=\u001b[0m \u001b[0mpd\u001b[0m\u001b[1;33m.\u001b[0m\u001b[0mconcat\u001b[0m\u001b[1;33m(\u001b[0m\u001b[1;33m[\u001b[0m\u001b[0mresult\u001b[0m\u001b[1;33m,\u001b[0m \u001b[0mdf\u001b[0m\u001b[1;33m]\u001b[0m\u001b[1;33m,\u001b[0m \u001b[0mignore_index\u001b[0m\u001b[1;33m=\u001b[0m\u001b[1;32mTrue\u001b[0m\u001b[1;33m)\u001b[0m\u001b[1;33m\u001b[0m\u001b[1;33m\u001b[0m\u001b[0m\n\u001b[0m\u001b[0;32m      6\u001b[0m \u001b[1;33m\u001b[0m\u001b[0m\n\u001b[0;32m      7\u001b[0m \u001b[0mresult\u001b[0m \u001b[1;33m=\u001b[0m \u001b[0mresult\u001b[0m\u001b[1;33m.\u001b[0m\u001b[0mdrop_duplicates\u001b[0m\u001b[1;33m(\u001b[0m\u001b[1;33m)\u001b[0m\u001b[1;33m\u001b[0m\u001b[1;33m\u001b[0m\u001b[0m\n",
      "\u001b[1;32m~\\AppData\\Local\\Programs\\Python\\Python38\\lib\\site-packages\\pandas\\core\\reshape\\concat.py\u001b[0m in \u001b[0;36mconcat\u001b[1;34m(objs, axis, join, ignore_index, keys, levels, names, verify_integrity, sort, copy)\u001b[0m\n\u001b[0;32m    272\u001b[0m     \u001b[0mValueError\u001b[0m\u001b[1;33m:\u001b[0m \u001b[0mIndexes\u001b[0m \u001b[0mhave\u001b[0m \u001b[0moverlapping\u001b[0m \u001b[0mvalues\u001b[0m\u001b[1;33m:\u001b[0m \u001b[1;33m[\u001b[0m\u001b[1;34m'a'\u001b[0m\u001b[1;33m]\u001b[0m\u001b[1;33m\u001b[0m\u001b[1;33m\u001b[0m\u001b[0m\n\u001b[0;32m    273\u001b[0m     \"\"\"\n\u001b[1;32m--> 274\u001b[1;33m     op = _Concatenator(\n\u001b[0m\u001b[0;32m    275\u001b[0m         \u001b[0mobjs\u001b[0m\u001b[1;33m,\u001b[0m\u001b[1;33m\u001b[0m\u001b[1;33m\u001b[0m\u001b[0m\n\u001b[0;32m    276\u001b[0m         \u001b[0maxis\u001b[0m\u001b[1;33m=\u001b[0m\u001b[0maxis\u001b[0m\u001b[1;33m,\u001b[0m\u001b[1;33m\u001b[0m\u001b[1;33m\u001b[0m\u001b[0m\n",
      "\u001b[1;32m~\\AppData\\Local\\Programs\\Python\\Python38\\lib\\site-packages\\pandas\\core\\reshape\\concat.py\u001b[0m in \u001b[0;36m__init__\u001b[1;34m(self, objs, axis, join, keys, levels, names, ignore_index, verify_integrity, copy, sort)\u001b[0m\n\u001b[0;32m    357\u001b[0m                     \u001b[1;34m\"only Series and DataFrame objs are valid\"\u001b[0m\u001b[1;33m\u001b[0m\u001b[1;33m\u001b[0m\u001b[0m\n\u001b[0;32m    358\u001b[0m                 )\n\u001b[1;32m--> 359\u001b[1;33m                 \u001b[1;32mraise\u001b[0m \u001b[0mTypeError\u001b[0m\u001b[1;33m(\u001b[0m\u001b[0mmsg\u001b[0m\u001b[1;33m)\u001b[0m\u001b[1;33m\u001b[0m\u001b[1;33m\u001b[0m\u001b[0m\n\u001b[0m\u001b[0;32m    360\u001b[0m \u001b[1;33m\u001b[0m\u001b[0m\n\u001b[0;32m    361\u001b[0m             \u001b[1;31m# consolidate\u001b[0m\u001b[1;33m\u001b[0m\u001b[1;33m\u001b[0m\u001b[1;33m\u001b[0m\u001b[0m\n",
      "\u001b[1;31mTypeError\u001b[0m: cannot concatenate object of type '<class 'list'>'; only Series and DataFrame objs are valid"
     ]
    }
   ],
   "source": [
    "result = pd.DataFrame()\n",
    "\n",
    "for i in range(len(songs_all)):\n",
    "    df = sp.audio_features(songs_all[i])\n",
    "    result = pd.concat([result, df], ignore_index=True)\n",
    "\n",
    "result = result.drop_duplicates()\n",
    "return result"
   ]
  },
  {
   "cell_type": "code",
   "execution_count": 66,
   "metadata": {
    "tags": []
   },
   "outputs": [
    {
     "output_type": "error",
     "ename": "KeyError",
     "evalue": "0",
     "traceback": [
      "\u001b[1;31m---------------------------------------------------------------------------\u001b[0m",
      "\u001b[1;31mKeyError\u001b[0m                                  Traceback (most recent call last)",
      "\u001b[1;32m~\\AppData\\Local\\Programs\\Python\\Python38\\lib\\site-packages\\pandas\\core\\indexes\\base.py\u001b[0m in \u001b[0;36mget_loc\u001b[1;34m(self, key, method, tolerance)\u001b[0m\n\u001b[0;32m   2888\u001b[0m             \u001b[1;32mtry\u001b[0m\u001b[1;33m:\u001b[0m\u001b[1;33m\u001b[0m\u001b[1;33m\u001b[0m\u001b[0m\n\u001b[1;32m-> 2889\u001b[1;33m                 \u001b[1;32mreturn\u001b[0m \u001b[0mself\u001b[0m\u001b[1;33m.\u001b[0m\u001b[0m_engine\u001b[0m\u001b[1;33m.\u001b[0m\u001b[0mget_loc\u001b[0m\u001b[1;33m(\u001b[0m\u001b[0mcasted_key\u001b[0m\u001b[1;33m)\u001b[0m\u001b[1;33m\u001b[0m\u001b[1;33m\u001b[0m\u001b[0m\n\u001b[0m\u001b[0;32m   2890\u001b[0m             \u001b[1;32mexcept\u001b[0m \u001b[0mKeyError\u001b[0m \u001b[1;32mas\u001b[0m \u001b[0merr\u001b[0m\u001b[1;33m:\u001b[0m\u001b[1;33m\u001b[0m\u001b[1;33m\u001b[0m\u001b[0m\n",
      "\u001b[1;32mpandas\\_libs\\index.pyx\u001b[0m in \u001b[0;36mpandas._libs.index.IndexEngine.get_loc\u001b[1;34m()\u001b[0m\n",
      "\u001b[1;32mpandas\\_libs\\index.pyx\u001b[0m in \u001b[0;36mpandas._libs.index.IndexEngine.get_loc\u001b[1;34m()\u001b[0m\n",
      "\u001b[1;32mpandas\\_libs\\hashtable_class_helper.pxi\u001b[0m in \u001b[0;36mpandas._libs.hashtable.PyObjectHashTable.get_item\u001b[1;34m()\u001b[0m\n",
      "\u001b[1;32mpandas\\_libs\\hashtable_class_helper.pxi\u001b[0m in \u001b[0;36mpandas._libs.hashtable.PyObjectHashTable.get_item\u001b[1;34m()\u001b[0m\n",
      "\u001b[1;31mKeyError\u001b[0m: 0",
      "\nThe above exception was the direct cause of the following exception:\n",
      "\u001b[1;31mKeyError\u001b[0m                                  Traceback (most recent call last)",
      "\u001b[1;32m<ipython-input-66-84e67bc2e475>\u001b[0m in \u001b[0;36m<module>\u001b[1;34m\u001b[0m\n\u001b[0;32m      1\u001b[0m \u001b[1;32mfor\u001b[0m \u001b[0mi\u001b[0m \u001b[1;32min\u001b[0m \u001b[0mrange\u001b[0m\u001b[1;33m(\u001b[0m\u001b[1;36m0\u001b[0m\u001b[1;33m,\u001b[0m \u001b[0mlen\u001b[0m\u001b[1;33m(\u001b[0m\u001b[0msongs_all\u001b[0m\u001b[1;33m)\u001b[0m\u001b[1;33m)\u001b[0m\u001b[1;33m:\u001b[0m\u001b[1;33m\u001b[0m\u001b[1;33m\u001b[0m\u001b[0m\n\u001b[1;32m----> 2\u001b[1;33m     \u001b[0msongs_sahi\u001b[0m\u001b[1;33m[\u001b[0m\u001b[0mi\u001b[0m\u001b[1;33m]\u001b[0m\u001b[1;33m[\u001b[0m\u001b[1;36m18\u001b[0m\u001b[1;33m]\u001b[0m \u001b[1;33m=\u001b[0m \u001b[0mpd\u001b[0m\u001b[1;33m.\u001b[0m\u001b[0mDataFrame\u001b[0m\u001b[1;33m(\u001b[0m\u001b[0msp\u001b[0m\u001b[1;33m.\u001b[0m\u001b[0maudio_features\u001b[0m\u001b[1;33m(\u001b[0m\u001b[0msongs_all\u001b[0m\u001b[1;33m[\u001b[0m\u001b[0mi\u001b[0m\u001b[1;33m]\u001b[0m\u001b[1;33m)\u001b[0m\u001b[1;33m)\u001b[0m\u001b[1;33m\u001b[0m\u001b[1;33m\u001b[0m\u001b[0m\n\u001b[0m",
      "\u001b[1;32m~\\AppData\\Local\\Programs\\Python\\Python38\\lib\\site-packages\\pandas\\core\\frame.py\u001b[0m in \u001b[0;36m__getitem__\u001b[1;34m(self, key)\u001b[0m\n\u001b[0;32m   2900\u001b[0m             \u001b[1;32mif\u001b[0m \u001b[0mself\u001b[0m\u001b[1;33m.\u001b[0m\u001b[0mcolumns\u001b[0m\u001b[1;33m.\u001b[0m\u001b[0mnlevels\u001b[0m \u001b[1;33m>\u001b[0m \u001b[1;36m1\u001b[0m\u001b[1;33m:\u001b[0m\u001b[1;33m\u001b[0m\u001b[1;33m\u001b[0m\u001b[0m\n\u001b[0;32m   2901\u001b[0m                 \u001b[1;32mreturn\u001b[0m \u001b[0mself\u001b[0m\u001b[1;33m.\u001b[0m\u001b[0m_getitem_multilevel\u001b[0m\u001b[1;33m(\u001b[0m\u001b[0mkey\u001b[0m\u001b[1;33m)\u001b[0m\u001b[1;33m\u001b[0m\u001b[1;33m\u001b[0m\u001b[0m\n\u001b[1;32m-> 2902\u001b[1;33m             \u001b[0mindexer\u001b[0m \u001b[1;33m=\u001b[0m \u001b[0mself\u001b[0m\u001b[1;33m.\u001b[0m\u001b[0mcolumns\u001b[0m\u001b[1;33m.\u001b[0m\u001b[0mget_loc\u001b[0m\u001b[1;33m(\u001b[0m\u001b[0mkey\u001b[0m\u001b[1;33m)\u001b[0m\u001b[1;33m\u001b[0m\u001b[1;33m\u001b[0m\u001b[0m\n\u001b[0m\u001b[0;32m   2903\u001b[0m             \u001b[1;32mif\u001b[0m \u001b[0mis_integer\u001b[0m\u001b[1;33m(\u001b[0m\u001b[0mindexer\u001b[0m\u001b[1;33m)\u001b[0m\u001b[1;33m:\u001b[0m\u001b[1;33m\u001b[0m\u001b[1;33m\u001b[0m\u001b[0m\n\u001b[0;32m   2904\u001b[0m                 \u001b[0mindexer\u001b[0m \u001b[1;33m=\u001b[0m \u001b[1;33m[\u001b[0m\u001b[0mindexer\u001b[0m\u001b[1;33m]\u001b[0m\u001b[1;33m\u001b[0m\u001b[1;33m\u001b[0m\u001b[0m\n",
      "\u001b[1;32m~\\AppData\\Local\\Programs\\Python\\Python38\\lib\\site-packages\\pandas\\core\\indexes\\base.py\u001b[0m in \u001b[0;36mget_loc\u001b[1;34m(self, key, method, tolerance)\u001b[0m\n\u001b[0;32m   2889\u001b[0m                 \u001b[1;32mreturn\u001b[0m \u001b[0mself\u001b[0m\u001b[1;33m.\u001b[0m\u001b[0m_engine\u001b[0m\u001b[1;33m.\u001b[0m\u001b[0mget_loc\u001b[0m\u001b[1;33m(\u001b[0m\u001b[0mcasted_key\u001b[0m\u001b[1;33m)\u001b[0m\u001b[1;33m\u001b[0m\u001b[1;33m\u001b[0m\u001b[0m\n\u001b[0;32m   2890\u001b[0m             \u001b[1;32mexcept\u001b[0m \u001b[0mKeyError\u001b[0m \u001b[1;32mas\u001b[0m \u001b[0merr\u001b[0m\u001b[1;33m:\u001b[0m\u001b[1;33m\u001b[0m\u001b[1;33m\u001b[0m\u001b[0m\n\u001b[1;32m-> 2891\u001b[1;33m                 \u001b[1;32mraise\u001b[0m \u001b[0mKeyError\u001b[0m\u001b[1;33m(\u001b[0m\u001b[0mkey\u001b[0m\u001b[1;33m)\u001b[0m \u001b[1;32mfrom\u001b[0m \u001b[0merr\u001b[0m\u001b[1;33m\u001b[0m\u001b[1;33m\u001b[0m\u001b[0m\n\u001b[0m\u001b[0;32m   2892\u001b[0m \u001b[1;33m\u001b[0m\u001b[0m\n\u001b[0;32m   2893\u001b[0m         \u001b[1;32mif\u001b[0m \u001b[0mtolerance\u001b[0m \u001b[1;32mis\u001b[0m \u001b[1;32mnot\u001b[0m \u001b[1;32mNone\u001b[0m\u001b[1;33m:\u001b[0m\u001b[1;33m\u001b[0m\u001b[1;33m\u001b[0m\u001b[0m\n",
      "\u001b[1;31mKeyError\u001b[0m: 0"
     ]
    }
   ],
   "source": [
    "for i in range(0, len(songs_all)):\n",
    "    pd.DataFrame(sp.audio_features(songs_all[i]))\n"
   ]
  },
  {
   "cell_type": "code",
   "execution_count": 65,
   "metadata": {},
   "outputs": [
    {
     "output_type": "execute_result",
     "data": {
      "text/plain": [
       "   danceability  energy  key  loudness  mode  speechiness  acousticness  \\\n",
       "0          0.84   0.868   11    -6.173     0       0.0721        0.0259   \n",
       "\n",
       "   instrumentalness  liveness  valence    tempo            type  \\\n",
       "0             0.573    0.0891    0.851  126.001  audio_features   \n",
       "\n",
       "                       id                                   uri  \\\n",
       "0  6uABa7vKOgFqXnwvk8NBr5  spotify:track:6uABa7vKOgFqXnwvk8NBr5   \n",
       "\n",
       "                                          track_href  \\\n",
       "0  https://api.spotify.com/v1/tracks/6uABa7vKOgFq...   \n",
       "\n",
       "                                        analysis_url  duration_ms  \\\n",
       "0  https://api.spotify.com/v1/audio-analysis/6uAB...       203810   \n",
       "\n",
       "   time_signature  \n",
       "0               4  "
      ],
      "text/html": "<div>\n<style scoped>\n    .dataframe tbody tr th:only-of-type {\n        vertical-align: middle;\n    }\n\n    .dataframe tbody tr th {\n        vertical-align: top;\n    }\n\n    .dataframe thead th {\n        text-align: right;\n    }\n</style>\n<table border=\"1\" class=\"dataframe\">\n  <thead>\n    <tr style=\"text-align: right;\">\n      <th></th>\n      <th>danceability</th>\n      <th>energy</th>\n      <th>key</th>\n      <th>loudness</th>\n      <th>mode</th>\n      <th>speechiness</th>\n      <th>acousticness</th>\n      <th>instrumentalness</th>\n      <th>liveness</th>\n      <th>valence</th>\n      <th>tempo</th>\n      <th>type</th>\n      <th>id</th>\n      <th>uri</th>\n      <th>track_href</th>\n      <th>analysis_url</th>\n      <th>duration_ms</th>\n      <th>time_signature</th>\n    </tr>\n  </thead>\n  <tbody>\n    <tr>\n      <th>0</th>\n      <td>0.84</td>\n      <td>0.868</td>\n      <td>11</td>\n      <td>-6.173</td>\n      <td>0</td>\n      <td>0.0721</td>\n      <td>0.0259</td>\n      <td>0.573</td>\n      <td>0.0891</td>\n      <td>0.851</td>\n      <td>126.001</td>\n      <td>audio_features</td>\n      <td>6uABa7vKOgFqXnwvk8NBr5</td>\n      <td>spotify:track:6uABa7vKOgFqXnwvk8NBr5</td>\n      <td>https://api.spotify.com/v1/tracks/6uABa7vKOgFq...</td>\n      <td>https://api.spotify.com/v1/audio-analysis/6uAB...</td>\n      <td>203810</td>\n      <td>4</td>\n    </tr>\n  </tbody>\n</table>\n</div>"
     },
     "metadata": {},
     "execution_count": 65
    }
   ],
   "source": [
    "songs_sahi.head(10)"
   ]
  },
  {
   "source": [
    "def get_playlist_track_id1(username, playlist_id, genre):\n",
    "    trackID = []\n",
    "    results = sp.user_playlist(username, playlist_id)\n",
    "    tracks = results['tracks']\n",
    "    show_tracks(tracks, trackID)\n",
    "    while tracks['next']:\n",
    "            tracks = sp.next(tracks)\n",
    "            show_tracks(tracks, trackID)\n",
    "    return trackID, genre"
   ],
   "cell_type": "markdown",
   "metadata": {}
  },
  {
   "cell_type": "code",
   "execution_count": 26,
   "metadata": {},
   "outputs": [
    {
     "output_type": "execute_result",
     "data": {
      "text/plain": [
       "[{'danceability': 0.84,\n",
       "  'energy': 0.868,\n",
       "  'key': 11,\n",
       "  'loudness': -6.173,\n",
       "  'mode': 0,\n",
       "  'speechiness': 0.0721,\n",
       "  'acousticness': 0.0259,\n",
       "  'instrumentalness': 0.573,\n",
       "  'liveness': 0.0891,\n",
       "  'valence': 0.851,\n",
       "  'tempo': 126.001,\n",
       "  'type': 'audio_features',\n",
       "  'id': '6uABa7vKOgFqXnwvk8NBr5',\n",
       "  'uri': 'spotify:track:6uABa7vKOgFqXnwvk8NBr5',\n",
       "  'track_href': 'https://api.spotify.com/v1/tracks/6uABa7vKOgFqXnwvk8NBr5',\n",
       "  'analysis_url': 'https://api.spotify.com/v1/audio-analysis/6uABa7vKOgFqXnwvk8NBr5',\n",
       "  'duration_ms': 203810,\n",
       "  'time_signature': 4}]"
      ]
     },
     "metadata": {},
     "execution_count": 26
    }
   ],
   "source": [
    "sp.audio_features(tracks=['6uABa7vKOgFqXnwvk8NBr5'])"
   ]
  },
  {
   "cell_type": "code",
   "execution_count": 39,
   "metadata": {},
   "outputs": [
    {
     "output_type": "stream",
     "name": "stderr",
     "text": [
      "HTTP Error for GET to https://api.spotify.com/v1/audio-features/?ids=5biCiD9a2EKCVp8L8O8wPs,6UX4Asr5w2q3RVwYTF0wC1,3TRihEWxd7tLwwuZTvjVdA,0dYaNFpo01kKWBnzV4MbGF,6gUDi7QvqriYOYMU2YH0qo,0LO7LNwJ4tHJcv7CuX9uZa,6fslel5Y3JPyeRFSfuAjGe,1OgVa6BCejtHJDTQG6XO6T,7hJ5NZDl0IpsrccbapRpaQ,3CNSqItZGRJSvLEgH1zxr5,6kMVeMGoByxIuWg2BVRXMz,2BD8xyv5o6UpJyAAvoXMPZ,12tUPXD0Vnb8uHTxaVZQfU,2iGulZBZ16s7vGErz9DFJd,0m69QNuZVZDXhGHBGK1mQA,3AjIkDomJhIC4xhyaw66ok,54IysiLnjjhTN7H8X2K9mw,526nTDjQS3dIR0MYyD4gWr,2igAp74O4rtV540H9hMnyQ,7jaA5mg13MhUdFo6LkLreP,7cj4l1zWQI0rDpPSybBuRA,2Cu4UJ2qZvOCFd8XTjjJgx,0jE2RmpcBrh0YNZfp8ceBA,5XztR7gHO7bpK3yXdfV7nk,41274O5qdcalyWv1eBCTl2,4bbS88iLkFjEvRK5FxOtNa,0NX3Jo8fWX20zwXPwxLLAR,37Fnq3qWk110e3uGevD8R9,3YmWaLRgbzZsLkr6zXKB6w,3N28EvZSo2PckQSgg7zgxg,71eu25KcQakQx9TXqiS1NF,0Z0VMtV6tPSY0ww9PL3MdM,6pQl6f19p2zg0M9TpbhM0U,07vHbooCj3zhaa2UIDYj3v,2mFAODPbtZNLi9698SuDvE,6cEgUxJRdS9R21fsOhgs8j,4mZSUkVwYbfQPYiSSNuNb4,3IDc4RYTQ2h30OyRB2BYrV,4YvhiUuNUvXEJsbMLWY5pQ,1S4hGBm48Gbq7fz45k1S4b,2j5yoES74sxehoZBd6k63z,7oIIgjhFHNwIyKAukWjuCQ,0sA3lHzo3lNu3X8xtuYYFY,67vZ5fIlDzfXKdBfjDLuLM,4FKh50y133MUdjKnWjcga9,43nYc5ywiji9yE7KZBFKFZ,5CzVcytRHTH5juoEG0YnXM,2ltjl892Us4NvaArnVAONg,3vLmHIGmaUJ4GvXADFbEXv,6xurTEUdmxul5ABOOld7vZ,3X7T678v7k4RO0mol2lamR,4YBbyf7bgGAglzbmGi7IoZ,714P2xA2Y7wKMhSupYO9Q6,1VSm8VmcwpnxawRkV0h3e3,6RZ09xBlhqB5jPwWLK7Ahg,5ps5QUjKD4x13Hijtvorrh,52hq9N3KN4zEvcz6sJdVW1,3AC1gMP630kDXQT8CWqOFb,0mHxCZiYZQdty8G4bqLfWl,7FiYF0ocZO3hwxrPkJ5wQs,2wP7laanC2qapm97ZzC82t,2Q3vEzYJyBqVHal2ttXOqY,7vJ7LpLkvDpiFATQUCtwgF,4vGk6n4E2MvkjIPPSjghUT,3cHNUEYdnJDEmE8t48d5lc,5x48hodOOEsWj9JHC83xhM,47dtqgpjPycYg89oVaH6xT,7KEOf3i6RzOuArXqXTu6ow,7M5IEhPRehdgudxxVxsgsM,5O6XcPLlh0RddmAHiqAQC7,0SH71CkaIHOwLcgX3QZYdr,5zIPwGXffZhUHfxNOIMRp1,5ZVJ7WPPdZMrPfsK32Vtog,3LHberAH80yZzylZdDGi0b,7CXrFuwp8jXiZhd9p94j9q,6FJJwSFia8HXg326WJ0qvV,66GHqoN3mwwKARvRGod8Cz,0VLLI6JNmoRmW30F4iIBoT,2hlFBRZDypQfKpy8tAIry1,2L8WTgPlZm9rEcx05FUtfU,5lMEfkUTYNl9F0p4i2E0GZ,0CB6B9E6OQh9aJ22CPorV8,4O2Cd6mRDAwXp5ggwDNYep,5EwnPU88m983mboM9KdWpc,45SxUx4OeQYOs92TDQpJHN,3pjdTK0kjLwsOss50BHsD4,47D2zNyvjgp2OVgnt4LoTo,2cORNrP8pv6otnT4WaiL3z,6r4fa6tWLL6x764bH8RA2L,10YoUoKIx96ZJM0NDSkTlV,1YCgN0MuNiCVxrGf8FPkK0,1NXWFiEHTNTvnOnpXrQ8hM,0fQuAFtxqKp5luT5asy4RH,3UoCduko572F4DJI2xuLD7,1hOa05inn4LXbwt6H1yAuZ,7iwisgAPP8WCXXCtK2QJVI,23JydxMgmy1yl9INNwlHWT,2up7qT3giKpxVTPPhzK3lq,4nIOcwMUVG9Q2bBQDcyj8T,2E77zaRvdLQ1Kzcmt6y6KA,4DBXqYkD82vf7XlGItmPJY,0ZkVG5yOdzm4one4qkNy4W,7glYOtfCySdjB0Oo3LxB1C,2KVv2zAjDHxymySY5EIaAz,2AoiIX645978P7Qvz0tKk9,2zMeSXu4ky7L4XkNNkY0ZD,5gvC1g6PngYubIsyMR41ld,0IEf6p66gsjk2RdohNL7Gt,67K6xik2jnMonM7cO35XYT,4UFzDMXNuFkMKGPkBJeqP5,73E8eSsU7hNRgoTZMOaitL,6QTcKwQa66YAyLl4pqP75I,1ZT36B4fO2R7rBCGRb3XIM returned 400 due to invalid request\n"
     ]
    },
    {
     "output_type": "error",
     "ename": "SpotifyException",
     "evalue": "http status: 400, code:-1 - https://api.spotify.com/v1/audio-features/?ids=5biCiD9a2EKCVp8L8O8wPs,6UX4Asr5w2q3RVwYTF0wC1,3TRihEWxd7tLwwuZTvjVdA,0dYaNFpo01kKWBnzV4MbGF,6gUDi7QvqriYOYMU2YH0qo,0LO7LNwJ4tHJcv7CuX9uZa,6fslel5Y3JPyeRFSfuAjGe,1OgVa6BCejtHJDTQG6XO6T,7hJ5NZDl0IpsrccbapRpaQ,3CNSqItZGRJSvLEgH1zxr5,6kMVeMGoByxIuWg2BVRXMz,2BD8xyv5o6UpJyAAvoXMPZ,12tUPXD0Vnb8uHTxaVZQfU,2iGulZBZ16s7vGErz9DFJd,0m69QNuZVZDXhGHBGK1mQA,3AjIkDomJhIC4xhyaw66ok,54IysiLnjjhTN7H8X2K9mw,526nTDjQS3dIR0MYyD4gWr,2igAp74O4rtV540H9hMnyQ,7jaA5mg13MhUdFo6LkLreP,7cj4l1zWQI0rDpPSybBuRA,2Cu4UJ2qZvOCFd8XTjjJgx,0jE2RmpcBrh0YNZfp8ceBA,5XztR7gHO7bpK3yXdfV7nk,41274O5qdcalyWv1eBCTl2,4bbS88iLkFjEvRK5FxOtNa,0NX3Jo8fWX20zwXPwxLLAR,37Fnq3qWk110e3uGevD8R9,3YmWaLRgbzZsLkr6zXKB6w,3N28EvZSo2PckQSgg7zgxg,71eu25KcQakQx9TXqiS1NF,0Z0VMtV6tPSY0ww9PL3MdM,6pQl6f19p2zg0M9TpbhM0U,07vHbooCj3zhaa2UIDYj3v,2mFAODPbtZNLi9698SuDvE,6cEgUxJRdS9R21fsOhgs8j,4mZSUkVwYbfQPYiSSNuNb4,3IDc4RYTQ2h30OyRB2BYrV,4YvhiUuNUvXEJsbMLWY5pQ,1S4hGBm48Gbq7fz45k1S4b,2j5yoES74sxehoZBd6k63z,7oIIgjhFHNwIyKAukWjuCQ,0sA3lHzo3lNu3X8xtuYYFY,67vZ5fIlDzfXKdBfjDLuLM,4FKh50y133MUdjKnWjcga9,43nYc5ywiji9yE7KZBFKFZ,5CzVcytRHTH5juoEG0YnXM,2ltjl892Us4NvaArnVAONg,3vLmHIGmaUJ4GvXADFbEXv,6xurTEUdmxul5ABOOld7vZ,3X7T678v7k4RO0mol2lamR,4YBbyf7bgGAglzbmGi7IoZ,714P2xA2Y7wKMhSupYO9Q6,1VSm8VmcwpnxawRkV0h3e3,6RZ09xBlhqB5jPwWLK7Ahg,5ps5QUjKD4x13Hijtvorrh,52hq9N3KN4zEvcz6sJdVW1,3AC1gMP630kDXQT8CWqOFb,0mHxCZiYZQdty8G4bqLfWl,7FiYF0ocZO3hwxrPkJ5wQs,2wP7laanC2qapm97ZzC82t,2Q3vEzYJyBqVHal2ttXOqY,7vJ7LpLkvDpiFATQUCtwgF,4vGk6n4E2MvkjIPPSjghUT,3cHNUEYdnJDEmE8t48d5lc,5x48hodOOEsWj9JHC83xhM,47dtqgpjPycYg89oVaH6xT,7KEOf3i6RzOuArXqXTu6ow,7M5IEhPRehdgudxxVxsgsM,5O6XcPLlh0RddmAHiqAQC7,0SH71CkaIHOwLcgX3QZYdr,5zIPwGXffZhUHfxNOIMRp1,5ZVJ7WPPdZMrPfsK32Vtog,3LHberAH80yZzylZdDGi0b,7CXrFuwp8jXiZhd9p94j9q,6FJJwSFia8HXg326WJ0qvV,66GHqoN3mwwKARvRGod8Cz,0VLLI6JNmoRmW30F4iIBoT,2hlFBRZDypQfKpy8tAIry1,2L8WTgPlZm9rEcx05FUtfU,5lMEfkUTYNl9F0p4i2E0GZ,0CB6B9E6OQh9aJ22CPorV8,4O2Cd6mRDAwXp5ggwDNYep,5EwnPU88m983mboM9KdWpc,45SxUx4OeQYOs92TDQpJHN,3pjdTK0kjLwsOss50BHsD4,47D2zNyvjgp2OVgnt4LoTo,2cORNrP8pv6otnT4WaiL3z,6r4fa6tWLL6x764bH8RA2L,10YoUoKIx96ZJM0NDSkTlV,1YCgN0MuNiCVxrGf8FPkK0,1NXWFiEHTNTvnOnpXrQ8hM,0fQuAFtxqKp5luT5asy4RH,3UoCduko572F4DJI2xuLD7,1hOa05inn4LXbwt6H1yAuZ,7iwisgAPP8WCXXCtK2QJVI,23JydxMgmy1yl9INNwlHWT,2up7qT3giKpxVTPPhzK3lq,4nIOcwMUVG9Q2bBQDcyj8T,2E77zaRvdLQ1Kzcmt6y6KA,4DBXqYkD82vf7XlGItmPJY,0ZkVG5yOdzm4one4qkNy4W,7glYOtfCySdjB0Oo3LxB1C,2KVv2zAjDHxymySY5EIaAz,2AoiIX645978P7Qvz0tKk9,2zMeSXu4ky7L4XkNNkY0ZD,5gvC1g6PngYubIsyMR41ld,0IEf6p66gsjk2RdohNL7Gt,67K6xik2jnMonM7cO35XYT,4UFzDMXNuFkMKGPkBJeqP5,73E8eSsU7hNRgoTZMOaitL,6QTcKwQa66YAyLl4pqP75I,1ZT36B4fO2R7rBCGRb3XIM:\n invalid request, reason: None",
     "traceback": [
      "\u001b[1;31m---------------------------------------------------------------------------\u001b[0m",
      "\u001b[1;31mHTTPError\u001b[0m                                 Traceback (most recent call last)",
      "\u001b[1;32m~\\AppData\\Local\\Programs\\Python\\Python38\\lib\\site-packages\\spotipy\\client.py\u001b[0m in \u001b[0;36m_internal_call\u001b[1;34m(self, method, url, payload, params)\u001b[0m\n\u001b[0;32m    244\u001b[0m \u001b[1;33m\u001b[0m\u001b[0m\n\u001b[1;32m--> 245\u001b[1;33m             \u001b[0mresponse\u001b[0m\u001b[1;33m.\u001b[0m\u001b[0mraise_for_status\u001b[0m\u001b[1;33m(\u001b[0m\u001b[1;33m)\u001b[0m\u001b[1;33m\u001b[0m\u001b[1;33m\u001b[0m\u001b[0m\n\u001b[0m\u001b[0;32m    246\u001b[0m             \u001b[0mresults\u001b[0m \u001b[1;33m=\u001b[0m \u001b[0mresponse\u001b[0m\u001b[1;33m.\u001b[0m\u001b[0mjson\u001b[0m\u001b[1;33m(\u001b[0m\u001b[1;33m)\u001b[0m\u001b[1;33m\u001b[0m\u001b[1;33m\u001b[0m\u001b[0m\n",
      "\u001b[1;32m~\\AppData\\Local\\Programs\\Python\\Python38\\lib\\site-packages\\requests\\models.py\u001b[0m in \u001b[0;36mraise_for_status\u001b[1;34m(self)\u001b[0m\n\u001b[0;32m    940\u001b[0m         \u001b[1;32mif\u001b[0m \u001b[0mhttp_error_msg\u001b[0m\u001b[1;33m:\u001b[0m\u001b[1;33m\u001b[0m\u001b[1;33m\u001b[0m\u001b[0m\n\u001b[1;32m--> 941\u001b[1;33m             \u001b[1;32mraise\u001b[0m \u001b[0mHTTPError\u001b[0m\u001b[1;33m(\u001b[0m\u001b[0mhttp_error_msg\u001b[0m\u001b[1;33m,\u001b[0m \u001b[0mresponse\u001b[0m\u001b[1;33m=\u001b[0m\u001b[0mself\u001b[0m\u001b[1;33m)\u001b[0m\u001b[1;33m\u001b[0m\u001b[1;33m\u001b[0m\u001b[0m\n\u001b[0m\u001b[0;32m    942\u001b[0m \u001b[1;33m\u001b[0m\u001b[0m\n",
      "\u001b[1;31mHTTPError\u001b[0m: 400 Client Error: Bad Request for url: https://api.spotify.com/v1/audio-features/?ids=5biCiD9a2EKCVp8L8O8wPs,6UX4Asr5w2q3RVwYTF0wC1,3TRihEWxd7tLwwuZTvjVdA,0dYaNFpo01kKWBnzV4MbGF,6gUDi7QvqriYOYMU2YH0qo,0LO7LNwJ4tHJcv7CuX9uZa,6fslel5Y3JPyeRFSfuAjGe,1OgVa6BCejtHJDTQG6XO6T,7hJ5NZDl0IpsrccbapRpaQ,3CNSqItZGRJSvLEgH1zxr5,6kMVeMGoByxIuWg2BVRXMz,2BD8xyv5o6UpJyAAvoXMPZ,12tUPXD0Vnb8uHTxaVZQfU,2iGulZBZ16s7vGErz9DFJd,0m69QNuZVZDXhGHBGK1mQA,3AjIkDomJhIC4xhyaw66ok,54IysiLnjjhTN7H8X2K9mw,526nTDjQS3dIR0MYyD4gWr,2igAp74O4rtV540H9hMnyQ,7jaA5mg13MhUdFo6LkLreP,7cj4l1zWQI0rDpPSybBuRA,2Cu4UJ2qZvOCFd8XTjjJgx,0jE2RmpcBrh0YNZfp8ceBA,5XztR7gHO7bpK3yXdfV7nk,41274O5qdcalyWv1eBCTl2,4bbS88iLkFjEvRK5FxOtNa,0NX3Jo8fWX20zwXPwxLLAR,37Fnq3qWk110e3uGevD8R9,3YmWaLRgbzZsLkr6zXKB6w,3N28EvZSo2PckQSgg7zgxg,71eu25KcQakQx9TXqiS1NF,0Z0VMtV6tPSY0ww9PL3MdM,6pQl6f19p2zg0M9TpbhM0U,07vHbooCj3zhaa2UIDYj3v,2mFAODPbtZNLi9698SuDvE,6cEgUxJRdS9R21fsOhgs8j,4mZSUkVwYbfQPYiSSNuNb4,3IDc4RYTQ2h30OyRB2BYrV,4YvhiUuNUvXEJsbMLWY5pQ,1S4hGBm48Gbq7fz45k1S4b,2j5yoES74sxehoZBd6k63z,7oIIgjhFHNwIyKAukWjuCQ,0sA3lHzo3lNu3X8xtuYYFY,67vZ5fIlDzfXKdBfjDLuLM,4FKh50y133MUdjKnWjcga9,43nYc5ywiji9yE7KZBFKFZ,5CzVcytRHTH5juoEG0YnXM,2ltjl892Us4NvaArnVAONg,3vLmHIGmaUJ4GvXADFbEXv,6xurTEUdmxul5ABOOld7vZ,3X7T678v7k4RO0mol2lamR,4YBbyf7bgGAglzbmGi7IoZ,714P2xA2Y7wKMhSupYO9Q6,1VSm8VmcwpnxawRkV0h3e3,6RZ09xBlhqB5jPwWLK7Ahg,5ps5QUjKD4x13Hijtvorrh,52hq9N3KN4zEvcz6sJdVW1,3AC1gMP630kDXQT8CWqOFb,0mHxCZiYZQdty8G4bqLfWl,7FiYF0ocZO3hwxrPkJ5wQs,2wP7laanC2qapm97ZzC82t,2Q3vEzYJyBqVHal2ttXOqY,7vJ7LpLkvDpiFATQUCtwgF,4vGk6n4E2MvkjIPPSjghUT,3cHNUEYdnJDEmE8t48d5lc,5x48hodOOEsWj9JHC83xhM,47dtqgpjPycYg89oVaH6xT,7KEOf3i6RzOuArXqXTu6ow,7M5IEhPRehdgudxxVxsgsM,5O6XcPLlh0RddmAHiqAQC7,0SH71CkaIHOwLcgX3QZYdr,5zIPwGXffZhUHfxNOIMRp1,5ZVJ7WPPdZMrPfsK32Vtog,3LHberAH80yZzylZdDGi0b,7CXrFuwp8jXiZhd9p94j9q,6FJJwSFia8HXg326WJ0qvV,66GHqoN3mwwKARvRGod8Cz,0VLLI6JNmoRmW30F4iIBoT,2hlFBRZDypQfKpy8tAIry1,2L8WTgPlZm9rEcx05FUtfU,5lMEfkUTYNl9F0p4i2E0GZ,0CB6B9E6OQh9aJ22CPorV8,4O2Cd6mRDAwXp5ggwDNYep,5EwnPU88m983mboM9KdWpc,45SxUx4OeQYOs92TDQpJHN,3pjdTK0kjLwsOss50BHsD4,47D2zNyvjgp2OVgnt4LoTo,2cORNrP8pv6otnT4WaiL3z,6r4fa6tWLL6x764bH8RA2L,10YoUoKIx96ZJM0NDSkTlV,1YCgN0MuNiCVxrGf8FPkK0,1NXWFiEHTNTvnOnpXrQ8hM,0fQuAFtxqKp5luT5asy4RH,3UoCduko572F4DJI2xuLD7,1hOa05inn4LXbwt6H1yAuZ,7iwisgAPP8WCXXCtK2QJVI,23JydxMgmy1yl9INNwlHWT,2up7qT3giKpxVTPPhzK3lq,4nIOcwMUVG9Q2bBQDcyj8T,2E77zaRvdLQ1Kzcmt6y6KA,4DBXqYkD82vf7XlGItmPJY,0ZkVG5yOdzm4one4qkNy4W,7glYOtfCySdjB0Oo3LxB1C,2KVv2zAjDHxymySY5EIaAz,2AoiIX645978P7Qvz0tKk9,2zMeSXu4ky7L4XkNNkY0ZD,5gvC1g6PngYubIsyMR41ld,0IEf6p66gsjk2RdohNL7Gt,67K6xik2jnMonM7cO35XYT,4UFzDMXNuFkMKGPkBJeqP5,73E8eSsU7hNRgoTZMOaitL,6QTcKwQa66YAyLl4pqP75I,1ZT36B4fO2R7rBCGRb3XIM",
      "\nDuring handling of the above exception, another exception occurred:\n",
      "\u001b[1;31mSpotifyException\u001b[0m                          Traceback (most recent call last)",
      "\u001b[1;32m<ipython-input-39-6b90839a45c5>\u001b[0m in \u001b[0;36m<module>\u001b[1;34m\u001b[0m\n\u001b[1;32m----> 1\u001b[1;33m \u001b[0msp\u001b[0m\u001b[1;33m.\u001b[0m\u001b[0maudio_features\u001b[0m\u001b[1;33m(\u001b[0m\u001b[0mtracks\u001b[0m \u001b[1;33m=\u001b[0m \u001b[0mget_playlist_track_id\u001b[0m\u001b[1;33m(\u001b[0m\u001b[0mdf\u001b[0m\u001b[1;33m[\u001b[0m\u001b[1;34m'username'\u001b[0m\u001b[1;33m]\u001b[0m\u001b[1;33m[\u001b[0m\u001b[1;36m1\u001b[0m\u001b[1;33m]\u001b[0m\u001b[1;33m,\u001b[0m \u001b[0mdf\u001b[0m\u001b[1;33m[\u001b[0m\u001b[1;34m'playlistid'\u001b[0m\u001b[1;33m]\u001b[0m\u001b[1;33m[\u001b[0m\u001b[1;36m1\u001b[0m\u001b[1;33m]\u001b[0m\u001b[1;33m)\u001b[0m\u001b[1;33m)\u001b[0m\u001b[1;33m\u001b[0m\u001b[1;33m\u001b[0m\u001b[0m\n\u001b[0m",
      "\u001b[1;32m~\\AppData\\Local\\Programs\\Python\\Python38\\lib\\site-packages\\spotipy\\client.py\u001b[0m in \u001b[0;36maudio_features\u001b[1;34m(self, tracks)\u001b[0m\n\u001b[0;32m   1620\u001b[0m         \u001b[1;32melse\u001b[0m\u001b[1;33m:\u001b[0m\u001b[1;33m\u001b[0m\u001b[1;33m\u001b[0m\u001b[0m\n\u001b[0;32m   1621\u001b[0m             \u001b[0mtlist\u001b[0m \u001b[1;33m=\u001b[0m \u001b[1;33m[\u001b[0m\u001b[0mself\u001b[0m\u001b[1;33m.\u001b[0m\u001b[0m_get_id\u001b[0m\u001b[1;33m(\u001b[0m\u001b[1;34m\"track\"\u001b[0m\u001b[1;33m,\u001b[0m \u001b[0mt\u001b[0m\u001b[1;33m)\u001b[0m \u001b[1;32mfor\u001b[0m \u001b[0mt\u001b[0m \u001b[1;32min\u001b[0m \u001b[0mtracks\u001b[0m\u001b[1;33m]\u001b[0m\u001b[1;33m\u001b[0m\u001b[1;33m\u001b[0m\u001b[0m\n\u001b[1;32m-> 1622\u001b[1;33m             \u001b[0mresults\u001b[0m \u001b[1;33m=\u001b[0m \u001b[0mself\u001b[0m\u001b[1;33m.\u001b[0m\u001b[0m_get\u001b[0m\u001b[1;33m(\u001b[0m\u001b[1;34m\"audio-features/?ids=\"\u001b[0m \u001b[1;33m+\u001b[0m \u001b[1;34m\",\"\u001b[0m\u001b[1;33m.\u001b[0m\u001b[0mjoin\u001b[0m\u001b[1;33m(\u001b[0m\u001b[0mtlist\u001b[0m\u001b[1;33m)\u001b[0m\u001b[1;33m)\u001b[0m\u001b[1;33m\u001b[0m\u001b[1;33m\u001b[0m\u001b[0m\n\u001b[0m\u001b[0;32m   1623\u001b[0m         \u001b[1;31m# the response has changed, look for the new style first, and if\u001b[0m\u001b[1;33m\u001b[0m\u001b[1;33m\u001b[0m\u001b[1;33m\u001b[0m\u001b[0m\n\u001b[0;32m   1624\u001b[0m         \u001b[1;31m# its not there, fallback on the old style\u001b[0m\u001b[1;33m\u001b[0m\u001b[1;33m\u001b[0m\u001b[1;33m\u001b[0m\u001b[0m\n",
      "\u001b[1;32m~\\AppData\\Local\\Programs\\Python\\Python38\\lib\\site-packages\\spotipy\\client.py\u001b[0m in \u001b[0;36m_get\u001b[1;34m(self, url, args, payload, **kwargs)\u001b[0m\n\u001b[0;32m    289\u001b[0m             \u001b[0mkwargs\u001b[0m\u001b[1;33m.\u001b[0m\u001b[0mupdate\u001b[0m\u001b[1;33m(\u001b[0m\u001b[0margs\u001b[0m\u001b[1;33m)\u001b[0m\u001b[1;33m\u001b[0m\u001b[1;33m\u001b[0m\u001b[0m\n\u001b[0;32m    290\u001b[0m \u001b[1;33m\u001b[0m\u001b[0m\n\u001b[1;32m--> 291\u001b[1;33m         \u001b[1;32mreturn\u001b[0m \u001b[0mself\u001b[0m\u001b[1;33m.\u001b[0m\u001b[0m_internal_call\u001b[0m\u001b[1;33m(\u001b[0m\u001b[1;34m\"GET\"\u001b[0m\u001b[1;33m,\u001b[0m \u001b[0murl\u001b[0m\u001b[1;33m,\u001b[0m \u001b[0mpayload\u001b[0m\u001b[1;33m,\u001b[0m \u001b[0mkwargs\u001b[0m\u001b[1;33m)\u001b[0m\u001b[1;33m\u001b[0m\u001b[1;33m\u001b[0m\u001b[0m\n\u001b[0m\u001b[0;32m    292\u001b[0m \u001b[1;33m\u001b[0m\u001b[0m\n\u001b[0;32m    293\u001b[0m     \u001b[1;32mdef\u001b[0m \u001b[0m_post\u001b[0m\u001b[1;33m(\u001b[0m\u001b[0mself\u001b[0m\u001b[1;33m,\u001b[0m \u001b[0murl\u001b[0m\u001b[1;33m,\u001b[0m \u001b[0margs\u001b[0m\u001b[1;33m=\u001b[0m\u001b[1;32mNone\u001b[0m\u001b[1;33m,\u001b[0m \u001b[0mpayload\u001b[0m\u001b[1;33m=\u001b[0m\u001b[1;32mNone\u001b[0m\u001b[1;33m,\u001b[0m \u001b[1;33m**\u001b[0m\u001b[0mkwargs\u001b[0m\u001b[1;33m)\u001b[0m\u001b[1;33m:\u001b[0m\u001b[1;33m\u001b[0m\u001b[1;33m\u001b[0m\u001b[0m\n",
      "\u001b[1;32m~\\AppData\\Local\\Programs\\Python\\Python38\\lib\\site-packages\\spotipy\\client.py\u001b[0m in \u001b[0;36m_internal_call\u001b[1;34m(self, method, url, payload, params)\u001b[0m\n\u001b[0;32m    259\u001b[0m                          method, url, response.status_code, msg)\n\u001b[0;32m    260\u001b[0m \u001b[1;33m\u001b[0m\u001b[0m\n\u001b[1;32m--> 261\u001b[1;33m             raise SpotifyException(\n\u001b[0m\u001b[0;32m    262\u001b[0m                 \u001b[0mresponse\u001b[0m\u001b[1;33m.\u001b[0m\u001b[0mstatus_code\u001b[0m\u001b[1;33m,\u001b[0m\u001b[1;33m\u001b[0m\u001b[1;33m\u001b[0m\u001b[0m\n\u001b[0;32m    263\u001b[0m                 \u001b[1;33m-\u001b[0m\u001b[1;36m1\u001b[0m\u001b[1;33m,\u001b[0m\u001b[1;33m\u001b[0m\u001b[1;33m\u001b[0m\u001b[0m\n",
      "\u001b[1;31mSpotifyException\u001b[0m: http status: 400, code:-1 - https://api.spotify.com/v1/audio-features/?ids=5biCiD9a2EKCVp8L8O8wPs,6UX4Asr5w2q3RVwYTF0wC1,3TRihEWxd7tLwwuZTvjVdA,0dYaNFpo01kKWBnzV4MbGF,6gUDi7QvqriYOYMU2YH0qo,0LO7LNwJ4tHJcv7CuX9uZa,6fslel5Y3JPyeRFSfuAjGe,1OgVa6BCejtHJDTQG6XO6T,7hJ5NZDl0IpsrccbapRpaQ,3CNSqItZGRJSvLEgH1zxr5,6kMVeMGoByxIuWg2BVRXMz,2BD8xyv5o6UpJyAAvoXMPZ,12tUPXD0Vnb8uHTxaVZQfU,2iGulZBZ16s7vGErz9DFJd,0m69QNuZVZDXhGHBGK1mQA,3AjIkDomJhIC4xhyaw66ok,54IysiLnjjhTN7H8X2K9mw,526nTDjQS3dIR0MYyD4gWr,2igAp74O4rtV540H9hMnyQ,7jaA5mg13MhUdFo6LkLreP,7cj4l1zWQI0rDpPSybBuRA,2Cu4UJ2qZvOCFd8XTjjJgx,0jE2RmpcBrh0YNZfp8ceBA,5XztR7gHO7bpK3yXdfV7nk,41274O5qdcalyWv1eBCTl2,4bbS88iLkFjEvRK5FxOtNa,0NX3Jo8fWX20zwXPwxLLAR,37Fnq3qWk110e3uGevD8R9,3YmWaLRgbzZsLkr6zXKB6w,3N28EvZSo2PckQSgg7zgxg,71eu25KcQakQx9TXqiS1NF,0Z0VMtV6tPSY0ww9PL3MdM,6pQl6f19p2zg0M9TpbhM0U,07vHbooCj3zhaa2UIDYj3v,2mFAODPbtZNLi9698SuDvE,6cEgUxJRdS9R21fsOhgs8j,4mZSUkVwYbfQPYiSSNuNb4,3IDc4RYTQ2h30OyRB2BYrV,4YvhiUuNUvXEJsbMLWY5pQ,1S4hGBm48Gbq7fz45k1S4b,2j5yoES74sxehoZBd6k63z,7oIIgjhFHNwIyKAukWjuCQ,0sA3lHzo3lNu3X8xtuYYFY,67vZ5fIlDzfXKdBfjDLuLM,4FKh50y133MUdjKnWjcga9,43nYc5ywiji9yE7KZBFKFZ,5CzVcytRHTH5juoEG0YnXM,2ltjl892Us4NvaArnVAONg,3vLmHIGmaUJ4GvXADFbEXv,6xurTEUdmxul5ABOOld7vZ,3X7T678v7k4RO0mol2lamR,4YBbyf7bgGAglzbmGi7IoZ,714P2xA2Y7wKMhSupYO9Q6,1VSm8VmcwpnxawRkV0h3e3,6RZ09xBlhqB5jPwWLK7Ahg,5ps5QUjKD4x13Hijtvorrh,52hq9N3KN4zEvcz6sJdVW1,3AC1gMP630kDXQT8CWqOFb,0mHxCZiYZQdty8G4bqLfWl,7FiYF0ocZO3hwxrPkJ5wQs,2wP7laanC2qapm97ZzC82t,2Q3vEzYJyBqVHal2ttXOqY,7vJ7LpLkvDpiFATQUCtwgF,4vGk6n4E2MvkjIPPSjghUT,3cHNUEYdnJDEmE8t48d5lc,5x48hodOOEsWj9JHC83xhM,47dtqgpjPycYg89oVaH6xT,7KEOf3i6RzOuArXqXTu6ow,7M5IEhPRehdgudxxVxsgsM,5O6XcPLlh0RddmAHiqAQC7,0SH71CkaIHOwLcgX3QZYdr,5zIPwGXffZhUHfxNOIMRp1,5ZVJ7WPPdZMrPfsK32Vtog,3LHberAH80yZzylZdDGi0b,7CXrFuwp8jXiZhd9p94j9q,6FJJwSFia8HXg326WJ0qvV,66GHqoN3mwwKARvRGod8Cz,0VLLI6JNmoRmW30F4iIBoT,2hlFBRZDypQfKpy8tAIry1,2L8WTgPlZm9rEcx05FUtfU,5lMEfkUTYNl9F0p4i2E0GZ,0CB6B9E6OQh9aJ22CPorV8,4O2Cd6mRDAwXp5ggwDNYep,5EwnPU88m983mboM9KdWpc,45SxUx4OeQYOs92TDQpJHN,3pjdTK0kjLwsOss50BHsD4,47D2zNyvjgp2OVgnt4LoTo,2cORNrP8pv6otnT4WaiL3z,6r4fa6tWLL6x764bH8RA2L,10YoUoKIx96ZJM0NDSkTlV,1YCgN0MuNiCVxrGf8FPkK0,1NXWFiEHTNTvnOnpXrQ8hM,0fQuAFtxqKp5luT5asy4RH,3UoCduko572F4DJI2xuLD7,1hOa05inn4LXbwt6H1yAuZ,7iwisgAPP8WCXXCtK2QJVI,23JydxMgmy1yl9INNwlHWT,2up7qT3giKpxVTPPhzK3lq,4nIOcwMUVG9Q2bBQDcyj8T,2E77zaRvdLQ1Kzcmt6y6KA,4DBXqYkD82vf7XlGItmPJY,0ZkVG5yOdzm4one4qkNy4W,7glYOtfCySdjB0Oo3LxB1C,2KVv2zAjDHxymySY5EIaAz,2AoiIX645978P7Qvz0tKk9,2zMeSXu4ky7L4XkNNkY0ZD,5gvC1g6PngYubIsyMR41ld,0IEf6p66gsjk2RdohNL7Gt,67K6xik2jnMonM7cO35XYT,4UFzDMXNuFkMKGPkBJeqP5,73E8eSsU7hNRgoTZMOaitL,6QTcKwQa66YAyLl4pqP75I,1ZT36B4fO2R7rBCGRb3XIM:\n invalid request, reason: None"
     ]
    }
   ],
   "source": [
    "sp.audio_features(tracks = get_playlist_track_id(df['username'][0], df['playlistid'][0]))"
   ]
  },
  {
   "cell_type": "code",
   "execution_count": null,
   "metadata": {},
   "outputs": [],
   "source": [
    "songs_all"
   ]
  },
  {
   "cell_type": "code",
   "execution_count": 23,
   "metadata": {},
   "outputs": [],
   "source": [
    "song_feat1 = sp.audio_features(tracks = '6uABa7vKOgFqXnwvk8NBr5')"
   ]
  },
  {
   "cell_type": "code",
   "execution_count": null,
   "metadata": {},
   "outputs": [],
   "source": []
  }
 ]
}